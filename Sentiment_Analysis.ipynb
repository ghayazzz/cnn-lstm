{
  "cells": [
    {
      "cell_type": "code",
      "execution_count": 1,
      "metadata": {
        "colab": {
          "base_uri": "https://localhost:8080/"
        },
        "id": "VANaWErcNuiW",
        "outputId": "716f8f51-d89f-423e-b1b7-81726f90f120"
      },
      "outputs": [
        {
          "output_type": "stream",
          "name": "stdout",
          "text": [
            "Mounted at /content/drive\n"
          ]
        }
      ],
      "source": [
        "from google.colab import drive\n",
        "drive.mount('/content/drive')"
      ]
    },
    {
      "cell_type": "markdown",
      "source": [
        "#Mohammed Ghayasuddin - UNB - 3765433"
      ],
      "metadata": {
        "id": "4og71FiOLn9s"
      }
    },
    {
      "cell_type": "markdown",
      "metadata": {
        "id": "gAYdo28LNmBL"
      },
      "source": [
        "## 1. Import Data\n"
      ]
    },
    {
      "cell_type": "code",
      "execution_count": 2,
      "metadata": {
        "id": "f2_3lqPkNmBM"
      },
      "outputs": [],
      "source": [
        "import pandas as pd\n",
        "import numpy as np\n",
        "import tensorflow as tf\n",
        "\n",
        "# text preprocessing\n",
        "from nltk.tokenize import word_tokenize\n",
        "import re #REGEX\n",
        "\n",
        "# plots and metrics\n",
        "import matplotlib.pyplot as plt\n",
        "from sklearn.metrics import accuracy_score, f1_score, confusion_matrix, classification_report\n",
        "from sklearn.model_selection import train_test_split\n",
        "\n",
        "# preparing input to our model\n",
        "from keras.preprocessing.text import Tokenizer\n",
        "from keras.preprocessing.sequence import pad_sequences\n",
        "from tensorflow.keras.utils import to_categorical\n",
        "\n",
        "# keras layers\n",
        "from keras.models import Sequential\n",
        "from keras.layers import Embedding, Conv1D, GlobalMaxPooling1D, Reshape, LSTM, Dense"
      ]
    },
    {
      "cell_type": "markdown",
      "source": [
        "Original Dataset"
      ],
      "metadata": {
        "id": "zGxYHCJYmWrX"
      }
    },
    {
      "cell_type": "code",
      "source": [
        "# original dataset from https://www.kaggle.com/datasets/ankitkumar2635/sentiment-and-emotions-of-tweets/\n",
        "file_path = '/content/drive/MyDrive/Colab Notebooks/sentiment-emotion-labelled_Dell_tweets.csv'\n",
        "data = pd.read_csv(file_path, encoding='utf-8')\n",
        "print('Total values in dataset: ', len(data))\n",
        "data.head(3)"
      ],
      "metadata": {
        "colab": {
          "base_uri": "https://localhost:8080/",
          "height": 161
        },
        "id": "rIx1bnt2WQis",
        "outputId": "a83aa6c7-42d4-41b8-839d-8b0d42c4b93c"
      },
      "execution_count": 3,
      "outputs": [
        {
          "output_type": "stream",
          "name": "stdout",
          "text": [
            "Total values in dataset:  24970\n"
          ]
        },
        {
          "output_type": "execute_result",
          "data": {
            "text/plain": [
              "   Unnamed: 0                   Datetime             Tweet Id  \\\n",
              "0           0  2022-09-30 23:29:15+00:00  1575991191170342912   \n",
              "1           1  2022-09-30 21:46:35+00:00  1575965354425131008   \n",
              "2           2  2022-09-30 21:18:02+00:00  1575958171423752203   \n",
              "\n",
              "                                                Text        Username  \\\n",
              "0  @Logitech @apple @Google @Microsoft @Dell @Len...  ManjuSreedaran   \n",
              "1  @MK_habit_addict @official_stier @MortalKombat...      MiKeMcDnet   \n",
              "2  As @CRN celebrates its 40th anniversary, Bob F...        jfollett   \n",
              "\n",
              "  sentiment  sentiment_score       emotion  emotion_score  \n",
              "0   neutral         0.853283  anticipation       0.587121  \n",
              "1   neutral         0.519470           joy       0.886913  \n",
              "2  positive         0.763791           joy       0.960347  "
            ],
            "text/html": [
              "\n",
              "  <div id=\"df-d924250f-95a8-4ecf-894a-9a845469d2f5\" class=\"colab-df-container\">\n",
              "    <div>\n",
              "<style scoped>\n",
              "    .dataframe tbody tr th:only-of-type {\n",
              "        vertical-align: middle;\n",
              "    }\n",
              "\n",
              "    .dataframe tbody tr th {\n",
              "        vertical-align: top;\n",
              "    }\n",
              "\n",
              "    .dataframe thead th {\n",
              "        text-align: right;\n",
              "    }\n",
              "</style>\n",
              "<table border=\"1\" class=\"dataframe\">\n",
              "  <thead>\n",
              "    <tr style=\"text-align: right;\">\n",
              "      <th></th>\n",
              "      <th>Unnamed: 0</th>\n",
              "      <th>Datetime</th>\n",
              "      <th>Tweet Id</th>\n",
              "      <th>Text</th>\n",
              "      <th>Username</th>\n",
              "      <th>sentiment</th>\n",
              "      <th>sentiment_score</th>\n",
              "      <th>emotion</th>\n",
              "      <th>emotion_score</th>\n",
              "    </tr>\n",
              "  </thead>\n",
              "  <tbody>\n",
              "    <tr>\n",
              "      <th>0</th>\n",
              "      <td>0</td>\n",
              "      <td>2022-09-30 23:29:15+00:00</td>\n",
              "      <td>1575991191170342912</td>\n",
              "      <td>@Logitech @apple @Google @Microsoft @Dell @Len...</td>\n",
              "      <td>ManjuSreedaran</td>\n",
              "      <td>neutral</td>\n",
              "      <td>0.853283</td>\n",
              "      <td>anticipation</td>\n",
              "      <td>0.587121</td>\n",
              "    </tr>\n",
              "    <tr>\n",
              "      <th>1</th>\n",
              "      <td>1</td>\n",
              "      <td>2022-09-30 21:46:35+00:00</td>\n",
              "      <td>1575965354425131008</td>\n",
              "      <td>@MK_habit_addict @official_stier @MortalKombat...</td>\n",
              "      <td>MiKeMcDnet</td>\n",
              "      <td>neutral</td>\n",
              "      <td>0.519470</td>\n",
              "      <td>joy</td>\n",
              "      <td>0.886913</td>\n",
              "    </tr>\n",
              "    <tr>\n",
              "      <th>2</th>\n",
              "      <td>2</td>\n",
              "      <td>2022-09-30 21:18:02+00:00</td>\n",
              "      <td>1575958171423752203</td>\n",
              "      <td>As @CRN celebrates its 40th anniversary, Bob F...</td>\n",
              "      <td>jfollett</td>\n",
              "      <td>positive</td>\n",
              "      <td>0.763791</td>\n",
              "      <td>joy</td>\n",
              "      <td>0.960347</td>\n",
              "    </tr>\n",
              "  </tbody>\n",
              "</table>\n",
              "</div>\n",
              "    <div class=\"colab-df-buttons\">\n",
              "\n",
              "  <div class=\"colab-df-container\">\n",
              "    <button class=\"colab-df-convert\" onclick=\"convertToInteractive('df-d924250f-95a8-4ecf-894a-9a845469d2f5')\"\n",
              "            title=\"Convert this dataframe to an interactive table.\"\n",
              "            style=\"display:none;\">\n",
              "\n",
              "  <svg xmlns=\"http://www.w3.org/2000/svg\" height=\"24px\" viewBox=\"0 -960 960 960\">\n",
              "    <path d=\"M120-120v-720h720v720H120Zm60-500h600v-160H180v160Zm220 220h160v-160H400v160Zm0 220h160v-160H400v160ZM180-400h160v-160H180v160Zm440 0h160v-160H620v160ZM180-180h160v-160H180v160Zm440 0h160v-160H620v160Z\"/>\n",
              "  </svg>\n",
              "    </button>\n",
              "\n",
              "  <style>\n",
              "    .colab-df-container {\n",
              "      display:flex;\n",
              "      gap: 12px;\n",
              "    }\n",
              "\n",
              "    .colab-df-convert {\n",
              "      background-color: #E8F0FE;\n",
              "      border: none;\n",
              "      border-radius: 50%;\n",
              "      cursor: pointer;\n",
              "      display: none;\n",
              "      fill: #1967D2;\n",
              "      height: 32px;\n",
              "      padding: 0 0 0 0;\n",
              "      width: 32px;\n",
              "    }\n",
              "\n",
              "    .colab-df-convert:hover {\n",
              "      background-color: #E2EBFA;\n",
              "      box-shadow: 0px 1px 2px rgba(60, 64, 67, 0.3), 0px 1px 3px 1px rgba(60, 64, 67, 0.15);\n",
              "      fill: #174EA6;\n",
              "    }\n",
              "\n",
              "    .colab-df-buttons div {\n",
              "      margin-bottom: 4px;\n",
              "    }\n",
              "\n",
              "    [theme=dark] .colab-df-convert {\n",
              "      background-color: #3B4455;\n",
              "      fill: #D2E3FC;\n",
              "    }\n",
              "\n",
              "    [theme=dark] .colab-df-convert:hover {\n",
              "      background-color: #434B5C;\n",
              "      box-shadow: 0px 1px 3px 1px rgba(0, 0, 0, 0.15);\n",
              "      filter: drop-shadow(0px 1px 2px rgba(0, 0, 0, 0.3));\n",
              "      fill: #FFFFFF;\n",
              "    }\n",
              "  </style>\n",
              "\n",
              "    <script>\n",
              "      const buttonEl =\n",
              "        document.querySelector('#df-d924250f-95a8-4ecf-894a-9a845469d2f5 button.colab-df-convert');\n",
              "      buttonEl.style.display =\n",
              "        google.colab.kernel.accessAllowed ? 'block' : 'none';\n",
              "\n",
              "      async function convertToInteractive(key) {\n",
              "        const element = document.querySelector('#df-d924250f-95a8-4ecf-894a-9a845469d2f5');\n",
              "        const dataTable =\n",
              "          await google.colab.kernel.invokeFunction('convertToInteractive',\n",
              "                                                    [key], {});\n",
              "        if (!dataTable) return;\n",
              "\n",
              "        const docLinkHtml = 'Like what you see? Visit the ' +\n",
              "          '<a target=\"_blank\" href=https://colab.research.google.com/notebooks/data_table.ipynb>data table notebook</a>'\n",
              "          + ' to learn more about interactive tables.';\n",
              "        element.innerHTML = '';\n",
              "        dataTable['output_type'] = 'display_data';\n",
              "        await google.colab.output.renderOutput(dataTable, element);\n",
              "        const docLink = document.createElement('div');\n",
              "        docLink.innerHTML = docLinkHtml;\n",
              "        element.appendChild(docLink);\n",
              "      }\n",
              "    </script>\n",
              "  </div>\n",
              "\n",
              "\n",
              "<div id=\"df-5e02941a-3bf1-4fca-aa5d-1f2e0e84d953\">\n",
              "  <button class=\"colab-df-quickchart\" onclick=\"quickchart('df-5e02941a-3bf1-4fca-aa5d-1f2e0e84d953')\"\n",
              "            title=\"Suggest charts\"\n",
              "            style=\"display:none;\">\n",
              "\n",
              "<svg xmlns=\"http://www.w3.org/2000/svg\" height=\"24px\"viewBox=\"0 0 24 24\"\n",
              "     width=\"24px\">\n",
              "    <g>\n",
              "        <path d=\"M19 3H5c-1.1 0-2 .9-2 2v14c0 1.1.9 2 2 2h14c1.1 0 2-.9 2-2V5c0-1.1-.9-2-2-2zM9 17H7v-7h2v7zm4 0h-2V7h2v10zm4 0h-2v-4h2v4z\"/>\n",
              "    </g>\n",
              "</svg>\n",
              "  </button>\n",
              "\n",
              "<style>\n",
              "  .colab-df-quickchart {\n",
              "      --bg-color: #E8F0FE;\n",
              "      --fill-color: #1967D2;\n",
              "      --hover-bg-color: #E2EBFA;\n",
              "      --hover-fill-color: #174EA6;\n",
              "      --disabled-fill-color: #AAA;\n",
              "      --disabled-bg-color: #DDD;\n",
              "  }\n",
              "\n",
              "  [theme=dark] .colab-df-quickchart {\n",
              "      --bg-color: #3B4455;\n",
              "      --fill-color: #D2E3FC;\n",
              "      --hover-bg-color: #434B5C;\n",
              "      --hover-fill-color: #FFFFFF;\n",
              "      --disabled-bg-color: #3B4455;\n",
              "      --disabled-fill-color: #666;\n",
              "  }\n",
              "\n",
              "  .colab-df-quickchart {\n",
              "    background-color: var(--bg-color);\n",
              "    border: none;\n",
              "    border-radius: 50%;\n",
              "    cursor: pointer;\n",
              "    display: none;\n",
              "    fill: var(--fill-color);\n",
              "    height: 32px;\n",
              "    padding: 0;\n",
              "    width: 32px;\n",
              "  }\n",
              "\n",
              "  .colab-df-quickchart:hover {\n",
              "    background-color: var(--hover-bg-color);\n",
              "    box-shadow: 0 1px 2px rgba(60, 64, 67, 0.3), 0 1px 3px 1px rgba(60, 64, 67, 0.15);\n",
              "    fill: var(--button-hover-fill-color);\n",
              "  }\n",
              "\n",
              "  .colab-df-quickchart-complete:disabled,\n",
              "  .colab-df-quickchart-complete:disabled:hover {\n",
              "    background-color: var(--disabled-bg-color);\n",
              "    fill: var(--disabled-fill-color);\n",
              "    box-shadow: none;\n",
              "  }\n",
              "\n",
              "  .colab-df-spinner {\n",
              "    border: 2px solid var(--fill-color);\n",
              "    border-color: transparent;\n",
              "    border-bottom-color: var(--fill-color);\n",
              "    animation:\n",
              "      spin 1s steps(1) infinite;\n",
              "  }\n",
              "\n",
              "  @keyframes spin {\n",
              "    0% {\n",
              "      border-color: transparent;\n",
              "      border-bottom-color: var(--fill-color);\n",
              "      border-left-color: var(--fill-color);\n",
              "    }\n",
              "    20% {\n",
              "      border-color: transparent;\n",
              "      border-left-color: var(--fill-color);\n",
              "      border-top-color: var(--fill-color);\n",
              "    }\n",
              "    30% {\n",
              "      border-color: transparent;\n",
              "      border-left-color: var(--fill-color);\n",
              "      border-top-color: var(--fill-color);\n",
              "      border-right-color: var(--fill-color);\n",
              "    }\n",
              "    40% {\n",
              "      border-color: transparent;\n",
              "      border-right-color: var(--fill-color);\n",
              "      border-top-color: var(--fill-color);\n",
              "    }\n",
              "    60% {\n",
              "      border-color: transparent;\n",
              "      border-right-color: var(--fill-color);\n",
              "    }\n",
              "    80% {\n",
              "      border-color: transparent;\n",
              "      border-right-color: var(--fill-color);\n",
              "      border-bottom-color: var(--fill-color);\n",
              "    }\n",
              "    90% {\n",
              "      border-color: transparent;\n",
              "      border-bottom-color: var(--fill-color);\n",
              "    }\n",
              "  }\n",
              "</style>\n",
              "\n",
              "  <script>\n",
              "    async function quickchart(key) {\n",
              "      const quickchartButtonEl =\n",
              "        document.querySelector('#' + key + ' button');\n",
              "      quickchartButtonEl.disabled = true;  // To prevent multiple clicks.\n",
              "      quickchartButtonEl.classList.add('colab-df-spinner');\n",
              "      try {\n",
              "        const charts = await google.colab.kernel.invokeFunction(\n",
              "            'suggestCharts', [key], {});\n",
              "      } catch (error) {\n",
              "        console.error('Error during call to suggestCharts:', error);\n",
              "      }\n",
              "      quickchartButtonEl.classList.remove('colab-df-spinner');\n",
              "      quickchartButtonEl.classList.add('colab-df-quickchart-complete');\n",
              "    }\n",
              "    (() => {\n",
              "      let quickchartButtonEl =\n",
              "        document.querySelector('#df-5e02941a-3bf1-4fca-aa5d-1f2e0e84d953 button');\n",
              "      quickchartButtonEl.style.display =\n",
              "        google.colab.kernel.accessAllowed ? 'block' : 'none';\n",
              "    })();\n",
              "  </script>\n",
              "</div>\n",
              "\n",
              "    </div>\n",
              "  </div>\n"
            ]
          },
          "metadata": {},
          "execution_count": 3
        }
      ]
    },
    {
      "cell_type": "markdown",
      "source": [
        "# **Data Pre-processing and Cleaning**"
      ],
      "metadata": {
        "id": "cWhLPL03yDBc"
      }
    },
    {
      "cell_type": "code",
      "source": [
        "# Only keep columns that show the tweet and its emotion\n",
        "data = data[['Text', 'emotion']]\n",
        "data.head(3)"
      ],
      "metadata": {
        "colab": {
          "base_uri": "https://localhost:8080/",
          "height": 143
        },
        "id": "b-W0w-n4haMl",
        "outputId": "f2161fef-2cf4-4e1a-ef8b-2d3b8958331d"
      },
      "execution_count": 4,
      "outputs": [
        {
          "output_type": "execute_result",
          "data": {
            "text/plain": [
              "                                                Text       emotion\n",
              "0  @Logitech @apple @Google @Microsoft @Dell @Len...  anticipation\n",
              "1  @MK_habit_addict @official_stier @MortalKombat...           joy\n",
              "2  As @CRN celebrates its 40th anniversary, Bob F...           joy"
            ],
            "text/html": [
              "\n",
              "  <div id=\"df-57891355-ec9a-430f-8d9c-e7b58b042a1a\" class=\"colab-df-container\">\n",
              "    <div>\n",
              "<style scoped>\n",
              "    .dataframe tbody tr th:only-of-type {\n",
              "        vertical-align: middle;\n",
              "    }\n",
              "\n",
              "    .dataframe tbody tr th {\n",
              "        vertical-align: top;\n",
              "    }\n",
              "\n",
              "    .dataframe thead th {\n",
              "        text-align: right;\n",
              "    }\n",
              "</style>\n",
              "<table border=\"1\" class=\"dataframe\">\n",
              "  <thead>\n",
              "    <tr style=\"text-align: right;\">\n",
              "      <th></th>\n",
              "      <th>Text</th>\n",
              "      <th>emotion</th>\n",
              "    </tr>\n",
              "  </thead>\n",
              "  <tbody>\n",
              "    <tr>\n",
              "      <th>0</th>\n",
              "      <td>@Logitech @apple @Google @Microsoft @Dell @Len...</td>\n",
              "      <td>anticipation</td>\n",
              "    </tr>\n",
              "    <tr>\n",
              "      <th>1</th>\n",
              "      <td>@MK_habit_addict @official_stier @MortalKombat...</td>\n",
              "      <td>joy</td>\n",
              "    </tr>\n",
              "    <tr>\n",
              "      <th>2</th>\n",
              "      <td>As @CRN celebrates its 40th anniversary, Bob F...</td>\n",
              "      <td>joy</td>\n",
              "    </tr>\n",
              "  </tbody>\n",
              "</table>\n",
              "</div>\n",
              "    <div class=\"colab-df-buttons\">\n",
              "\n",
              "  <div class=\"colab-df-container\">\n",
              "    <button class=\"colab-df-convert\" onclick=\"convertToInteractive('df-57891355-ec9a-430f-8d9c-e7b58b042a1a')\"\n",
              "            title=\"Convert this dataframe to an interactive table.\"\n",
              "            style=\"display:none;\">\n",
              "\n",
              "  <svg xmlns=\"http://www.w3.org/2000/svg\" height=\"24px\" viewBox=\"0 -960 960 960\">\n",
              "    <path d=\"M120-120v-720h720v720H120Zm60-500h600v-160H180v160Zm220 220h160v-160H400v160Zm0 220h160v-160H400v160ZM180-400h160v-160H180v160Zm440 0h160v-160H620v160ZM180-180h160v-160H180v160Zm440 0h160v-160H620v160Z\"/>\n",
              "  </svg>\n",
              "    </button>\n",
              "\n",
              "  <style>\n",
              "    .colab-df-container {\n",
              "      display:flex;\n",
              "      gap: 12px;\n",
              "    }\n",
              "\n",
              "    .colab-df-convert {\n",
              "      background-color: #E8F0FE;\n",
              "      border: none;\n",
              "      border-radius: 50%;\n",
              "      cursor: pointer;\n",
              "      display: none;\n",
              "      fill: #1967D2;\n",
              "      height: 32px;\n",
              "      padding: 0 0 0 0;\n",
              "      width: 32px;\n",
              "    }\n",
              "\n",
              "    .colab-df-convert:hover {\n",
              "      background-color: #E2EBFA;\n",
              "      box-shadow: 0px 1px 2px rgba(60, 64, 67, 0.3), 0px 1px 3px 1px rgba(60, 64, 67, 0.15);\n",
              "      fill: #174EA6;\n",
              "    }\n",
              "\n",
              "    .colab-df-buttons div {\n",
              "      margin-bottom: 4px;\n",
              "    }\n",
              "\n",
              "    [theme=dark] .colab-df-convert {\n",
              "      background-color: #3B4455;\n",
              "      fill: #D2E3FC;\n",
              "    }\n",
              "\n",
              "    [theme=dark] .colab-df-convert:hover {\n",
              "      background-color: #434B5C;\n",
              "      box-shadow: 0px 1px 3px 1px rgba(0, 0, 0, 0.15);\n",
              "      filter: drop-shadow(0px 1px 2px rgba(0, 0, 0, 0.3));\n",
              "      fill: #FFFFFF;\n",
              "    }\n",
              "  </style>\n",
              "\n",
              "    <script>\n",
              "      const buttonEl =\n",
              "        document.querySelector('#df-57891355-ec9a-430f-8d9c-e7b58b042a1a button.colab-df-convert');\n",
              "      buttonEl.style.display =\n",
              "        google.colab.kernel.accessAllowed ? 'block' : 'none';\n",
              "\n",
              "      async function convertToInteractive(key) {\n",
              "        const element = document.querySelector('#df-57891355-ec9a-430f-8d9c-e7b58b042a1a');\n",
              "        const dataTable =\n",
              "          await google.colab.kernel.invokeFunction('convertToInteractive',\n",
              "                                                    [key], {});\n",
              "        if (!dataTable) return;\n",
              "\n",
              "        const docLinkHtml = 'Like what you see? Visit the ' +\n",
              "          '<a target=\"_blank\" href=https://colab.research.google.com/notebooks/data_table.ipynb>data table notebook</a>'\n",
              "          + ' to learn more about interactive tables.';\n",
              "        element.innerHTML = '';\n",
              "        dataTable['output_type'] = 'display_data';\n",
              "        await google.colab.output.renderOutput(dataTable, element);\n",
              "        const docLink = document.createElement('div');\n",
              "        docLink.innerHTML = docLinkHtml;\n",
              "        element.appendChild(docLink);\n",
              "      }\n",
              "    </script>\n",
              "  </div>\n",
              "\n",
              "\n",
              "<div id=\"df-d852af81-ad7a-49be-be76-ab8f1d5260e7\">\n",
              "  <button class=\"colab-df-quickchart\" onclick=\"quickchart('df-d852af81-ad7a-49be-be76-ab8f1d5260e7')\"\n",
              "            title=\"Suggest charts\"\n",
              "            style=\"display:none;\">\n",
              "\n",
              "<svg xmlns=\"http://www.w3.org/2000/svg\" height=\"24px\"viewBox=\"0 0 24 24\"\n",
              "     width=\"24px\">\n",
              "    <g>\n",
              "        <path d=\"M19 3H5c-1.1 0-2 .9-2 2v14c0 1.1.9 2 2 2h14c1.1 0 2-.9 2-2V5c0-1.1-.9-2-2-2zM9 17H7v-7h2v7zm4 0h-2V7h2v10zm4 0h-2v-4h2v4z\"/>\n",
              "    </g>\n",
              "</svg>\n",
              "  </button>\n",
              "\n",
              "<style>\n",
              "  .colab-df-quickchart {\n",
              "      --bg-color: #E8F0FE;\n",
              "      --fill-color: #1967D2;\n",
              "      --hover-bg-color: #E2EBFA;\n",
              "      --hover-fill-color: #174EA6;\n",
              "      --disabled-fill-color: #AAA;\n",
              "      --disabled-bg-color: #DDD;\n",
              "  }\n",
              "\n",
              "  [theme=dark] .colab-df-quickchart {\n",
              "      --bg-color: #3B4455;\n",
              "      --fill-color: #D2E3FC;\n",
              "      --hover-bg-color: #434B5C;\n",
              "      --hover-fill-color: #FFFFFF;\n",
              "      --disabled-bg-color: #3B4455;\n",
              "      --disabled-fill-color: #666;\n",
              "  }\n",
              "\n",
              "  .colab-df-quickchart {\n",
              "    background-color: var(--bg-color);\n",
              "    border: none;\n",
              "    border-radius: 50%;\n",
              "    cursor: pointer;\n",
              "    display: none;\n",
              "    fill: var(--fill-color);\n",
              "    height: 32px;\n",
              "    padding: 0;\n",
              "    width: 32px;\n",
              "  }\n",
              "\n",
              "  .colab-df-quickchart:hover {\n",
              "    background-color: var(--hover-bg-color);\n",
              "    box-shadow: 0 1px 2px rgba(60, 64, 67, 0.3), 0 1px 3px 1px rgba(60, 64, 67, 0.15);\n",
              "    fill: var(--button-hover-fill-color);\n",
              "  }\n",
              "\n",
              "  .colab-df-quickchart-complete:disabled,\n",
              "  .colab-df-quickchart-complete:disabled:hover {\n",
              "    background-color: var(--disabled-bg-color);\n",
              "    fill: var(--disabled-fill-color);\n",
              "    box-shadow: none;\n",
              "  }\n",
              "\n",
              "  .colab-df-spinner {\n",
              "    border: 2px solid var(--fill-color);\n",
              "    border-color: transparent;\n",
              "    border-bottom-color: var(--fill-color);\n",
              "    animation:\n",
              "      spin 1s steps(1) infinite;\n",
              "  }\n",
              "\n",
              "  @keyframes spin {\n",
              "    0% {\n",
              "      border-color: transparent;\n",
              "      border-bottom-color: var(--fill-color);\n",
              "      border-left-color: var(--fill-color);\n",
              "    }\n",
              "    20% {\n",
              "      border-color: transparent;\n",
              "      border-left-color: var(--fill-color);\n",
              "      border-top-color: var(--fill-color);\n",
              "    }\n",
              "    30% {\n",
              "      border-color: transparent;\n",
              "      border-left-color: var(--fill-color);\n",
              "      border-top-color: var(--fill-color);\n",
              "      border-right-color: var(--fill-color);\n",
              "    }\n",
              "    40% {\n",
              "      border-color: transparent;\n",
              "      border-right-color: var(--fill-color);\n",
              "      border-top-color: var(--fill-color);\n",
              "    }\n",
              "    60% {\n",
              "      border-color: transparent;\n",
              "      border-right-color: var(--fill-color);\n",
              "    }\n",
              "    80% {\n",
              "      border-color: transparent;\n",
              "      border-right-color: var(--fill-color);\n",
              "      border-bottom-color: var(--fill-color);\n",
              "    }\n",
              "    90% {\n",
              "      border-color: transparent;\n",
              "      border-bottom-color: var(--fill-color);\n",
              "    }\n",
              "  }\n",
              "</style>\n",
              "\n",
              "  <script>\n",
              "    async function quickchart(key) {\n",
              "      const quickchartButtonEl =\n",
              "        document.querySelector('#' + key + ' button');\n",
              "      quickchartButtonEl.disabled = true;  // To prevent multiple clicks.\n",
              "      quickchartButtonEl.classList.add('colab-df-spinner');\n",
              "      try {\n",
              "        const charts = await google.colab.kernel.invokeFunction(\n",
              "            'suggestCharts', [key], {});\n",
              "      } catch (error) {\n",
              "        console.error('Error during call to suggestCharts:', error);\n",
              "      }\n",
              "      quickchartButtonEl.classList.remove('colab-df-spinner');\n",
              "      quickchartButtonEl.classList.add('colab-df-quickchart-complete');\n",
              "    }\n",
              "    (() => {\n",
              "      let quickchartButtonEl =\n",
              "        document.querySelector('#df-d852af81-ad7a-49be-be76-ab8f1d5260e7 button');\n",
              "      quickchartButtonEl.style.display =\n",
              "        google.colab.kernel.accessAllowed ? 'block' : 'none';\n",
              "    })();\n",
              "  </script>\n",
              "</div>\n",
              "\n",
              "    </div>\n",
              "  </div>\n"
            ]
          },
          "metadata": {},
          "execution_count": 4
        }
      ]
    },
    {
      "cell_type": "code",
      "source": [
        "# Count the occurrences of each unique value in emotions in original dataset\n",
        "value_counts = data['emotion'].value_counts()\n",
        "print(value_counts)\n",
        "\n",
        "plt.figure(figsize=(5, 3))\n",
        "value_counts.plot(kind='bar')\n",
        "plt.title(f'Unique emotion values in original dataset')\n",
        "plt.xlabel('emotion')\n",
        "plt.ylabel('Count')\n",
        "plt.xticks(rotation=30, ha='right')\n",
        "plt.show()"
      ],
      "metadata": {
        "colab": {
          "base_uri": "https://localhost:8080/",
          "height": 528
        },
        "id": "MBnSDL5egcbN",
        "outputId": "f40d6f8f-5740-4f70-bb98-9e2a42ae9f7e"
      },
      "execution_count": 5,
      "outputs": [
        {
          "output_type": "stream",
          "name": "stdout",
          "text": [
            "anger           7520\n",
            "joy             6326\n",
            "anticipation    5171\n",
            "disgust         3000\n",
            "sadness         1328\n",
            "optimism        1225\n",
            "fear             366\n",
            "surprise          34\n",
            "Name: emotion, dtype: int64\n"
          ]
        },
        {
          "output_type": "display_data",
          "data": {
            "text/plain": [
              "<Figure size 500x300 with 1 Axes>"
            ],
            "image/png": "[encoded data removed]"
          },
          "metadata": {}
        }
      ]
    },
    {
      "cell_type": "markdown",
      "source": [
        "## Dataset Manipulation"
      ],
      "metadata": {
        "id": "Xlro896NmS27"
      }
    },
    {
      "cell_type": "code",
      "source": [
        "# Map values to 'neutral' if they are not one of our 4 chosen emotions\n",
        "valid_emotions = ['joy', 'anger', 'fear', 'sadness', 'neutral']\n",
        "data['emotion'] = data['emotion'].apply(lambda x: x if x in valid_emotions else 'neutral')\n",
        "\n",
        "data.to_csv('output_file.csv', index=False)\n",
        "\n",
        "# Count unique occurences after csv modification\n",
        "value_counts = data['emotion'].value_counts()\n",
        "print(value_counts)\n",
        "\n",
        "plt.figure(figsize=(5, 3))\n",
        "value_counts.plot(kind='bar')\n",
        "plt.title(f'Unique emotion values in altered dataset')\n",
        "plt.xlabel('emotion')\n",
        "plt.ylabel('Count')\n",
        "plt.xticks(rotation=30, ha='right')\n",
        "plt.show()"
      ],
      "metadata": {
        "colab": {
          "base_uri": "https://localhost:8080/",
          "height": 463
        },
        "id": "dmetD-h7fhsW",
        "outputId": "5011473d-b6ac-40d6-bbae-06154bf9a60a"
      },
      "execution_count": 6,
      "outputs": [
        {
          "output_type": "stream",
          "name": "stdout",
          "text": [
            "neutral    9430\n",
            "anger      7520\n",
            "joy        6326\n",
            "sadness    1328\n",
            "fear        366\n",
            "Name: emotion, dtype: int64\n"
          ]
        },
        {
          "output_type": "display_data",
          "data": {
            "text/plain": [
              "<Figure size 500x300 with 1 Axes>"
            ],
            "image/png": "[encoded data removed]"
          },
          "metadata": {}
        }
      ]
    },
    {
      "cell_type": "markdown",
      "metadata": {
        "id": "NQAFpsd4NmBP"
      },
      "source": [
        "## Train Test Split Dataset 70/30"
      ]
    },
    {
      "cell_type": "code",
      "source": [
        "# Define the features (X) and the target (y)\n",
        "import pandas as pd\n",
        "X = data['Text']\n",
        "y = data['emotion']\n",
        "\n",
        "# Split the data into training and testing sets (70-30 split)\n",
        "X_train, X_test, y_train, y_test = train_test_split(X, y, test_size=0.3, random_state=42)\n",
        "\n",
        "# Optionally, create new DataFrames for the training and testing sets\n",
        "data_train = pd.DataFrame({'Text': X_train, 'emotion': y_train})\n",
        "data_test = pd.DataFrame({'Text': X_test, 'emotion': y_test})\n",
        "\n",
        "data = pd.concat([data_train, data_test], ignore_index=True)"
      ],
      "metadata": {
        "id": "1596c497wVKf"
      },
      "execution_count": 8,
      "outputs": []
    },
    {
      "cell_type": "code",
      "source": [
        "data.head(3)"
      ],
      "metadata": {
        "colab": {
          "base_uri": "https://localhost:8080/",
          "height": 143
        },
        "id": "3IzU7kX7wCyT",
        "outputId": "ce00976f-ab84-4e51-c498-36601782e0dd"
      },
      "execution_count": 9,
      "outputs": [
        {
          "output_type": "execute_result",
          "data": {
            "text/plain": [
              "                                                Text  emotion\n",
              "0  @Dell #XPS13 Plus # Review from @engadget.  Th...  neutral\n",
              "1  Almost ready to start using @ubuntu. Just inst...      joy\n",
              "2  Trying to work on a slow old desktop or laptop...  neutral"
            ],
            "text/html": [
              "\n",
              "  <div id=\"df-10a4fba8-6616-439d-94ec-37026cf93004\" class=\"colab-df-container\">\n",
              "    <div>\n",
              "<style scoped>\n",
              "    .dataframe tbody tr th:only-of-type {\n",
              "        vertical-align: middle;\n",
              "    }\n",
              "\n",
              "    .dataframe tbody tr th {\n",
              "        vertical-align: top;\n",
              "    }\n",
              "\n",
              "    .dataframe thead th {\n",
              "        text-align: right;\n",
              "    }\n",
              "</style>\n",
              "<table border=\"1\" class=\"dataframe\">\n",
              "  <thead>\n",
              "    <tr style=\"text-align: right;\">\n",
              "      <th></th>\n",
              "      <th>Text</th>\n",
              "      <th>emotion</th>\n",
              "    </tr>\n",
              "  </thead>\n",
              "  <tbody>\n",
              "    <tr>\n",
              "      <th>0</th>\n",
              "      <td>@Dell #XPS13 Plus # Review from @engadget.  Th...</td>\n",
              "      <td>neutral</td>\n",
              "    </tr>\n",
              "    <tr>\n",
              "      <th>1</th>\n",
              "      <td>Almost ready to start using @ubuntu. Just inst...</td>\n",
              "      <td>joy</td>\n",
              "    </tr>\n",
              "    <tr>\n",
              "      <th>2</th>\n",
              "      <td>Trying to work on a slow old desktop or laptop...</td>\n",
              "      <td>neutral</td>\n",
              "    </tr>\n",
              "  </tbody>\n",
              "</table>\n",
              "</div>\n",
              "    <div class=\"colab-df-buttons\">\n",
              "\n",
              "  <div class=\"colab-df-container\">\n",
              "    <button class=\"colab-df-convert\" onclick=\"convertToInteractive('df-10a4fba8-6616-439d-94ec-37026cf93004')\"\n",
              "            title=\"Convert this dataframe to an interactive table.\"\n",
              "            style=\"display:none;\">\n",
              "\n",
              "  <svg xmlns=\"http://www.w3.org/2000/svg\" height=\"24px\" viewBox=\"0 -960 960 960\">\n",
              "    <path d=\"M120-120v-720h720v720H120Zm60-500h600v-160H180v160Zm220 220h160v-160H400v160Zm0 220h160v-160H400v160ZM180-400h160v-160H180v160Zm440 0h160v-160H620v160ZM180-180h160v-160H180v160Zm440 0h160v-160H620v160Z\"/>\n",
              "  </svg>\n",
              "    </button>\n",
              "\n",
              "  <style>\n",
              "    .colab-df-container {\n",
              "      display:flex;\n",
              "      gap: 12px;\n",
              "    }\n",
              "\n",
              "    .colab-df-convert {\n",
              "      background-color: #E8F0FE;\n",
              "      border: none;\n",
              "      border-radius: 50%;\n",
              "      cursor: pointer;\n",
              "      display: none;\n",
              "      fill: #1967D2;\n",
              "      height: 32px;\n",
              "      padding: 0 0 0 0;\n",
              "      width: 32px;\n",
              "    }\n",
              "\n",
              "    .colab-df-convert:hover {\n",
              "      background-color: #E2EBFA;\n",
              "      box-shadow: 0px 1px 2px rgba(60, 64, 67, 0.3), 0px 1px 3px 1px rgba(60, 64, 67, 0.15);\n",
              "      fill: #174EA6;\n",
              "    }\n",
              "\n",
              "    .colab-df-buttons div {\n",
              "      margin-bottom: 4px;\n",
              "    }\n",
              "\n",
              "    [theme=dark] .colab-df-convert {\n",
              "      background-color: #3B4455;\n",
              "      fill: #D2E3FC;\n",
              "    }\n",
              "\n",
              "    [theme=dark] .colab-df-convert:hover {\n",
              "      background-color: #434B5C;\n",
              "      box-shadow: 0px 1px 3px 1px rgba(0, 0, 0, 0.15);\n",
              "      filter: drop-shadow(0px 1px 2px rgba(0, 0, 0, 0.3));\n",
              "      fill: #FFFFFF;\n",
              "    }\n",
              "  </style>\n",
              "\n",
              "    <script>\n",
              "      const buttonEl =\n",
              "        document.querySelector('#df-10a4fba8-6616-439d-94ec-37026cf93004 button.colab-df-convert');\n",
              "      buttonEl.style.display =\n",
              "        google.colab.kernel.accessAllowed ? 'block' : 'none';\n",
              "\n",
              "      async function convertToInteractive(key) {\n",
              "        const element = document.querySelector('#df-10a4fba8-6616-439d-94ec-37026cf93004');\n",
              "        const dataTable =\n",
              "          await google.colab.kernel.invokeFunction('convertToInteractive',\n",
              "                                                    [key], {});\n",
              "        if (!dataTable) return;\n",
              "\n",
              "        const docLinkHtml = 'Like what you see? Visit the ' +\n",
              "          '<a target=\"_blank\" href=https://colab.research.google.com/notebooks/data_table.ipynb>data table notebook</a>'\n",
              "          + ' to learn more about interactive tables.';\n",
              "        element.innerHTML = '';\n",
              "        dataTable['output_type'] = 'display_data';\n",
              "        await google.colab.output.renderOutput(dataTable, element);\n",
              "        const docLink = document.createElement('div');\n",
              "        docLink.innerHTML = docLinkHtml;\n",
              "        element.appendChild(docLink);\n",
              "      }\n",
              "    </script>\n",
              "  </div>\n",
              "\n",
              "\n",
              "<div id=\"df-331051d4-8b83-406b-aa8e-5943a048e6ab\">\n",
              "  <button class=\"colab-df-quickchart\" onclick=\"quickchart('df-331051d4-8b83-406b-aa8e-5943a048e6ab')\"\n",
              "            title=\"Suggest charts\"\n",
              "            style=\"display:none;\">\n",
              "\n",
              "<svg xmlns=\"http://www.w3.org/2000/svg\" height=\"24px\"viewBox=\"0 0 24 24\"\n",
              "     width=\"24px\">\n",
              "    <g>\n",
              "        <path d=\"M19 3H5c-1.1 0-2 .9-2 2v14c0 1.1.9 2 2 2h14c1.1 0 2-.9 2-2V5c0-1.1-.9-2-2-2zM9 17H7v-7h2v7zm4 0h-2V7h2v10zm4 0h-2v-4h2v4z\"/>\n",
              "    </g>\n",
              "</svg>\n",
              "  </button>\n",
              "\n",
              "<style>\n",
              "  .colab-df-quickchart {\n",
              "      --bg-color: #E8F0FE;\n",
              "      --fill-color: #1967D2;\n",
              "      --hover-bg-color: #E2EBFA;\n",
              "      --hover-fill-color: #174EA6;\n",
              "      --disabled-fill-color: #AAA;\n",
              "      --disabled-bg-color: #DDD;\n",
              "  }\n",
              "\n",
              "  [theme=dark] .colab-df-quickchart {\n",
              "      --bg-color: #3B4455;\n",
              "      --fill-color: #D2E3FC;\n",
              "      --hover-bg-color: #434B5C;\n",
              "      --hover-fill-color: #FFFFFF;\n",
              "      --disabled-bg-color: #3B4455;\n",
              "      --disabled-fill-color: #666;\n",
              "  }\n",
              "\n",
              "  .colab-df-quickchart {\n",
              "    background-color: var(--bg-color);\n",
              "    border: none;\n",
              "    border-radius: 50%;\n",
              "    cursor: pointer;\n",
              "    display: none;\n",
              "    fill: var(--fill-color);\n",
              "    height: 32px;\n",
              "    padding: 0;\n",
              "    width: 32px;\n",
              "  }\n",
              "\n",
              "  .colab-df-quickchart:hover {\n",
              "    background-color: var(--hover-bg-color);\n",
              "    box-shadow: 0 1px 2px rgba(60, 64, 67, 0.3), 0 1px 3px 1px rgba(60, 64, 67, 0.15);\n",
              "    fill: var(--button-hover-fill-color);\n",
              "  }\n",
              "\n",
              "  .colab-df-quickchart-complete:disabled,\n",
              "  .colab-df-quickchart-complete:disabled:hover {\n",
              "    background-color: var(--disabled-bg-color);\n",
              "    fill: var(--disabled-fill-color);\n",
              "    box-shadow: none;\n",
              "  }\n",
              "\n",
              "  .colab-df-spinner {\n",
              "    border: 2px solid var(--fill-color);\n",
              "    border-color: transparent;\n",
              "    border-bottom-color: var(--fill-color);\n",
              "    animation:\n",
              "      spin 1s steps(1) infinite;\n",
              "  }\n",
              "\n",
              "  @keyframes spin {\n",
              "    0% {\n",
              "      border-color: transparent;\n",
              "      border-bottom-color: var(--fill-color);\n",
              "      border-left-color: var(--fill-color);\n",
              "    }\n",
              "    20% {\n",
              "      border-color: transparent;\n",
              "      border-left-color: var(--fill-color);\n",
              "      border-top-color: var(--fill-color);\n",
              "    }\n",
              "    30% {\n",
              "      border-color: transparent;\n",
              "      border-left-color: var(--fill-color);\n",
              "      border-top-color: var(--fill-color);\n",
              "      border-right-color: var(--fill-color);\n",
              "    }\n",
              "    40% {\n",
              "      border-color: transparent;\n",
              "      border-right-color: var(--fill-color);\n",
              "      border-top-color: var(--fill-color);\n",
              "    }\n",
              "    60% {\n",
              "      border-color: transparent;\n",
              "      border-right-color: var(--fill-color);\n",
              "    }\n",
              "    80% {\n",
              "      border-color: transparent;\n",
              "      border-right-color: var(--fill-color);\n",
              "      border-bottom-color: var(--fill-color);\n",
              "    }\n",
              "    90% {\n",
              "      border-color: transparent;\n",
              "      border-bottom-color: var(--fill-color);\n",
              "    }\n",
              "  }\n",
              "</style>\n",
              "\n",
              "  <script>\n",
              "    async function quickchart(key) {\n",
              "      const quickchartButtonEl =\n",
              "        document.querySelector('#' + key + ' button');\n",
              "      quickchartButtonEl.disabled = true;  // To prevent multiple clicks.\n",
              "      quickchartButtonEl.classList.add('colab-df-spinner');\n",
              "      try {\n",
              "        const charts = await google.colab.kernel.invokeFunction(\n",
              "            'suggestCharts', [key], {});\n",
              "      } catch (error) {\n",
              "        console.error('Error during call to suggestCharts:', error);\n",
              "      }\n",
              "      quickchartButtonEl.classList.remove('colab-df-spinner');\n",
              "      quickchartButtonEl.classList.add('colab-df-quickchart-complete');\n",
              "    }\n",
              "    (() => {\n",
              "      let quickchartButtonEl =\n",
              "        document.querySelector('#df-331051d4-8b83-406b-aa8e-5943a048e6ab button');\n",
              "      quickchartButtonEl.style.display =\n",
              "        google.colab.kernel.accessAllowed ? 'block' : 'none';\n",
              "    })();\n",
              "  </script>\n",
              "</div>\n",
              "\n",
              "    </div>\n",
              "  </div>\n"
            ]
          },
          "metadata": {},
          "execution_count": 9
        }
      ]
    },
    {
      "cell_type": "markdown",
      "source": [
        "## RegEx + Tokenization"
      ],
      "metadata": {
        "id": "8iq7Eg3J5QNo"
      }
    },
    {
      "cell_type": "code",
      "execution_count": 10,
      "metadata": {
        "id": "80J88qp3NmBS"
      },
      "outputs": [],
      "source": [
        "# Function to clean dataset\n",
        "def clean_text(data):\n",
        "\n",
        "    # remove #hashtags and @usernames and emojis\n",
        "    data = re.sub(r\"(#[\\d\\w\\.]+)\", '', data)\n",
        "    data = re.sub(r\"(@[\\d\\w\\.]+)\", '', data)\n",
        "    data = re.sub(r'[🙂-🙏@#]', '', data)\n",
        "    data = re.sub(r'\\s+', ' ', data).strip()\n",
        "\n",
        "    # tokenization using nltk\n",
        "    data = word_tokenize(data)\n",
        "\n",
        "    return data"
      ]
    },
    {
      "cell_type": "code",
      "execution_count": 11,
      "metadata": {
        "id": "f4B0jLfSNmBT",
        "colab": {
          "base_uri": "https://localhost:8080/"
        },
        "outputId": "cbc19226-1f1c-4a0d-f069-7a8ed9749e9d"
      },
      "outputs": [
        {
          "output_type": "stream",
          "name": "stderr",
          "text": [
            "[nltk_data] Downloading package punkt to /root/nltk_data...\n",
            "[nltk_data]   Unzipping tokenizers/punkt.zip.\n"
          ]
        }
      ],
      "source": [
        "import nltk\n",
        "nltk.download('punkt')\n",
        "texts = [' '.join(clean_text(text)) for text in data.Text]\n",
        "\n",
        "texts_train = [' '.join(clean_text(text)) for text in X_train]\n",
        "texts_test = [' '.join(clean_text(text)) for text in X_test]"
      ]
    },
    {
      "cell_type": "code",
      "source": [
        "# Apply regex and tokenization functions\n",
        "data['Text'] = data['Text'].apply(clean_text)\n",
        "data.head(3)"
      ],
      "metadata": {
        "colab": {
          "base_uri": "https://localhost:8080/",
          "height": 143
        },
        "id": "JAxv5r3NweB5",
        "outputId": "90c8ac26-6fbf-424a-c84f-9aae839d6ce9"
      },
      "execution_count": 12,
      "outputs": [
        {
          "output_type": "execute_result",
          "data": {
            "text/plain": [
              "                                                Text  emotion\n",
              "0  [Plus, Review, from, The, reviewer, says, ``, ...  neutral\n",
              "1  [Almost, ready, to, start, using, Just, instal...      joy\n",
              "2  [Trying, to, work, on, a, slow, old, desktop, ...  neutral"
            ],
            "text/html": [
              "\n",
              "  <div id=\"df-18ad5045-4f10-49c1-b909-3e18ef25ba97\" class=\"colab-df-container\">\n",
              "    <div>\n",
              "<style scoped>\n",
              "    .dataframe tbody tr th:only-of-type {\n",
              "        vertical-align: middle;\n",
              "    }\n",
              "\n",
              "    .dataframe tbody tr th {\n",
              "        vertical-align: top;\n",
              "    }\n",
              "\n",
              "    .dataframe thead th {\n",
              "        text-align: right;\n",
              "    }\n",
              "</style>\n",
              "<table border=\"1\" class=\"dataframe\">\n",
              "  <thead>\n",
              "    <tr style=\"text-align: right;\">\n",
              "      <th></th>\n",
              "      <th>Text</th>\n",
              "      <th>emotion</th>\n",
              "    </tr>\n",
              "  </thead>\n",
              "  <tbody>\n",
              "    <tr>\n",
              "      <th>0</th>\n",
              "      <td>[Plus, Review, from, The, reviewer, says, ``, ...</td>\n",
              "      <td>neutral</td>\n",
              "    </tr>\n",
              "    <tr>\n",
              "      <th>1</th>\n",
              "      <td>[Almost, ready, to, start, using, Just, instal...</td>\n",
              "      <td>joy</td>\n",
              "    </tr>\n",
              "    <tr>\n",
              "      <th>2</th>\n",
              "      <td>[Trying, to, work, on, a, slow, old, desktop, ...</td>\n",
              "      <td>neutral</td>\n",
              "    </tr>\n",
              "  </tbody>\n",
              "</table>\n",
              "</div>\n",
              "    <div class=\"colab-df-buttons\">\n",
              "\n",
              "  <div class=\"colab-df-container\">\n",
              "    <button class=\"colab-df-convert\" onclick=\"convertToInteractive('df-18ad5045-4f10-49c1-b909-3e18ef25ba97')\"\n",
              "            title=\"Convert this dataframe to an interactive table.\"\n",
              "            style=\"display:none;\">\n",
              "\n",
              "  <svg xmlns=\"http://www.w3.org/2000/svg\" height=\"24px\" viewBox=\"0 -960 960 960\">\n",
              "    <path d=\"M120-120v-720h720v720H120Zm60-500h600v-160H180v160Zm220 220h160v-160H400v160Zm0 220h160v-160H400v160ZM180-400h160v-160H180v160Zm440 0h160v-160H620v160ZM180-180h160v-160H180v160Zm440 0h160v-160H620v160Z\"/>\n",
              "  </svg>\n",
              "    </button>\n",
              "\n",
              "  <style>\n",
              "    .colab-df-container {\n",
              "      display:flex;\n",
              "      gap: 12px;\n",
              "    }\n",
              "\n",
              "    .colab-df-convert {\n",
              "      background-color: #E8F0FE;\n",
              "      border: none;\n",
              "      border-radius: 50%;\n",
              "      cursor: pointer;\n",
              "      display: none;\n",
              "      fill: #1967D2;\n",
              "      height: 32px;\n",
              "      padding: 0 0 0 0;\n",
              "      width: 32px;\n",
              "    }\n",
              "\n",
              "    .colab-df-convert:hover {\n",
              "      background-color: #E2EBFA;\n",
              "      box-shadow: 0px 1px 2px rgba(60, 64, 67, 0.3), 0px 1px 3px 1px rgba(60, 64, 67, 0.15);\n",
              "      fill: #174EA6;\n",
              "    }\n",
              "\n",
              "    .colab-df-buttons div {\n",
              "      margin-bottom: 4px;\n",
              "    }\n",
              "\n",
              "    [theme=dark] .colab-df-convert {\n",
              "      background-color: #3B4455;\n",
              "      fill: #D2E3FC;\n",
              "    }\n",
              "\n",
              "    [theme=dark] .colab-df-convert:hover {\n",
              "      background-color: #434B5C;\n",
              "      box-shadow: 0px 1px 3px 1px rgba(0, 0, 0, 0.15);\n",
              "      filter: drop-shadow(0px 1px 2px rgba(0, 0, 0, 0.3));\n",
              "      fill: #FFFFFF;\n",
              "    }\n",
              "  </style>\n",
              "\n",
              "    <script>\n",
              "      const buttonEl =\n",
              "        document.querySelector('#df-18ad5045-4f10-49c1-b909-3e18ef25ba97 button.colab-df-convert');\n",
              "      buttonEl.style.display =\n",
              "        google.colab.kernel.accessAllowed ? 'block' : 'none';\n",
              "\n",
              "      async function convertToInteractive(key) {\n",
              "        const element = document.querySelector('#df-18ad5045-4f10-49c1-b909-3e18ef25ba97');\n",
              "        const dataTable =\n",
              "          await google.colab.kernel.invokeFunction('convertToInteractive',\n",
              "                                                    [key], {});\n",
              "        if (!dataTable) return;\n",
              "\n",
              "        const docLinkHtml = 'Like what you see? Visit the ' +\n",
              "          '<a target=\"_blank\" href=https://colab.research.google.com/notebooks/data_table.ipynb>data table notebook</a>'\n",
              "          + ' to learn more about interactive tables.';\n",
              "        element.innerHTML = '';\n",
              "        dataTable['output_type'] = 'display_data';\n",
              "        await google.colab.output.renderOutput(dataTable, element);\n",
              "        const docLink = document.createElement('div');\n",
              "        docLink.innerHTML = docLinkHtml;\n",
              "        element.appendChild(docLink);\n",
              "      }\n",
              "    </script>\n",
              "  </div>\n",
              "\n",
              "\n",
              "<div id=\"df-491fc925-3d3e-42c1-ad5d-2b0a7e2d066a\">\n",
              "  <button class=\"colab-df-quickchart\" onclick=\"quickchart('df-491fc925-3d3e-42c1-ad5d-2b0a7e2d066a')\"\n",
              "            title=\"Suggest charts\"\n",
              "            style=\"display:none;\">\n",
              "\n",
              "<svg xmlns=\"http://www.w3.org/2000/svg\" height=\"24px\"viewBox=\"0 0 24 24\"\n",
              "     width=\"24px\">\n",
              "    <g>\n",
              "        <path d=\"M19 3H5c-1.1 0-2 .9-2 2v14c0 1.1.9 2 2 2h14c1.1 0 2-.9 2-2V5c0-1.1-.9-2-2-2zM9 17H7v-7h2v7zm4 0h-2V7h2v10zm4 0h-2v-4h2v4z\"/>\n",
              "    </g>\n",
              "</svg>\n",
              "  </button>\n",
              "\n",
              "<style>\n",
              "  .colab-df-quickchart {\n",
              "      --bg-color: #E8F0FE;\n",
              "      --fill-color: #1967D2;\n",
              "      --hover-bg-color: #E2EBFA;\n",
              "      --hover-fill-color: #174EA6;\n",
              "      --disabled-fill-color: #AAA;\n",
              "      --disabled-bg-color: #DDD;\n",
              "  }\n",
              "\n",
              "  [theme=dark] .colab-df-quickchart {\n",
              "      --bg-color: #3B4455;\n",
              "      --fill-color: #D2E3FC;\n",
              "      --hover-bg-color: #434B5C;\n",
              "      --hover-fill-color: #FFFFFF;\n",
              "      --disabled-bg-color: #3B4455;\n",
              "      --disabled-fill-color: #666;\n",
              "  }\n",
              "\n",
              "  .colab-df-quickchart {\n",
              "    background-color: var(--bg-color);\n",
              "    border: none;\n",
              "    border-radius: 50%;\n",
              "    cursor: pointer;\n",
              "    display: none;\n",
              "    fill: var(--fill-color);\n",
              "    height: 32px;\n",
              "    padding: 0;\n",
              "    width: 32px;\n",
              "  }\n",
              "\n",
              "  .colab-df-quickchart:hover {\n",
              "    background-color: var(--hover-bg-color);\n",
              "    box-shadow: 0 1px 2px rgba(60, 64, 67, 0.3), 0 1px 3px 1px rgba(60, 64, 67, 0.15);\n",
              "    fill: var(--button-hover-fill-color);\n",
              "  }\n",
              "\n",
              "  .colab-df-quickchart-complete:disabled,\n",
              "  .colab-df-quickchart-complete:disabled:hover {\n",
              "    background-color: var(--disabled-bg-color);\n",
              "    fill: var(--disabled-fill-color);\n",
              "    box-shadow: none;\n",
              "  }\n",
              "\n",
              "  .colab-df-spinner {\n",
              "    border: 2px solid var(--fill-color);\n",
              "    border-color: transparent;\n",
              "    border-bottom-color: var(--fill-color);\n",
              "    animation:\n",
              "      spin 1s steps(1) infinite;\n",
              "  }\n",
              "\n",
              "  @keyframes spin {\n",
              "    0% {\n",
              "      border-color: transparent;\n",
              "      border-bottom-color: var(--fill-color);\n",
              "      border-left-color: var(--fill-color);\n",
              "    }\n",
              "    20% {\n",
              "      border-color: transparent;\n",
              "      border-left-color: var(--fill-color);\n",
              "      border-top-color: var(--fill-color);\n",
              "    }\n",
              "    30% {\n",
              "      border-color: transparent;\n",
              "      border-left-color: var(--fill-color);\n",
              "      border-top-color: var(--fill-color);\n",
              "      border-right-color: var(--fill-color);\n",
              "    }\n",
              "    40% {\n",
              "      border-color: transparent;\n",
              "      border-right-color: var(--fill-color);\n",
              "      border-top-color: var(--fill-color);\n",
              "    }\n",
              "    60% {\n",
              "      border-color: transparent;\n",
              "      border-right-color: var(--fill-color);\n",
              "    }\n",
              "    80% {\n",
              "      border-color: transparent;\n",
              "      border-right-color: var(--fill-color);\n",
              "      border-bottom-color: var(--fill-color);\n",
              "    }\n",
              "    90% {\n",
              "      border-color: transparent;\n",
              "      border-bottom-color: var(--fill-color);\n",
              "    }\n",
              "  }\n",
              "</style>\n",
              "\n",
              "  <script>\n",
              "    async function quickchart(key) {\n",
              "      const quickchartButtonEl =\n",
              "        document.querySelector('#' + key + ' button');\n",
              "      quickchartButtonEl.disabled = true;  // To prevent multiple clicks.\n",
              "      quickchartButtonEl.classList.add('colab-df-spinner');\n",
              "      try {\n",
              "        const charts = await google.colab.kernel.invokeFunction(\n",
              "            'suggestCharts', [key], {});\n",
              "      } catch (error) {\n",
              "        console.error('Error during call to suggestCharts:', error);\n",
              "      }\n",
              "      quickchartButtonEl.classList.remove('colab-df-spinner');\n",
              "      quickchartButtonEl.classList.add('colab-df-quickchart-complete');\n",
              "    }\n",
              "    (() => {\n",
              "      let quickchartButtonEl =\n",
              "        document.querySelector('#df-491fc925-3d3e-42c1-ad5d-2b0a7e2d066a button');\n",
              "      quickchartButtonEl.style.display =\n",
              "        google.colab.kernel.accessAllowed ? 'block' : 'none';\n",
              "    })();\n",
              "  </script>\n",
              "</div>\n",
              "\n",
              "    </div>\n",
              "  </div>\n"
            ]
          },
          "metadata": {},
          "execution_count": 12
        }
      ]
    },
    {
      "cell_type": "code",
      "execution_count": 13,
      "metadata": {
        "colab": {
          "base_uri": "https://localhost:8080/"
        },
        "id": "4TxdaEIaNmBV",
        "outputId": "5c7115ae-e092-4e97-c9a6-511c4a7805b3"
      },
      "outputs": [
        {
          "output_type": "stream",
          "name": "stdout",
          "text": [
            "Number of unique words: 34970\n"
          ]
        }
      ],
      "source": [
        "tokenizer = Tokenizer()\n",
        "tokenizer.fit_on_texts(texts)\n",
        "\n",
        "sequence_train = tokenizer.texts_to_sequences(texts_train)\n",
        "sequence_test = tokenizer.texts_to_sequences(texts_test)\n",
        "\n",
        "index_of_words = tokenizer.word_index\n",
        "\n",
        "# Number of unique words + reserved 0 index for padding\n",
        "vocab_size = len(index_of_words) + 1\n",
        "\n",
        "print('Number of unique words: {}'.format(len(index_of_words)))"
      ]
    },
    {
      "cell_type": "markdown",
      "metadata": {
        "id": "OKgJWxkmNmBO"
      },
      "source": [
        "## Defining vector space dimension and fixed input size"
      ]
    },
    {
      "cell_type": "code",
      "execution_count": 14,
      "metadata": {
        "id": "sSKMSvwKNmBO"
      },
      "outputs": [],
      "source": [
        "# Number of labels: joy, anger, fear, sadness, neutral\n",
        "num_classes = 5\n",
        "\n",
        "# Number of dimensions for word embedding\n",
        "embed_num_dims = 300\n",
        "\n",
        "# Max input length (max number of words)\n",
        "max_seq_len = 500\n",
        "\n",
        "class_names = ['joy', 'fear', 'anger', 'sadness', 'neutral']"
      ]
    },
    {
      "cell_type": "code",
      "execution_count": 15,
      "metadata": {
        "colab": {
          "base_uri": "https://localhost:8080/"
        },
        "id": "8hgdHfEhNmBW",
        "outputId": "f776be8b-a36f-4687-e8f4-35efeecf6412"
      },
      "outputs": [
        {
          "output_type": "execute_result",
          "data": {
            "text/plain": [
              "array([[    0,     0,     0, ...,     6,     7, 12579],\n",
              "       [    0,     0,     0, ...,     6,     7, 12580],\n",
              "       [    0,     0,     0, ...,     6,     7, 12582],\n",
              "       ...,\n",
              "       [    0,     0,     0, ...,   245,    18, 28191],\n",
              "       [    0,     0,     0, ...,    78,    19,   825],\n",
              "       [    0,     0,     0, ...,     6,     7, 28193]], dtype=int32)"
            ]
          },
          "metadata": {},
          "execution_count": 15
        }
      ],
      "source": [
        "X_train_pad = pad_sequences(sequence_train, maxlen = max_seq_len )\n",
        "X_test_pad = pad_sequences(sequence_test, maxlen = max_seq_len )\n",
        "\n",
        "X_train_pad"
      ]
    },
    {
      "cell_type": "code",
      "source": [
        "print (X_train.head(3))\n",
        "print (X_test.head(3))\n",
        "print (y_train.head(3))\n",
        "print (y_test.head(3))"
      ],
      "metadata": {
        "colab": {
          "base_uri": "https://localhost:8080/"
        },
        "id": "dJk-kehJ9lGN",
        "outputId": "2464aa29-056c-4ef7-843e-07979af24af9"
      },
      "execution_count": 16,
      "outputs": [
        {
          "output_type": "stream",
          "name": "stdout",
          "text": [
            "12974    @Dell #XPS13 Plus # Review from @engadget.  Th...\n",
            "10276    Almost ready to start using @ubuntu. Just inst...\n",
            "22181    Trying to work on a slow old desktop or laptop...\n",
            "Name: Text, dtype: object\n",
            "6482     \"Using the latest generation @Dell hardware wi...\n",
            "13625            I need some sponsors for my channel @Dell\n",
            "21043    @lilzozu @bravadogaming @Alienware @intel @Int...\n",
            "Name: Text, dtype: object\n",
            "12974    neutral\n",
            "10276        joy\n",
            "22181    neutral\n",
            "Name: emotion, dtype: object\n",
            "6482         joy\n",
            "13625    neutral\n",
            "21043    neutral\n",
            "Name: emotion, dtype: object\n"
          ]
        }
      ]
    },
    {
      "cell_type": "markdown",
      "metadata": {
        "id": "S3ealWugNmBX"
      },
      "source": [
        "## Encode and Categorise labels (Emotions)"
      ]
    },
    {
      "cell_type": "code",
      "source": [
        "def encode_labels(labels, encoding):\n",
        "    encoded_labels = [encoding[label] for label in labels]\n",
        "    return encoded_labels\n",
        "\n",
        "# Define the encoding dictionary\n",
        "encoding = {\n",
        "    'joy': 0,\n",
        "    'fear': 1,\n",
        "    'anger': 2,\n",
        "    'sadness': 3,\n",
        "    'neutral': 4\n",
        "}\n",
        "\n",
        "# Use the function to encode the labels\n",
        "y_train = encode_labels(y_train, encoding)\n",
        "y_test = encode_labels(y_test, encoding)\n",
        "\n",
        "print(y_train)"
      ],
      "metadata": {
        "colab": {
          "base_uri": "https://localhost:8080/"
        },
        "id": "T-P7UNZe_ks3",
        "outputId": "6b746e18-9996-4dbd-bc2d-25b0ab3b4e12"
      },
      "execution_count": 17,
      "outputs": [
        {
          "output_type": "stream",
          "name": "stdout",
          "text": [
            "[4, 0, 4, 2, 0, 2, 4, 4, 4, 4, 0, 2, 4, 4, 4, 4, 4, 0, 4, 0, 0, 0, 0, 4, 4, 2, 4, 2, 2, 0, 4, 2, 4, 4, 2, 2, 4, 0, 2, 4, 4, 4, 0, 0, 0, 0, 4, 2, 0, 0, 0, 3, 4, 2, 0, 4, 2, 2, 2, 4, 0, 4, 4, 2, 4, 2, 2, 0, 0, 2, 3, 0, 0, 0, 2, 2, 4, 2, 2, 4, 2, 4, 2, 4, 4, 0, 2, 0, 4, 4, 4, 4, 3, 0, 4, 3, 4, 4, 0, 3, 4, 3, 1, 0, 2, 2, 0, 4, 2, 3, 4, 2, 2, 0, 4, 4, 3, 0, 0, 0, 0, 2, 4, 0, 2, 2, 4, 2, 3, 3, 4, 0, 0, 2, 0, 4, 0, 0, 0, 0, 2, 0, 2, 4, 4, 2, 4, 0, 4, 0, 3, 4, 0, 0, 3, 4, 2, 4, 2, 0, 0, 4, 4, 0, 0, 2, 4, 1, 2, 0, 0, 4, 4, 0, 4, 0, 0, 1, 4, 2, 3, 2, 0, 4, 0, 0, 4, 4, 4, 2, 0, 2, 1, 4, 2, 2, 4, 4, 4, 0, 0, 3, 3, 2, 4, 2, 3, 4, 4, 4, 4, 4, 4, 2, 0, 3, 4, 2, 4, 3, 4, 4, 4, 3, 4, 4, 2, 2, 4, 0, 4, 4, 4, 3, 0, 2, 4, 0, 4, 0, 2, 4, 2, 2, 3, 2, 0, 0, 4, 2, 4, 2, 2, 3, 4, 2, 4, 4, 3, 4, 0, 4, 0, 2, 4, 4, 4, 0, 4, 4, 4, 2, 0, 0, 4, 2, 2, 0, 4, 4, 0, 0, 2, 2, 0, 4, 4, 2, 4, 4, 2, 4, 2, 0, 4, 4, 4, 4, 2, 3, 2, 4, 4, 2, 0, 4, 2, 3, 0, 4, 3, 2, 0, 2, 0, 0, 0, 0, 0, 3, 4, 0, 4, 3, 0, 4, 4, 0, 4, 4, 2, 2, 2, 0, 4, 2, 0, 2, 4, 4, 0, 2, 0, 4, 4, 1, 4, 4, 0, 4, 2, 0, 4, 3, 0, 2, 4, 4, 4, 4, 2, 4, 4, 0, 2, 0, 4, 4, 0, 0, 4, 4, 0, 0, 2, 0, 2, 2, 4, 2, 0, 4, 4, 4, 0, 4, 2, 2, 2, 4, 4, 4, 2, 2, 0, 2, 2, 0, 2, 4, 2, 0, 4, 4, 4, 0, 0, 3, 4, 4, 2, 4, 4, 4, 0, 0, 0, 0, 0, 0, 2, 4, 4, 2, 4, 4, 2, 0, 4, 0, 2, 0, 1, 2, 4, 4, 4, 0, 0, 2, 0, 2, 0, 2, 4, 4, 4, 2, 4, 4, 0, 2, 4, 4, 0, 4, 4, 2, 2, 2, 4, 2, 4, 0, 4, 2, 2, 0, 4, 2, 0, 2, 2, 0, 0, 4, 4, 4, 4, 0, 0, 2, 0, 2, 2, 2, 4, 0, 4, 4, 0, 0, 0, 4, 4, 0, 0, 0, 4, 4, 4, 0, 0, 4, 0, 2, 0, 0, 4, 2, 2, 4, 3, 2, 4, 4, 0, 4, 0, 4, 2, 0, 0, 0, 2, 4, 2, 2, 2, 0, 4, 4, 4, 0, 4, 4, 2, 2, 4, 4, 2, 2, 4, 0, 4, 3, 3, 4, 0, 0, 3, 0, 4, 4, 4, 2, 2, 2, 4, 4, 0, 4, 4, 0, 2, 4, 4, 4, 4, 4, 0, 4, 2, 4, 2, 0, 4, 2, 4, 0, 4, 2, 2, 2, 0, 2, 0, 2, 0, 2, 4, 4, 2, 4, 0, 0, 4, 0, 2, 2, 4, 2, 4, 0, 1, 4, 3, 1, 2, 4, 2, 4, 4, 4, 2, 0, 4, 2, 2, 2, 4, 4, 2, 4, 2, 4, 2, 4, 4, 0, 4, 0, 0, 4, 0, 2, 4, 4, 4, 2, 0, 4, 4, 0, 3, 0, 0, 2, 2, 2, 0, 4, 4, 2, 3, 4, 2, 4, 2, 4, 2, 4, 4, 4, 0, 4, 4, 0, 0, 2, 2, 4, 3, 4, 2, 2, 4, 3, 3, 2, 3, 4, 0, 4, 3, 0, 2, 2, 0, 4, 2, 0, 2, 0, 3, 2, 2, 2, 3, 2, 0, 2, 2, 4, 2, 4, 4, 4, 2, 4, 2, 0, 2, 4, 0, 2, 4, 4, 4, 4, 4, 2, 4, 0, 0, 0, 2, 2, 2, 4, 4, 2, 4, 1, 4, 0, 0, 2, 0, 2, 2, 4, 2, 4, 4, 4, 4, 4, 4, 2, 4, 2, 2, 2, 4, 2, 2, 2, 2, 4, 4, 4, 4, 4, 4, 4, 2, 4, 4, 0, 4, 0, 2, 2, 4, 4, 2, 3, 2, 0, 4, 1, 0, 0, 2, 2, 0, 4, 2, 2, 0, 2, 0, 0, 2, 4, 2, 2, 4, 0, 0, 2, 4, 4, 1, 2, 0, 2, 4, 4, 4, 4, 2, 2, 0, 2, 4, 2, 4, 4, 4, 2, 2, 4, 2, 4, 2, 2, 3, 0, 3, 2, 4, 4, 2, 4, 4, 2, 4, 4, 2, 2, 4, 4, 0, 0, 4, 4, 0, 4, 0, 4, 4, 0, 2, 4, 0, 4, 0, 2, 2, 0, 2, 4, 4, 4, 0, 2, 2, 4, 4, 2, 4, 2, 4, 2, 0, 3, 3, 2, 0, 3, 0, 2, 2, 3, 2, 2, 4, 4, 4, 0, 2, 4, 3, 0, 0, 4, 4, 0, 3, 0, 0, 2, 4, 0, 2, 0, 2, 2, 1, 2, 0, 4, 4, 2, 2, 4, 2, 0, 2, 2, 2, 4, 4, 2, 0, 3, 4, 4, 2, 4, 4, 4, 0, 2, 2, 4, 2, 0, 2, 4, 2, 4, 4, 0, 4, 0, 2, 2, 1, 3, 4, 3, 2, 4, 0, 2, 4, 2, 2, 4, 2, 4, 0, 2, 4, 4, 4, 0, 4, 2, 4, 0, 4, 2, 2, 0, 3, 4, 4, 0, 2, 3, 0, 4, 4, 0, 0, 2, 2, 2, 2, 2, 2, 0, 2, 4, 2, 2, 4, 4, 2, 4, 2, 4, 2, 0, 0, 2, 3, 4, 2, 4, 2, 4, 3, 4, 0, 2, 4, 4, 2, 4, 3, 2, 0, 4, 0, 0, 2, 4, 4, 2, 0, 4, 2, 2, 4, 2, 0, 4, 4, 0, 2, 4, 4, 0, 2, 2, 0, 0, 2, 4, 0, 4, 0, 4, 3, 4, 2, 0, 4, 0, 2, 4, 4, 4, 0, 2, 4, 3, 4, 4, 2, 2, 2, 4, 2, 0, 4, 0, 4, 0, 0, 4, 2, 4, 4, 2, 0, 2, 4, 4, 0, 0, 4, 0, 0, 0, 4, 4, 0, 2, 4, 0, 0, 0, 0, 4, 2, 4, 0, 4, 0, 2, 4, 4, 4, 4, 4, 4, 4, 4, 2, 0, 2, 4, 4, 2, 4, 4, 1, 0, 2, 4, 2, 0, 0, 2, 2, 2, 4, 4, 4, 0, 4, 0, 0, 2, 4, 4, 2, 4, 0, 0, 4, 2, 3, 4, 0, 1, 2, 2, 4, 3, 2, 0, 4, 4, 2, 0, 2, 2, 4, 0, 4, 0, 0, 4, 2, 4, 4, 0, 0, 2, 4, 2, 0, 0, 0, 2, 4, 4, 0, 0, 4, 4, 2, 2, 0, 0, 0, 0, 0, 2, 2, 2, 4, 1, 4, 2, 4, 2, 0, 2, 2, 0, 2, 0, 0, 2, 4, 4, 4, 2, 4, 0, 0, 4, 4, 4, 2, 2, 2, 4, 2, 4, 0, 0, 0, 4, 4, 2, 0, 4, 2, 0, 4, 3, 0, 3, 2, 2, 0, 2, 3, 2, 2, 1, 4, 4, 2, 4, 0, 4, 4, 2, 0, 2, 4, 0, 4, 0, 4, 3, 4, 4, 2, 4, 3, 4, 0, 4, 4, 4, 4, 2, 0, 4, 4, 4, 1, 0, 4, 4, 2, 4, 0, 0, 2, 0, 4, 0, 4, 4, 0, 4, 0, 2, 4, 2, 4, 1, 4, 0, 4, 4, 2, 0, 0, 4, 4, 0, 4, 4, 0, 0, 3, 2, 2, 4, 0, 2, 0, 0, 4, 0, 4, 2, 1, 4, 2, 4, 4, 0, 4, 4, 4, 4, 4, 2, 4, 4, 4, 2, 4, 0, 4, 0, 0, 4, 0, 3, 1, 2, 0, 0, 2, 4, 2, 0, 4, 1, 4, 2, 0, 4, 0, 2, 0, 4, 4, 1, 4, 0, 2, 4, 3, 0, 2, 2, 4, 0, 4, 0, 2, 0, 2, 2, 4, 2, 3, 0, 0, 4, 4, 0, 2, 0, 4, 2, 4, 0, 2, 4, 4, 4, 2, 4, 4, 4, 0, 2, 4, 2, 4, 0, 1, 2, 4, 4, 0, 4, 0, 4, 4, 0, 4, 4, 2, 2, 4, 4, 4, 4, 1, 4, 2, 2, 4, 4, 4, 0, 4, 2, 4, 4, 4, 0, 4, 4, 0, 0, 2, 4, 2, 4, 2, 4, 2, 4, 4, 2, 2, 4, 2, 4, 0, 4, 0, 2, 4, 0, 2, 0, 4, 0, 2, 2, 0, 4, 2, 4, 3, 2, 0, 4, 2, 4, 4, 4, 2, 4, 2, 2, 2, 2, 4, 2, 2, 4, 2, 1, 0, 4, 2, 0, 4, 0, 0, 4, 4, 4, 4, 0, 0, 4, 3, 0, 4, 0, 4, 4, 0, 4, 2, 3, 4, 4, 2, 2, 0, 2, 2, 2, 2, 0, 4, 4, 4, 3, 3, 2, 0, 2, 4, 2, 3, 2, 4, 0, 2, 2, 2, 2, 2, 4, 0, 2, 3, 4, 2, 4, 4, 0, 4, 2, 0, 4, 0, 4, 0, 0, 0, 4, 0, 2, 2, 2, 4, 4, 4, 0, 4, 2, 2, 4, 4, 0, 0, 4, 2, 4, 4, 0, 4, 0, 2, 0, 4, 4, 0, 0, 0, 4, 0, 2, 3, 0, 2, 4, 4, 0, 4, 2, 0, 0, 2, 0, 2, 4, 4, 0, 4, 2, 0, 4, 4, 0, 0, 2, 3, 4, 1, 4, 0, 4, 2, 2, 0, 0, 0, 4, 0, 4, 0, 1, 4, 2, 4, 0, 3, 4, 4, 2, 4, 2, 3, 0, 0, 0, 0, 2, 2, 4, 4, 2, 4, 2, 2, 0, 3, 4, 4, 2, 4, 4, 2, 0, 0, 4, 3, 4, 3, 0, 3, 0, 2, 4, 0, 4, 4, 2, 0, 4, 4, 0, 2, 0, 4, 4, 0, 4, 3, 4, 2, 4, 2, 2, 0, 4, 0, 2, 2, 0, 4, 4, 4, 0, 0, 4, 2, 0, 4, 2, 2, 0, 4, 4, 2, 4, 0, 3, 0, 4, 2, 0, 4, 3, 2, 2, 4, 2, 4, 2, 2, 4, 0, 4, 4, 4, 0, 2, 4, 0, 0, 2, 2, 0, 4, 0, 0, 4, 2, 0, 3, 4, 0, 4, 2, 0, 4, 2, 4, 4, 2, 0, 0, 4, 4, 4, 4, 4, 0, 3, 2, 2, 4, 4, 3, 0, 4, 3, 4, 0, 4, 2, 0, 0, 4, 0, 0, 4, 3, 2, 2, 0, 0, 4, 0, 4, 4, 4, 4, 4, 4, 0, 2, 2, 4, 4, 0, 0, 2, 0, 0, 4, 4, 2, 2, 2, 2, 0, 4, 2, 4, 2, 2, 4, 4, 4, 4, 2, 0, 0, 4, 4, 4, 4, 4, 2, 4, 3, 2, 2, 0, 4, 0, 0, 4, 4, 4, 2, 0, 4, 0, 2, 0, 4, 4, 4, 4, 2, 0, 4, 2, 4, 4, 4, 2, 2, 0, 0, 4, 4, 2, 0, 0, 0, 2, 4, 0, 1, 0, 1, 0, 0, 0, 4, 2, 4, 2, 2, 0, 0, 4, 2, 2, 2, 2, 2, 0, 2, 4, 0, 0, 4, 3, 2, 4, 4, 4, 0, 2, 4, 4, 2, 4, 0, 0, 2, 1, 0, 4, 2, 4, 4, 3, 2, 0, 4, 3, 2, 0, 0, 4, 0, 0, 4, 4, 4, 2, 0, 4, 4, 4, 4, 2, 3, 0, 2, 2, 4, 4, 1, 2, 4, 3, 4, 2, 4, 2, 4, 4, 0, 0, 0, 4, 4, 0, 2, 1, 2, 4, 3, 0, 4, 0, 2, 2, 4, 2, 4, 0, 0, 0, 4, 0, 2, 4, 2, 0, 4, 4, 4, 3, 4, 0, 0, 4, 1, 0, 2, 3, 4, 4, 4, 2, 2, 3, 2, 4, 1, 4, 4, 2, 4, 0, 4, 2, 2, 4, 2, 0, 2, 4, 3, 2, 3, 0, 2, 4, 2, 0, 2, 4, 2, 0, 4, 2, 2, 4, 2, 4, 2, 2, 0, 4, 4, 2, 4, 1, 2, 4, 3, 2, 2, 0, 2, 0, 4, 4, 2, 2, 4, 2, 4, 2, 0, 2, 0, 0, 2, 2, 2, 2, 4, 2, 0, 4, 4, 2, 4, 4, 0, 3, 4, 4, 0, 4, 4, 0, 3, 3, 2, 4, 0, 4, 2, 4, 3, 0, 2, 4, 2, 2, 0, 4, 0, 2, 0, 4, 2, 0, 2, 2, 2, 4, 2, 2, 2, 2, 2, 2, 0, 2, 4, 2, 2, 4, 0, 4, 4, 2, 0, 4, 4, 4, 0, 1, 4, 4, 0, 4, 2, 4, 0, 4, 0, 2, 4, 4, 3, 2, 4, 0, 2, 4, 4, 2, 2, 0, 3, 2, 0, 4, 2, 2, 4, 2, 2, 2, 3, 0, 4, 4, 2, 0, 0, 0, 0, 2, 2, 4, 0, 1, 0, 4, 0, 4, 2, 4, 0, 4, 2, 3, 0, 4, 2, 0, 1, 4, 2, 0, 2, 2, 0, 2, 4, 4, 3, 4, 2, 4, 4, 0, 4, 4, 4, 4, 0, 2, 3, 0, 0, 0, 4, 3, 3, 2, 2, 2, 4, 2, 4, 4, 3, 2, 4, 2, 0, 2, 4, 2, 2, 2, 4, 2, 4, 2, 2, 4, 4, 4, 0, 2, 1, 0, 2, 0, 4, 2, 4, 2, 4, 2, 4, 2, 4, 2, 3, 0, 4, 0, 1, 0, 4, 4, 2, 4, 2, 2, 2, 0, 4, 0, 0, 4, 4, 2, 2, 4, 0, 2, 4, 3, 0, 2, 4, 4, 2, 4, 4, 0, 4, 0, 4, 4, 3, 0, 4, 4, 4, 0, 2, 0, 4, 0, 2, 4, 0, 0, 2, 4, 2, 2, 4, 0, 2, 4, 0, 2, 2, 2, 4, 2, 3, 4, 4, 0, 2, 2, 0, 2, 0, 4, 2, 4, 4, 4, 1, 4, 4, 4, 4, 2, 4, 4, 2, 4, 2, 0, 0, 2, 4, 3, 4, 4, 0, 0, 0, 0, 0, 4, 4, 2, 0, 0, 0, 3, 4, 2, 0, 2, 1, 2, 4, 4, 0, 4, 4, 2, 2, 0, 4, 0, 0, 4, 0, 2, 2, 3, 2, 0, 4, 2, 2, 4, 4, 4, 2, 3, 3, 0, 0, 4, 4, 2, 4, 4, 2, 0, 1, 3, 2, 2, 4, 2, 2, 4, 0, 4, 0, 2, 4, 4, 4, 0, 4, 3, 2, 4, 0, 4, 2, 2, 2, 0, 4, 4, 2, 2, 4, 2, 4, 2, 4, 2, 2, 3, 2, 4, 4, 2, 0, 0, 0, 2, 0, 0, 2, 2, 4, 3, 2, 4, 0, 2, 0, 4, 2, 3, 0, 4, 0, 4, 4, 4, 4, 2, 2, 2, 3, 4, 0, 2, 4, 0, 4, 2, 4, 4, 2, 2, 0, 2, 4, 4, 2, 4, 4, 2, 4, 3, 4, 4, 2, 4, 2, 2, 2, 0, 2, 4, 2, 4, 4, 4, 4, 4, 0, 4, 0, 4, 0, 2, 0, 2, 2, 0, 4, 2, 4, 4, 4, 0, 4, 4, 2, 2, 4, 4, 2, 4, 2, 1, 4, 4, 2, 4, 2, 4, 4, 2, 0, 0, 3, 2, 0, 1, 0, 4, 2, 2, 4, 4, 0, 2, 4, 4, 0, 4, 4, 4, 0, 4, 0, 3, 4, 2, 2, 3, 4, 2, 0, 3, 4, 2, 2, 4, 0, 0, 4, 4, 4, 1, 4, 0, 4, 4, 0, 4, 0, 2, 0, 2, 0, 4, 4, 4, 4, 4, 2, 2, 0, 2, 4, 2, 0, 2, 0, 4, 4, 2, 4, 3, 4, 2, 2, 4, 4, 2, 2, 4, 3, 0, 0, 2, 2, 0, 4, 2, 2, 4, 4, 4, 2, 4, 4, 4, 0, 2, 2, 4, 0, 0, 4, 0, 4, 0, 4, 1, 4, 0, 2, 4, 4, 2, 4, 4, 2, 2, 2, 2, 4, 2, 0, 0, 4, 2, 4, 4, 1, 0, 4, 0, 4, 0, 4, 2, 4, 0, 4, 1, 4, 2, 2, 0, 2, 2, 3, 2, 0, 0, 2, 2, 4, 0, 0, 2, 2, 4, 0, 0, 4, 4, 2, 0, 4, 2, 2, 2, 4, 0, 2, 0, 4, 4, 2, 0, 0, 4, 4, 4, 2, 4, 0, 2, 2, 3, 4, 4, 0, 4, 4, 4, 3, 2, 2, 2, 2, 4, 4, 0, 0, 2, 0, 0, 2, 2, 2, 2, 4, 4, 0, 4, 2, 3, 2, 4, 4, 4, 0, 0, 2, 2, 4, 4, 4, 0, 0, 0, 2, 2, 2, 4, 4, 2, 2, 2, 2, 0, 4, 4, 3, 2, 4, 4, 4, 2, 3, 2, 4, 0, 2, 4, 4, 0, 4, 4, 4, 4, 2, 0, 4, 4, 4, 4, 4, 2, 4, 4, 4, 2, 0, 0, 2, 0, 3, 2, 0, 3, 0, 4, 4, 0, 4, 2, 0, 4, 1, 0, 0, 4, 2, 0, 2, 0, 4, 0, 4, 0, 2, 2, 3, 0, 4, 2, 4, 4, 2, 4, 4, 2, 4, 2, 4, 0, 4, 0, 0, 4, 4, 0, 3, 0, 4, 0, 4, 0, 4, 0, 4, 2, 0, 0, 4, 0, 4, 4, 0, 2, 2, 4, 2, 2, 2, 4, 2, 3, 3, 4, 2, 2, 4, 2, 2, 2, 0, 4, 4, 4, 0, 4, 2, 4, 2, 4, 4, 0, 4, 0, 4, 4, 2, 4, 2, 4, 4, 0, 0, 4, 2, 2, 4, 4, 0, 4, 1, 1, 0, 0, 0, 4, 4, 0, 4, 4, 4, 2, 0, 0, 2, 2, 4, 4, 2, 2, 4, 4, 2, 0, 2, 2, 0, 0, 4, 2, 2, 4, 0, 4, 2, 4, 2, 0, 2, 0, 0, 2, 4, 4, 2, 3, 2, 4, 4, 4, 2, 2, 4, 2, 0, 0, 1, 2, 4, 0, 2, 2, 2, 0, 4, 2, 4, 0, 0, 4, 4, 4, 2, 4, 4, 4, 2, 4, 2, 4, 0, 3, 2, 4, 4, 2, 0, 2, 0, 0, 2, 4, 0, 0, 2, 4, 4, 4, 2, 3, 4, 4, 4, 0, 4, 3, 2, 0, 4, 2, 0, 4, 4, 4, 2, 4, 4, 2, 0, 3, 0, 4, 0, 2, 4, 2, 2, 0, 0, 2, 4, 2, 4, 0, 4, 0, 0, 2, 4, 0, 2, 2, 2, 2, 4, 2, 0, 4, 0, 0, 2, 2, 0, 0, 2, 3, 4, 2, 0, 0, 0, 0, 3, 2, 2, 4, 0, 4, 3, 0, 0, 4, 4, 2, 2, 2, 0, 4, 0, 4, 2, 0, 4, 2, 0, 4, 4, 4, 2, 4, 4, 4, 2, 2, 4, 4, 0, 4, 2, 2, 4, 2, 4, 2, 4, 2, 4, 4, 4, 2, 2, 4, 0, 4, 2, 4, 4, 2, 4, 2, 0, 4, 0, 4, 4, 0, 4, 4, 3, 0, 0, 4, 4, 4, 2, 0, 2, 0, 0, 3, 2, 4, 4, 1, 4, 4, 4, 4, 4, 0, 4, 4, 2, 2, 0, 2, 4, 4, 2, 2, 4, 0, 4, 2, 4, 3, 4, 0, 2, 2, 0, 4, 4, 3, 0, 0, 0, 2, 0, 2, 2, 0, 0, 2, 0, 4, 4, 4, 4, 4, 2, 4, 4, 0, 2, 4, 4, 4, 2, 0, 4, 4, 0, 4, 4, 3, 2, 2, 4, 4, 4, 4, 4, 4, 4, 2, 0, 2, 2, 4, 0, 0, 3, 4, 4, 4, 4, 0, 1, 4, 2, 2, 4, 0, 0, 4, 4, 4, 0, 0, 4, 0, 2, 4, 4, 4, 4, 4, 2, 0, 0, 0, 3, 0, 0, 1, 4, 3, 2, 4, 2, 2, 3, 4, 2, 4, 4, 3, 2, 4, 3, 2, 0, 4, 2, 4, 0, 0, 4, 3, 2, 0, 2, 4, 2, 4, 4, 4, 2, 4, 0, 2, 2, 0, 0, 4, 4, 4, 0, 0, 4, 4, 3, 0, 4, 1, 4, 0, 2, 4, 0, 4, 2, 4, 4, 4, 4, 3, 4, 0, 2, 0, 2, 4, 2, 0, 3, 0, 2, 4, 4, 4, 0, 4, 2, 4, 2, 4, 0, 3, 2, 0, 0, 2, 2, 2, 2, 4, 4, 2, 4, 0, 2, 4, 0, 4, 4, 0, 0, 2, 2, 2, 0, 4, 0, 0, 4, 4, 4, 0, 4, 4, 0, 2, 4, 2, 2, 4, 0, 2, 4, 4, 4, 4, 0, 2, 0, 4, 0, 4, 1, 0, 0, 3, 2, 2, 4, 2, 0, 4, 1, 2, 4, 2, 2, 4, 0, 0, 2, 2, 4, 4, 0, 2, 0, 2, 0, 4, 4, 0, 4, 1, 2, 4, 0, 0, 4, 4, 0, 2, 2, 0, 4, 0, 4, 4, 0, 2, 0, 4, 1, 2, 4, 4, 0, 2, 2, 4, 2, 0, 4, 4, 4, 0, 4, 0, 4, 2, 2, 2, 3, 4, 2, 4, 0, 2, 4, 0, 2, 0, 4, 4, 0, 4, 0, 4, 2, 0, 4, 2, 0, 2, 2, 2, 0, 0, 0, 4, 2, 2, 0, 2, 4, 0, 0, 0, 2, 0, 0, 2, 0, 4, 0, 2, 0, 0, 0, 4, 2, 4, 4, 2, 2, 2, 1, 0, 4, 0, 4, 4, 4, 4, 1, 0, 2, 0, 0, 2, 0, 4, 2, 0, 0, 3, 0, 2, 0, 2, 2, 4, 4, 2, 2, 2, 2, 0, 2, 0, 4, 2, 2, 4, 4, 4, 0, 3, 0, 0, 2, 4, 3, 3, 4, 2, 0, 1, 3, 2, 0, 2, 3, 4, 4, 1, 4, 0, 3, 1, 2, 4, 4, 2, 4, 4, 4, 0, 3, 3, 2, 2, 4, 4, 4, 0, 4, 0, 4, 0, 0, 4, 2, 2, 4, 4, 4, 4, 2, 4, 4, 0, 4, 2, 3, 4, 3, 3, 2, 0, 2, 4, 4, 4, 0, 4, 2, 0, 4, 4, 2, 0, 2, 2, 0, 2, 4, 2, 4, 2, 4, 3, 0, 2, 0, 4, 2, 4, 4, 4, 3, 3, 2, 4, 4, 0, 3, 2, 0, 4, 4, 4, 2, 2, 2, 2, 4, 0, 4, 2, 2, 4, 4, 4, 4, 4, 3, 4, 4, 0, 4, 0, 2, 2, 4, 3, 4, 4, 0, 2, 0, 0, 4, 2, 3, 4, 4, 4, 0, 2, 4, 4, 2, 2, 1, 0, 2, 0, 0, 0, 0, 2, 4, 2, 4, 2, 4, 2, 2, 4, 0, 0, 3, 3, 0, 4, 2, 0, 3, 0, 4, 4, 0, 0, 3, 4, 2, 4, 2, 2, 0, 2, 4, 0, 0, 2, 4, 0, 0, 4, 2, 4, 0, 4, 2, 2, 2, 0, 2, 4, 4, 3, 3, 2, 0, 4, 2, 4, 2, 2, 0, 4, 2, 4, 0, 4, 2, 4, 4, 2, 2, 0, 0, 0, 4, 2, 4, 4, 2, 2, 4, 2, 4, 2, 4, 2, 4, 0, 2, 4, 0, 2, 4, 2, 4, 0, 0, 0, 0, 0, 2, 0, 0, 1, 2, 4, 4, 2, 0, 0, 2, 2, 4, 3, 2, 2, 4, 2, 0, 2, 4, 2, 3, 2, 0, 4, 2, 0, 4, 4, 0, 2, 2, 2, 0, 2, 2, 4, 2, 4, 2, 4, 0, 0, 0, 2, 0, 0, 0, 4, 0, 2, 2, 3, 4, 4, 2, 0, 0, 0, 2, 2, 2, 4, 2, 2, 2, 0, 2, 0, 2, 4, 2, 2, 0, 4, 4, 4, 4, 3, 4, 4, 0, 4, 0, 0, 0, 4, 0, 0, 2, 4, 0, 2, 1, 4, 0, 0, 0, 4, 2, 2, 4, 3, 0, 1, 4, 4, 4, 4, 0, 0, 2, 0, 4, 0, 4, 4, 0, 0, 2, 4, 4, 0, 0, 2, 2, 4, 4, 1, 0, 4, 4, 2, 0, 4, 4, 4, 2, 4, 0, 4, 4, 3, 4, 4, 4, 4, 2, 2, 2, 4, 4, 4, 4, 0, 2, 0, 2, 2, 4, 2, 4, 4, 4, 0, 3, 4, 2, 2, 4, 4, 4, 0, 0, 4, 2, 0, 0, 2, 0, 4, 2, 2, 2, 0, 2, 4, 2, 2, 2, 4, 0, 2, 2, 0, 2, 0, 2, 4, 4, 2, 1, 3, 4, 4, 0, 2, 4, 4, 0, 2, 4, 3, 2, 2, 4, 0, 4, 2, 0, 2, 0, 0, 0, 3, 2, 2, 2, 4, 2, 4, 2, 0, 0, 2, 0, 0, 2, 4, 4, 2, 4, 4, 0, 2, 0, 4, 4, 2, 0, 2, 4, 4, 4, 2, 4, 0, 4, 0, 0, 2, 2, 4, 0, 4, 4, 4, 2, 4, 4, 4, 0, 4, 3, 0, 0, 2, 4, 4, 2, 4, 2, 4, 0, 0, 2, 4, 4, 4, 4, 4, 4, 0, 0, 4, 0, 4, 4, 2, 0, 2, 4, 3, 4, 0, 3, 2, 0, 0, 4, 0, 2, 2, 2, 2, 4, 4, 2, 0, 4, 4, 0, 4, 2, 2, 2, 0, 4, 4, 4, 4, 0, 3, 4, 2, 4, 2, 2, 2, 0, 4, 4, 2, 0, 3, 3, 2, 2, 2, 2, 4, 4, 4, 4, 4, 4, 4, 0, 2, 0, 0, 1, 0, 0, 4, 2, 4, 4, 0, 4, 1, 0, 4, 1, 2, 2, 2, 4, 0, 4, 4, 4, 2, 2, 0, 2, 4, 0, 1, 4, 2, 4, 2, 2, 4, 2, 4, 2, 4, 2, 0, 4, 1, 0, 0, 0, 0, 4, 4, 0, 2, 0, 4, 2, 4, 2, 0, 0, 2, 0, 0, 2, 2, 0, 0, 0, 2, 4, 0, 4, 0, 2, 4, 4, 1, 0, 2, 4, 4, 4, 2, 0, 4, 2, 2, 2, 4, 4, 4, 0, 2, 1, 0, 2, 2, 0, 4, 2, 4, 0, 2, 2, 0, 2, 3, 2, 4, 4, 4, 2, 4, 2, 2, 1, 2, 0, 4, 0, 2, 4, 4, 2, 4, 4, 2, 0, 4, 0, 2, 4, 4, 3, 2, 0, 2, 3, 4, 0, 2, 2, 0, 0, 4, 4, 4, 3, 2, 3, 2, 4, 0, 2, 2, 0, 4, 4, 0, 2, 2, 0, 0, 0, 1, 4, 2, 2, 4, 0, 4, 0, 4, 0, 1, 0, 4, 2, 2, 0, 2, 4, 4, 2, 2, 2, 4, 2, 0, 3, 0, 4, 4, 2, 2, 0, 4, 2, 2, 2, 2, 4, 4, 4, 4, 2, 2, 4, 3, 4, 4, 4, 4, 4, 4, 4, 2, 2, 2, 1, 2, 4, 0, 2, 2, 4, 2, 4, 2, 2, 4, 3, 4, 2, 0, 4, 4, 0, 2, 2, 4, 2, 4, 3, 4, 0, 2, 2, 4, 4, 0, 2, 0, 4, 2, 4, 2, 0, 4, 0, 2, 0, 2, 4, 4, 4, 4, 2, 3, 2, 4, 2, 4, 0, 2, 2, 2, 2, 2, 0, 4, 3, 2, 2, 0, 4, 0, 4, 4, 2, 4, 4, 4, 4, 4, 2, 4, 0, 3, 2, 2, 2, 0, 2, 2, 0, 4, 2, 2, 0, 2, 4, 4, 0, 2, 4, 4, 2, 4, 3, 2, 2, 3, 0, 2, 0, 4, 0, 2, 4, 4, 0, 4, 4, 4, 4, 2, 4, 4, 2, 0, 4, 2, 0, 3, 4, 0, 0, 4, 2, 4, 4, 0, 2, 2, 2, 0, 2, 0, 0, 4, 4, 4, 4, 2, 3, 2, 2, 4, 4, 4, 2, 4, 4, 3, 0, 2, 0, 0, 2, 1, 2, 2, 0, 4, 0, 2, 4, 2, 4, 2, 3, 2, 0, 4, 2, 0, 0, 0, 0, 4, 4, 2, 0, 0, 0, 2, 4, 4, 2, 0, 3, 2, 0, 4, 4, 4, 0, 4, 3, 2, 0, 2, 0, 4, 2, 2, 4, 2, 4, 4, 4, 2, 2, 4, 2, 2, 0, 4, 2, 2, 4, 4, 4, 4, 2, 4, 3, 4, 2, 0, 4, 4, 2, 0, 0, 4, 0, 4, 0, 2, 4, 4, 2, 2, 4, 4, 3, 0, 2, 0, 4, 4, 4, 4, 2, 2, 4, 4, 4, 0, 4, 4, 2, 4, 4, 2, 4, 3, 2, 0, 0, 0, 4, 4, 0, 4, 4, 0, 4, 3, 2, 0, 2, 2, 4, 4, 0, 2, 4, 0, 4, 0, 0, 0, 4, 0, 0, 4, 2, 2, 4, 4, 4, 4, 4, 0, 4, 0, 2, 4, 4, 4, 4, 0, 0, 0, 0, 4, 0, 4, 2, 4, 2, 0, 2, 4, 2, 2, 4, 3, 2, 0, 2, 2, 4, 0, 4, 4, 0, 0, 0, 0, 4, 0, 4, 0, 2, 0, 0, 2, 1, 0, 0, 2, 4, 4, 4, 2, 4, 4, 4, 4, 4, 4, 4, 2, 0, 4, 2, 2, 4, 0, 4, 2, 4, 4, 4, 4, 2, 4, 0, 4, 0, 2, 4, 0, 4, 2, 4, 2, 2, 4, 4, 4, 4, 0, 0, 4, 4, 4, 4, 2, 4, 2, 2, 0, 0, 4, 2, 0, 0, 2, 4, 4, 4, 2, 4, 4, 2, 0, 0, 4, 2, 2, 0, 4, 4, 2, 2, 4, 3, 2, 0, 4, 4, 0, 2, 4, 2, 4, 4, 0, 0, 4, 1, 2, 0, 4, 4, 0, 0, 4, 4, 2, 4, 4, 2, 4, 2, 3, 0, 4, 2, 1, 0, 2, 2, 0, 4, 4, 4, 2, 0, 2, 2, 2, 4, 4, 1, 4, 4, 4, 4, 4, 4, 0, 3, 4, 4, 4, 2, 2, 4, 0, 0, 4, 4, 0, 2, 0, 2, 0, 4, 0, 4, 2, 2, 2, 2, 2, 4, 4, 4, 2, 4, 0, 2, 2, 4, 3, 0, 4, 2, 2, 4, 4, 2, 2, 0, 0, 0, 0, 0, 4, 2, 4, 4, 2, 4, 0, 3, 2, 4, 4, 4, 2, 4, 3, 4, 4, 4, 2, 4, 4, 0, 2, 0, 4, 2, 2, 2, 0, 2, 4, 4, 4, 0, 2, 0, 4, 4, 2, 4, 0, 0, 0, 2, 2, 2, 4, 4, 2, 4, 0, 2, 2, 0, 0, 4, 2, 4, 4, 2, 0, 0, 4, 4, 4, 4, 2, 4, 0, 4, 0, 0, 4, 4, 4, 4, 2, 3, 3, 2, 4, 2, 0, 0, 4, 2, 4, 2, 4, 2, 2, 4, 4, 4, 0, 4, 2, 4, 0, 4, 4, 4, 2, 2, 2, 4, 4, 4, 2, 0, 4, 0, 4, 0, 2, 4, 2, 4, 4, 4, 2, 4, 3, 2, 2, 4, 0, 0, 4, 0, 4, 0, 2, 4, 4, 4, 2, 0, 2, 4, 2, 0, 4, 4, 2, 0, 0, 4, 1, 4, 2, 2, 4, 3, 2, 0, 4, 4, 2, 4, 2, 4, 0, 2, 4, 0, 4, 0, 4, 4, 4, 2, 4, 4, 2, 0, 2, 4, 2, 0, 3, 2, 0, 0, 0, 0, 4, 4, 0, 0, 4, 0, 2, 4, 2, 4, 4, 0, 4, 0, 2, 2, 4, 0, 2, 4, 0, 2, 4, 2, 4, 2, 2, 2, 4, 4, 2, 4, 0, 4, 2, 2, 4, 0, 2, 4, 0, 4, 4, 3, 4, 3, 4, 4, 2, 0, 4, 3, 2, 0, 2, 2, 2, 4, 0, 0, 0, 2, 0, 4, 0, 3, 4, 4, 0, 2, 4, 4, 4, 4, 0, 4, 2, 0, 3, 4, 0, 2, 2, 2, 3, 0, 2, 0, 2, 0, 4, 4, 4, 4, 0, 0, 4, 4, 4, 3, 0, 3, 4, 4, 4, 0, 0, 2, 4, 3, 0, 4, 2, 2, 4, 0, 4, 0, 4, 4, 0, 4, 4, 2, 0, 0, 2, 2, 4, 2, 4, 2, 2, 0, 2, 4, 0, 3, 4, 0, 0, 4, 3, 2, 2, 3, 4, 4, 2, 0, 0, 4, 4, 4, 2, 4, 4, 0, 0, 2, 0, 2, 0, 0, 4, 4, 0, 0, 2, 0, 3, 0, 0, 2, 4, 2, 4, 4, 4, 2, 2, 4, 0, 3, 0, 4, 0, 4, 2, 2, 2, 3, 4, 3, 2, 3, 1, 4, 1, 0, 0, 2, 2, 0, 0, 2, 2, 2, 0, 2, 2, 2, 4, 2, 0, 4, 2, 4, 4, 4, 2, 2, 2, 0, 2, 4, 4, 0, 4, 4, 2, 0, 0, 0, 4, 4, 4, 4, 2, 0, 4, 0, 4, 4, 2, 4, 4, 2, 2, 2, 0, 3, 4, 2, 2, 4, 0, 4, 2, 4, 4, 2, 0, 4, 2, 2, 2, 0, 4, 4, 0, 3, 0, 2, 3, 4, 4, 4, 4, 2, 3, 2, 4, 2, 0, 2, 0, 4, 4, 2, 4, 0, 0, 4, 4, 0, 2, 2, 2, 4, 4, 2, 0, 4, 4, 3, 3, 0, 4, 4, 0, 3, 1, 4, 0, 0, 0, 2, 4, 4, 0, 4, 3, 4, 0, 4, 2, 4, 4, 0, 2, 4, 4, 4, 4, 4, 2, 2, 4, 0, 4, 0, 0, 0, 0, 0, 0, 0, 2, 0, 2, 3, 2, 0, 4, 4, 2, 4, 0, 0, 0, 4, 4, 3, 4, 4, 1, 0, 4, 4, 2, 4, 4, 4, 4, 4, 4, 0, 4, 2, 2, 4, 4, 2, 2, 2, 2, 4, 2, 4, 4, 4, 0, 4, 2, 4, 0, 0, 0, 2, 4, 2, 0, 4, 0, 0, 2, 4, 2, 4, 4, 3, 0, 4, 2, 4, 4, 4, 4, 0, 4, 4, 4, 4, 4, 2, 0, 2, 4, 4, 4, 4, 0, 0, 2, 0, 4, 2, 2, 2, 4, 0, 4, 4, 0, 0, 3, 4, 0, 4, 4, 4, 0, 2, 4, 2, 0, 4, 2, 3, 0, 0, 2, 4, 0, 0, 2, 4, 2, 2, 2, 2, 4, 0, 0, 4, 3, 2, 4, 0, 2, 0, 2, 4, 2, 3, 2, 4, 2, 0, 0, 0, 4, 2, 0, 4, 2, 4, 2, 2, 4, 0, 2, 0, 4, 4, 0, 2, 0, 4, 4, 4, 2, 4, 0, 2, 4, 4, 0, 0, 0, 4, 0, 2, 4, 4, 4, 2, 0, 4, 4, 4, 4, 0, 4, 2, 4, 0, 2, 4, 4, 2, 4, 4, 4, 4, 2, 3, 0, 4, 0, 0, 4, 0, 2, 4, 0, 4, 1, 1, 2, 4, 4, 4, 2, 2, 2, 2, 4, 2, 4, 3, 0, 2, 4, 0, 1, 2, 0, 4, 4, 4, 0, 2, 0, 4, 4, 3, 0, 4, 2, 4, 4, 0, 4, 2, 3, 4, 4, 4, 0, 0, 4, 1, 0, 2, 2, 4, 2, 2, 3, 2, 2, 4, 4, 3, 0, 4, 2, 1, 0, 4, 0, 2, 0, 2, 0, 0, 0, 4, 0, 4, 2, 0, 2, 4, 4, 4, 4, 2, 0, 4, 2, 2, 0, 2, 4, 2, 0, 0, 3, 4, 4, 4, 4, 2, 4, 2, 0, 4, 2, 0, 0, 4, 4, 0, 0, 4, 0, 4, 4, 4, 4, 4, 4, 2, 2, 0, 2, 2, 0, 4, 4, 0, 4, 4, 4, 0, 2, 4, 2, 4, 0, 2, 4, 2, 2, 4, 0, 4, 4, 4, 2, 2, 2, 4, 4, 2, 4, 0, 0, 4, 0, 0, 2, 4, 3, 4, 0, 0, 2, 4, 2, 4, 0, 2, 0, 2, 0, 0, 0, 4, 0, 3, 0, 0, 0, 2, 2, 4, 4, 1, 0, 2, 4, 0, 0, 3, 4, 4, 4, 3, 0, 0, 0, 2, 4, 4, 0, 4, 4, 2, 2, 0, 2, 4, 0, 4, 4, 0, 2, 0, 0, 4, 4, 4, 2, 4, 4, 0, 4, 0, 4, 0, 2, 4, 2, 0, 4, 0, 2, 2, 4, 4, 2, 2, 2, 4, 4, 4, 2, 4, 2, 4, 0, 0, 4, 1, 2, 2, 3, 0, 2, 0, 4, 4, 0, 4, 4, 0, 2, 2, 0, 4, 2, 4, 0, 4, 2, 2, 2, 2, 0, 0, 2, 2, 2, 2, 0, 0, 3, 4, 4, 3, 4, 2, 4, 2, 4, 0, 4, 2, 2, 2, 4, 0, 2, 4, 2, 0, 4, 0, 2, 2, 4, 4, 0, 4, 4, 0, 4, 2, 4, 2, 4, 2, 2, 4, 0, 4, 0, 2, 2, 2, 0, 0, 4, 2, 4, 4, 0, 0, 3, 3, 0, 4, 2, 2, 2, 2, 4, 2, 2, 0, 2, 0, 4, 0, 4, 4, 0, 0, 3, 3, 0, 0, 4, 4, 4, 4, 0, 0, 0, 2, 4, 0, 3, 4, 0, 2, 0, 2, 0, 2, 0, 0, 0, 2, 4, 1, 4, 2, 2, 3, 3, 4, 2, 0, 4, 2, 0, 2, 4, 2, 4, 2, 4, 0, 2, 2, 2, 0, 2, 2, 0, 4, 4, 3, 0, 2, 4, 0, 3, 2, 0, 1, 2, 4, 4, 2, 0, 4, 2, 4, 4, 4, 0, 4, 2, 2, 4, 0, 4, 4, 3, 4, 4, 4, 3, 0, 2, 4, 2, 4, 3, 2, 4, 2, 3, 0, 4, 4, 0, 0, 2, 0, 4, 4, 4, 2, 4, 3, 2, 0, 0, 4, 4, 0, 0, 0, 4, 0, 0, 2, 2, 4, 4, 0, 4, 4, 2, 0, 4, 2, 0, 2, 4, 4, 0, 0, 2, 4, 2, 2, 0, 4, 2, 4, 4, 0, 0, 2, 2, 4, 0, 0, 4, 4, 3, 2, 4, 4, 4, 0, 4, 4, 4, 0, 2, 4, 4, 2, 2, 0, 2, 2, 2, 2, 4, 0, 4, 4, 2, 4, 2, 4, 4, 4, 4, 2, 2, 4, 0, 4, 0, 0, 3, 0, 2, 2, 2, 4, 4, 2, 2, 0, 4, 4, 3, 2, 0, 4, 0, 4, 2, 2, 4, 4, 2, 2, 4, 2, 4, 2, 4, 0, 4, 0, 4, 4, 2, 0, 2, 4, 4, 0, 2, 2, 0, 3, 0, 2, 4, 4, 2, 2, 1, 0, 0, 2, 2, 2, 4, 3, 0, 0, 4, 4, 0, 2, 2, 4, 2, 4, 2, 4, 4, 0, 4, 0, 4, 0, 4, 4, 4, 0, 4, 4, 4, 0, 0, 4, 2, 0, 4, 2, 0, 4, 2, 4, 2, 2, 2, 4, 2, 2, 4, 0, 4, 0, 1, 0, 2, 2, 4, 0, 0, 0, 0, 4, 0, 2, 0, 0, 4, 4, 0, 3, 2, 4, 2, 2, 2, 2, 2, 3, 4, 2, 4, 4, 4, 2, 0, 0, 0, 3, 0, 2, 0, 4, 0, 4, 4, 3, 4, 4, 0, 0, 3, 0, 4, 2, 0, 0, 0, 0, 4, 4, 2, 1, 4, 4, 0, 4, 4, 0, 4, 4, 2, 0, 0, 2, 4, 0, 2, 4, 4, 4, 2, 2, 2, 4, 4, 4, 0, 3, 4, 0, 0, 4, 2, 4, 0, 4, 4, 0, 0, 1, 4, 2, 4, 2, 0, 2, 4, 4, 2, 2, 4, 2, 2, 0, 4, 3, 2, 4, 4, 4, 2, 4, 2, 4, 0, 2, 4, 4, 2, 2, 3, 2, 4, 2, 0, 4, 4, 2, 4, 2, 2, 2, 4, 3, 2, 2, 2, 2, 4, 4, 2, 2, 4, 4, 2, 2, 2, 4, 4, 4, 2, 2, 2, 4, 0, 2, 4, 4, 2, 0, 2, 2, 0, 2, 3, 4, 2, 0, 0, 0, 4, 2, 0, 4, 4, 2, 2, 4, 4, 2, 0, 4, 4, 2, 2, 2, 4, 4, 2, 2, 4, 4, 4, 2, 0, 4, 0, 2, 2, 3, 2, 0, 4, 2, 4, 4, 0, 4, 4, 4, 4, 0, 0, 2, 3, 0, 2, 4, 4, 2, 4, 0, 0, 0, 0, 0, 4, 4, 2, 4, 4, 3, 4, 0, 0, 4, 2, 0, 4, 4, 0, 4, 4, 2, 2, 4, 2, 2, 4, 0, 4, 4, 1, 2, 4, 0, 0, 0, 0, 2, 4, 2, 0, 2, 2, 4, 4, 3, 4, 2, 0, 0, 4, 4, 4, 0, 2, 0, 4, 4, 2, 4, 4, 3, 0, 2, 2, 4, 0, 0, 0, 4, 0, 2, 0, 2, 0, 4, 2, 0, 0, 0, 0, 4, 0, 0, 0, 4, 0, 0, 1, 0, 4, 3, 0, 2, 4, 2, 4, 4, 3, 0, 0, 4, 4, 2, 4, 4, 2, 0, 2, 0, 4, 3, 4, 0, 0, 4, 2, 2, 4, 4, 0, 3, 4, 0, 2, 4, 2, 2, 2, 4, 4, 0, 2, 0, 0, 0, 0, 1, 3, 3, 2, 3, 3, 4, 4, 0, 4, 4, 0, 2, 0, 4, 4, 2, 0, 4, 0, 2, 2, 4, 0, 4, 2, 2, 4, 2, 3, 4, 0, 4, 4, 0, 2, 4, 4, 3, 1, 2, 4, 4, 4, 4, 0, 2, 4, 0, 4, 4, 3, 4, 4, 2, 4, 4, 4, 0, 4, 2, 4, 4, 0, 0, 2, 2, 4, 0, 3, 4, 2, 2, 2, 4, 1, 0, 4, 0, 2, 4, 4, 2, 2, 4, 2, 3, 0, 2, 0, 0, 4, 2, 4, 2, 2, 4, 4, 2, 2, 2, 4, 0, 2, 4, 2, 0, 4, 2, 4, 4, 0, 4, 2, 0, 4, 4, 4, 4, 4, 4, 0, 2, 4, 3, 0, 0, 2, 2, 2, 3, 4, 0, 4, 2, 4, 0, 3, 0, 2, 4, 0, 4, 0, 4, 4, 4, 2, 4, 4, 2, 4, 1, 2, 2, 2, 4, 4, 0, 4, 2, 1, 4, 0, 2, 2, 2, 2, 1, 0, 4, 2, 2, 2, 2, 2, 2, 4, 0, 4, 4, 4, 4, 4, 2, 4, 0, 4, 0, 4, 0, 3, 4, 2, 0, 4, 4, 0, 4, 4, 4, 0, 4, 4, 4, 0, 2, 0, 4, 2, 4, 4, 2, 0, 4, 4, 1, 4, 0, 2, 4, 4, 0, 4, 4, 4, 0, 4, 3, 2, 2, 4, 0, 2, 0, 0, 4, 0, 2, 4, 2, 2, 0, 0, 0, 0, 2, 0, 4, 2, 4, 4, 2, 2, 2, 2, 4, 0, 2, 0, 2, 2, 0, 2, 4, 0, 4, 2, 2, 0, 4, 2, 2, 4, 4, 4, 2, 4, 4, 0, 4, 0, 0, 0, 2, 0, 4, 4, 2, 4, 0, 4, 4, 3, 2, 4, 0, 4, 4, 0, 2, 0, 4, 0, 4, 4, 0, 0, 0, 2, 3, 4, 4, 4, 4, 2, 4, 2, 4, 2, 4, 4, 4, 0, 2, 0, 4, 2, 2, 0, 4, 0, 0, 4, 2, 2, 4, 4, 1, 0, 4, 0, 4, 2, 0, 0, 4, 4, 0, 2, 4, 2, 2, 2, 4, 2, 4, 0, 4, 4, 3, 0, 4, 2, 0, 4, 3, 0, 4, 1, 4, 3, 2, 4, 4, 2, 4, 4, 4, 2, 2, 2, 4, 2, 0, 0, 0, 2, 4, 0, 4, 4, 2, 2, 0, 4, 3, 4, 2, 2, 2, 0, 4, 4, 0, 0, 4, 4, 2, 0, 0, 4, 0, 0, 4, 0, 0, 4, 2, 0, 4, 2, 0, 0, 4, 0, 4, 2, 2, 2, 3, 4, 4, 0, 0, 0, 4, 0, 0, 4, 2, 2, 4, 2, 2, 4, 2, 2, 4, 0, 0, 2, 4, 4, 4, 4, 2, 2, 2, 2, 2, 0, 4, 0, 4, 4, 2, 4, 2, 0, 4, 2, 4, 2, 0, 4, 0, 2, 0, 0, 3, 2, 4, 2, 0, 4, 3, 0, 4, 0, 2, 4, 4, 4, 2, 4, 0, 0, 2, 0, 4, 4, 2, 4, 4, 0, 4, 2, 0, 0, 3, 2, 4, 0, 0, 4, 4, 4, 2, 0, 2, 4, 2, 4, 2, 2, 2, 4, 2, 0, 0, 0, 2, 2, 4, 0, 2, 0, 4, 3, 0, 0, 2, 2, 2, 3, 4, 4, 2, 2, 2, 4, 4, 4, 4, 2, 0, 0, 3, 0, 0, 0, 4, 0, 4, 4, 4, 0, 0, 2, 4, 4, 4, 4, 4, 2, 0, 4, 4, 0, 0, 0, 2, 2, 0, 2, 2, 0, 4, 2, 0, 2, 4, 2, 2, 0, 4, 2, 4, 2, 0, 2, 2, 4, 2, 2, 0, 4, 0, 4, 0, 2, 2, 0, 2, 2, 0, 4, 0, 4, 2, 0, 0, 2, 3, 0, 4, 4, 4, 2, 0, 4, 2, 4, 4, 2, 2, 2, 0, 4, 4, 2, 4, 4, 2, 4, 4, 4, 1, 0, 0, 4, 0, 4, 4, 0, 4, 4, 4, 4, 3, 4, 4, 0, 4, 2, 0, 0, 2, 4, 4, 4, 2, 2, 0, 4, 3, 4, 3, 4, 2, 0, 4, 0, 0, 4, 0, 2, 4, 4, 3, 0, 4, 0, 4, 4, 0, 2, 0, 2, 2, 0, 0, 4, 3, 4, 0, 2, 0, 2, 4, 2, 4, 4, 4, 2, 0, 0, 4, 4, 3, 2, 2, 2, 4, 4, 2, 2, 4, 2, 4, 4, 0, 2, 2, 0, 2, 4, 4, 4, 2, 4, 2, 0, 4, 4, 4, 2, 2, 4, 2, 0, 2, 4, 0, 4, 2, 2, 3, 3, 0, 4, 1, 4, 0, 0, 4, 2, 2, 2, 0, 2, 2, 4, 0, 0, 4, 0, 4, 3, 4, 0, 0, 2, 4, 4, 0, 0, 3, 0, 3, 2, 4, 4, 2, 2, 0, 0, 4, 4, 2, 2, 4, 4, 4, 3, 4, 0, 4, 3, 4, 0, 2, 2, 2, 2, 2, 2, 4, 3, 0, 4, 4, 0, 2, 0, 0, 2, 2, 4, 4, 4, 0, 4, 4, 4, 2, 2, 2, 0, 2, 4, 2, 4, 4, 4, 0, 2, 0, 2, 0, 4, 2, 2, 3, 4, 2, 4, 2, 4, 2, 4, 4, 3, 4, 4, 2, 2, 4, 2, 0, 0, 4, 2, 0, 2, 0, 0, 4, 4, 0, 0, 3, 2, 4, 2, 2, 0, 2, 4, 4, 4, 4, 0, 4, 2, 4, 2, 0, 2, 4, 2, 0, 2, 2, 2, 2, 2, 4, 4, 2, 2, 4, 4, 4, 2, 4, 4, 0, 2, 0, 4, 4, 4, 4, 4, 0, 2, 2, 1, 2, 2, 4, 2, 0, 2, 4, 4, 4, 0, 4, 2, 2, 0, 4, 4, 4, 2, 0, 0, 0, 4, 2, 4, 4, 2, 2, 4, 0, 0, 4, 4, 2, 2, 0, 0, 2, 2, 4, 0, 4, 2, 2, 4, 2, 3, 0, 2, 2, 2, 0, 4, 2, 4, 4, 3, 0, 2, 4, 3, 4, 2, 4, 0, 0, 4, 4, 0, 3, 2, 2, 4, 2, 0, 4, 2, 2, 0, 4, 0, 4, 4, 2, 0, 0, 0, 2, 4, 2, 2, 4, 2, 0, 4, 0, 2, 4, 0, 2, 4, 2, 0, 4, 2, 3, 0, 4, 2, 4, 4, 0, 2, 2, 2, 3, 0, 4, 4, 4, 0, 2, 0, 0, 4, 4, 0, 0, 0, 2, 0, 4, 4, 4, 4, 2, 2, 2, 4, 0, 0, 0, 0, 0, 3, 0, 1, 2, 2, 2, 0, 0, 2, 0, 0, 4, 4, 4, 4, 0, 2, 2, 4, 0, 2, 4, 4, 4, 2, 4, 4, 0, 0, 2, 0, 2, 0, 0, 4, 3, 0, 3, 0, 0, 4, 4, 4, 0, 0, 2, 4, 0, 4, 4, 2, 4, 0, 2, 2, 2, 4, 4, 4, 4, 4, 4, 4, 3, 2, 0, 4, 4, 4, 2, 2, 2, 2, 4, 2, 4, 0, 0, 0, 0, 0, 0, 0, 0, 0, 4, 2, 2, 2, 0, 0, 4, 2, 1, 4, 0, 2, 0, 4, 3, 0, 0, 0, 4, 0, 3, 2, 3, 2, 2, 4, 2, 0, 0, 4, 0, 4, 2, 4, 4, 2, 2, 2, 4, 4, 3, 4, 0, 2, 2, 4, 4, 2, 4, 2, 0, 0, 4, 4, 4, 4, 4, 4, 4, 0, 4, 0, 4, 4, 4, 4, 0, 4, 2, 3, 2, 4, 4, 4, 4, 2, 4, 3, 4, 3, 4, 0, 0, 0, 2, 2, 2, 1, 2, 2, 0, 0, 4, 0, 4, 4, 0, 0, 0, 4, 2, 0, 0, 2, 4, 2, 2, 2, 4, 0, 4, 4, 2, 0, 3, 4, 2, 3, 4, 0, 2, 2, 2, 2, 4, 0, 2, 2, 0, 4, 0, 0, 2, 3, 0, 4, 3, 4, 0, 4, 2, 2, 2, 4, 2, 0, 0, 4, 2, 0, 4, 4, 2, 2, 0, 0, 2, 4, 0, 4, 0, 4, 4, 4, 2, 0, 2, 4, 0, 4, 0, 0, 0, 3, 4, 2, 0, 3, 2, 4, 0, 4, 3, 0, 0, 0, 2, 3, 2, 2, 2, 4, 0, 2, 0, 4, 4, 2, 0, 4, 0, 0, 3, 4, 4, 4, 3, 2, 4, 0, 0, 0, 4, 4, 0, 2, 3, 4, 0, 0, 4, 2, 4, 3, 0, 2, 2, 0, 1, 2, 2, 2, 0, 2, 4, 4, 2, 4, 0, 4, 0, 2, 4, 4, 0, 0, 2, 4, 0, 0, 4, 4, 4, 0, 4, 1, 0, 2, 3, 4, 2, 0, 4, 2, 0, 4, 0, 4, 2, 2, 4, 0, 4, 4, 2, 0, 2, 0, 2, 4, 4, 4, 0, 2, 2, 2, 4, 3, 0, 4, 2, 0, 2, 4, 4, 2, 1, 0, 0, 0, 2, 2, 4, 4, 2, 4, 4, 4, 2, 4, 4, 2, 4, 0, 4, 2, 4, 0, 2, 2, 2, 4, 0, 2, 4, 2, 4, 4, 4, 2, 2, 4, 2, 2, 0, 4, 0, 4, 0, 4, 2, 2, 4, 2, 4, 4, 4, 2, 2, 4, 2, 4, 0, 2, 0, 4, 4, 4, 4, 3, 0, 4, 4, 2, 2, 0, 4, 0, 2, 2, 0, 4, 2, 0, 0, 4, 3, 2, 4, 4, 4, 4, 0, 2, 4, 4, 0, 0, 4, 2, 3, 4, 0, 0, 4, 0, 4, 4, 2, 2, 4, 4, 4, 4, 4, 3, 2, 0, 0, 2, 0, 4, 2, 4, 2, 4, 2, 0, 4, 4, 0, 0, 0, 0, 0, 0, 2, 0, 2, 2, 4, 2, 2, 2, 2, 4, 4, 2, 2, 4, 4, 2, 4, 2, 0, 4, 4, 2, 0, 2, 4, 4, 2, 2, 2, 4, 4, 4, 0, 3, 4, 2, 0, 0, 2, 2, 3, 2, 0, 4, 0, 2, 4, 2, 4, 2, 0, 2, 0, 2, 4, 2, 2, 2, 0, 3, 0, 2, 4, 3, 2, 0, 3, 4, 2, 4, 0, 4, 0, 2, 4, 0, 4, 4, 4, 2, 3, 4, 2, 4, 4, 0, 4, 2, 4, 0, 2, 0, 2, 4, 0, 0, 4, 0, 3, 4, 4, 0, 4, 4, 4, 0, 4, 0, 4, 2, 4, 0, 4, 4, 0, 0, 4, 2, 2, 4, 4, 2, 2, 2, 0, 2, 4, 2, 2, 0, 2, 2, 4, 3, 4, 4, 4, 2, 3, 2, 2, 4, 4, 2, 3, 4, 0, 0, 2, 4, 2, 2, 4, 0, 0, 2, 0, 3, 2, 2, 4, 2, 4, 0, 4, 3, 4, 0, 2, 0, 0, 4, 2, 0, 4, 0, 2, 4, 4, 0, 2, 2, 2, 0, 4, 0, 3, 2, 2, 0, 2, 4, 4, 2, 4, 4, 4, 2, 4, 2, 2, 2, 0, 4, 4, 0, 3, 2, 2, 0, 4, 0, 0, 2, 4, 4, 2, 2, 2, 4, 4, 4, 2, 4, 0, 2, 2, 4, 2, 0, 4, 0, 2, 4, 2, 0, 4, 4, 4, 2, 3, 0, 2, 0, 0, 3, 2, 0, 4, 2, 0, 4, 3, 4, 2, 0, 4, 2, 2, 4, 4, 0, 0, 2, 2, 0, 4, 0, 0, 2, 2, 0, 4, 2, 4, 4, 4, 4, 2, 2, 4, 2, 4, 0, 4, 0, 2, 4, 3, 4, 4, 0, 0, 2, 4, 2, 2, 0, 4, 4, 2, 0, 2, 0, 0, 4, 0, 4, 4, 3, 4, 0, 2, 0, 4, 4, 2, 4, 0, 0, 4, 2, 4, 2, 2, 4, 4, 2, 0, 2, 2, 2, 3, 0, 0, 4, 2, 4, 4, 2, 4, 0, 4, 2, 2, 4, 2, 2, 2, 4, 2, 4, 0, 4, 4, 0, 2, 0, 3, 4, 0, 0, 4, 4, 2, 2, 2, 3, 2, 4, 2, 2, 4, 4, 0, 4, 4, 0, 4, 2, 0, 4, 4, 4, 0, 4, 0, 3, 0, 0, 2, 2, 4, 0, 4, 2, 2, 0, 4, 2, 2, 2, 0, 2, 0, 4, 2, 2, 1, 3, 3, 4, 3, 2, 0, 0, 4, 4, 3, 3, 0, 0, 2, 0, 4, 2, 2, 4, 2, 0, 0, 0, 2, 4, 0, 4, 2, 2, 2, 2, 2, 0, 2, 2, 2, 0, 0, 2, 4, 0, 0, 0, 2, 2, 0, 0, 0, 2, 2, 2, 4, 4, 2, 4, 2, 2, 4, 4, 3, 2, 2, 2, 2, 2, 2, 2, 2, 4, 0, 4, 4, 2, 0, 4, 4, 4, 3, 0, 4, 4, 4, 2, 4, 0, 3, 0, 2, 2, 2, 3, 0, 0, 2, 4, 2, 0, 2, 4, 2, 4, 1, 2, 2, 0, 0, 2, 2, 2, 4, 4, 4, 4, 0, 2, 2, 2, 2, 4, 2, 4, 2, 2, 4, 0, 2, 0, 0, 4, 2, 0, 2, 4, 4, 0, 2, 2, 3, 4, 2, 4, 4, 2, 2, 2, 0, 3, 4, 4, 4, 4, 4, 4, 0, 0, 0, 4, 2, 0, 0, 2, 2, 2, 4, 0, 2, 2, 2, 4, 4, 0, 0, 4, 2, 0, 4, 0, 2, 2, 2, 2, 4, 4, 2, 3, 4, 0, 0, 2, 0, 2, 2, 1, 0, 0, 4, 4, 0, 4, 2, 0, 2, 0, 0, 4, 0, 4, 4, 0, 2, 4, 2, 1, 2, 0, 0, 4, 2, 0, 0, 2, 3, 0, 4, 4, 0, 2, 0, 4, 4, 4, 4, 4, 0, 4, 0, 2, 2, 2, 0, 4, 0, 4, 0, 4, 2, 4, 4, 4, 2, 2, 2, 2, 4, 4, 0, 4, 4, 1, 2, 4, 4, 0, 0, 4, 4, 4, 0, 1, 4, 4, 4, 0, 2, 2, 4, 0, 4, 2, 0, 0, 0, 4, 4, 0, 4, 0, 0, 4, 2, 4, 2, 4, 2, 2, 4, 0, 4, 4, 4, 4, 0, 0, 0, 4, 2, 2, 3, 4, 0, 3, 0, 2, 2, 4, 4, 2, 4, 4, 2, 0, 4, 4, 4, 4, 0, 0, 3, 0, 4, 1, 4, 4, 2, 2, 4, 4, 3, 0, 0, 4, 4, 4, 0, 0, 0, 2, 4, 2, 4, 4, 0, 4, 4, 4, 3, 4, 4, 0, 4, 4, 2, 3, 4, 0, 0, 4, 2, 4, 4, 2, 0, 0, 0, 0, 2, 4, 2, 2, 4, 0, 4, 2, 2, 4, 4, 4, 4, 2, 4, 2, 3, 4, 2, 2, 2, 2, 0, 2, 3, 1, 0, 2, 0, 4, 2, 2, 0, 4, 3, 4, 4, 0, 0, 0, 0, 2, 2, 2, 2, 0, 4, 4, 0, 2, 3, 4, 4, 4, 2, 2, 2, 4, 2, 4, 4, 0, 0, 2, 2, 2, 2, 4, 4, 0, 2, 4, 2, 2, 0, 4, 2, 0, 4, 3, 2, 2, 0, 4, 4, 4, 2, 0, 2, 4, 4, 3, 0, 0, 4, 0, 4, 4, 4, 4, 4, 2, 2, 3, 4, 4, 2, 3, 2, 2, 2, 0, 4, 4, 2, 4, 4, 4, 3, 2, 0, 0, 4, 2, 0, 4, 2, 1, 4, 4, 4, 0, 3, 2, 0, 4, 2, 2, 1, 0, 2, 0, 4, 2, 0, 4, 2, 2, 2, 4, 2, 3, 2, 1, 4, 4, 2, 4, 2, 2, 3, 2, 0, 4, 0, 1, 0, 4, 2, 4, 4, 4, 2, 2, 4, 4, 4, 2, 0, 0, 0, 0, 0, 2, 4, 2, 2, 0, 3, 0, 4, 4, 2, 0, 2, 2, 0, 4, 0, 4, 4, 4, 4, 2, 4, 0, 4, 2, 4, 3, 4, 0, 0, 2, 2, 4, 0, 2, 4, 4, 2, 0, 0, 4, 0, 4, 4, 2, 0, 2, 0, 2, 4, 4, 0, 2, 4, 4, 3, 0, 0, 2, 3, 0, 0, 2, 4, 1, 2, 0, 3, 2, 4, 0, 0, 4, 3, 0, 3, 4, 0, 0, 2, 2, 0, 2, 4, 2, 4, 4, 2, 2, 2, 0, 2, 0, 0, 3, 0, 0, 2, 4, 4, 4, 2, 2, 3, 4, 4, 4, 4, 2, 2, 0, 4, 4, 2, 1, 4, 2, 4, 0, 2, 3, 3, 2, 2, 0, 0, 4, 2, 4, 0, 4, 0, 0, 0, 0, 2, 0, 3, 0, 4, 4, 4, 2, 0, 2, 4, 2, 4, 0, 0, 0, 4, 0, 0, 4, 4, 4, 4, 2, 4, 4, 4, 4, 2, 4, 4, 0, 3, 0, 4, 4, 4, 4, 4, 0, 3, 0, 4, 4, 4, 4, 0, 0, 3, 2, 2, 4, 4, 0, 0, 2, 0, 2, 0, 4, 0, 0, 4, 2, 4, 4, 2, 4, 2, 4, 0, 0, 2, 4, 2, 0, 2, 4, 2, 1, 4, 2, 0, 0, 0, 4, 3, 4, 2, 2, 2, 0, 3, 2, 4, 2, 2, 0, 4, 4, 4, 4, 0, 4, 4, 2, 0, 2, 2, 3, 0, 4, 0, 4, 2, 0, 2, 4, 4, 0, 4, 2, 2, 4, 4, 4, 2, 2, 4, 4, 4, 4, 2, 0, 4, 4, 0, 4, 3, 2, 4, 2, 4, 2, 0, 4, 0, 4, 4, 4, 4, 4, 4, 2, 4, 2, 4, 4, 4, 2, 3, 4, 4, 4, 0, 4, 4, 2, 4, 2, 4, 2, 2, 2, 0, 4, 2, 2, 2, 3, 0, 4, 4, 0, 2, 1, 4, 0, 0, 4, 0, 4, 2, 4, 4, 4, 0, 4, 4, 1, 0, 4, 4, 2, 2, 4, 2, 3, 0, 2, 0, 2, 4, 2, 4, 4, 4, 4, 4, 2, 0, 3, 2, 4, 4, 0, 2, 2, 0, 2, 4, 4, 0, 4, 2, 4, 4, 0, 2, 0, 4, 4, 0, 0, 0, 4, 4, 1, 4, 2, 0, 4, 2, 3, 4, 2, 4, 4, 4, 2, 4, 2, 2, 4, 4, 4, 4, 4, 4, 4, 0, 0, 2, 2, 4, 4, 4, 0, 4, 0, 0, 4, 4, 0, 0, 2, 4, 0, 2, 2, 0, 4, 0, 4, 2, 0, 0, 2, 4, 4, 0, 4, 4, 4, 2, 3, 0, 2, 0, 4, 0, 4, 2, 2, 2, 2, 4, 2, 4, 3, 2, 4, 0, 3, 2, 2, 2, 4, 4, 2, 4, 0, 4, 2, 0, 2, 0, 2, 2, 2, 0, 4, 4, 0, 0, 4, 0, 4, 4, 2, 3, 3, 0, 0, 0, 0, 4, 4, 2, 4, 4, 4, 1, 0, 0, 0, 4, 0, 4, 2, 0, 4, 0, 0, 0, 4, 2, 4, 4, 4, 2, 0, 4, 4, 2, 2, 0, 3, 4, 3, 4, 2, 3, 3, 2, 2, 4, 2, 2, 2, 4, 0, 4, 0, 2, 0, 0, 2, 4, 4, 2, 2, 2, 3, 0, 2, 0, 4, 2, 4, 4, 4, 2, 2, 2, 4, 2, 2, 4, 0, 2, 2, 4, 3, 2, 0, 3, 0, 3, 0, 4, 2, 2, 3, 2, 2, 4, 0, 0, 4, 4, 0, 0, 2, 2, 4, 0, 0, 4, 2, 4, 4, 2, 0, 4, 2, 4, 4, 0, 0, 4, 2, 2, 2, 4, 0, 4, 2, 0, 3, 2, 2, 4, 4, 0, 0, 2, 1, 0, 2, 2, 2, 2, 1, 4, 4, 3, 0, 2, 2, 2, 3, 4, 2, 4, 4, 0, 0, 4, 0, 2, 0, 2, 0, 4, 0, 2, 4, 0, 1, 0, 0, 2, 2, 3, 2, 4, 2, 4, 0, 2, 4, 4, 0, 2, 0, 4, 0, 0, 4, 4, 2, 2, 0, 4, 0, 0, 2, 2, 3, 4, 4, 4, 4, 4, 2, 4, 2, 2, 2, 4, 2, 0, 4, 2, 4, 3, 2, 4, 2, 2, 2, 2, 0, 2, 4, 2, 0, 4, 2, 0, 4, 4, 4, 4, 4, 2, 4, 2, 4, 2, 2, 4, 4, 4, 3, 4, 0, 0, 0, 2, 3, 4, 4, 4, 2, 2, 4, 4, 2, 2, 3, 2, 0, 2, 2, 3, 4, 2, 2, 3, 2, 0, 4, 2, 2, 4, 1, 4, 0, 3, 2, 4, 2, 2, 4, 4, 0, 2, 4, 2, 0, 4, 2, 2, 4, 2, 4, 0, 2, 4, 0, 4, 4, 4, 2, 4, 2, 2, 1, 4, 4, 2, 4, 4, 4, 2, 4, 4, 0, 4, 4, 0, 4, 0, 0, 0, 4, 2, 0, 0, 0, 0, 0, 4, 0, 3, 0, 0, 2, 4, 3, 2, 4, 2, 4, 4, 4, 4, 2, 0, 4, 2, 0, 4, 0, 2, 0, 0, 2, 2, 2, 4, 4, 2, 0, 2, 0, 2, 2, 3, 4, 3, 4, 0, 3, 4, 4, 4, 4, 4, 2, 3, 2, 4, 0, 4, 3, 1, 2, 4, 0, 4, 4, 4, 4, 3, 4, 0, 2, 2, 0, 0, 2, 2, 2, 3, 2, 2, 4, 4, 2, 2, 4, 2, 4, 2, 4, 2, 2, 0, 0, 3, 2, 2, 2, 0, 0, 0, 0, 2, 4, 0, 4, 4, 0, 2, 4, 4, 4, 0, 0, 2, 0, 2, 0, 4, 2, 2, 4, 0, 4, 2, 2, 0, 2, 4, 0, 2, 2, 2, 4, 4, 0, 4, 2, 2, 0, 3, 0, 3, 2, 4, 4, 4, 1, 0, 0, 2, 0, 3, 4, 2, 4, 2, 2, 2, 2, 2, 2, 0, 2, 2, 0, 2, 2, 3, 0, 0, 0, 2, 2, 0, 0, 2, 0, 2, 0, 1, 2, 4, 4, 0, 4, 0, 2, 3, 3, 4, 4, 4, 0, 2, 2, 2, 0, 4, 4, 4, 3, 4, 4, 0, 0, 4, 4, 0, 3, 2, 0, 0, 4, 2, 4, 2, 2, 4, 4, 4, 0, 2, 0, 4, 0, 2, 2, 0, 0, 2, 0, 0, 4, 4, 0, 4, 4, 2, 2, 2, 2, 0, 2, 2, 4, 2, 0, 2, 3, 2, 4, 0, 0, 4, 2, 4, 4, 2, 0, 2, 4, 4, 4, 3, 0, 2, 4, 0, 2, 0, 4, 4, 4, 0, 2, 0, 2, 4, 4, 2, 0, 0, 2, 2, 1, 2, 0, 0, 1, 2, 4, 0, 4, 1, 4, 2, 3, 4, 2, 0, 2, 2, 0, 0, 0, 0, 0, 4, 2, 4, 2, 4, 4, 2, 4, 4, 2, 4, 2, 4, 2, 0, 2, 2, 2, 4, 4, 4, 2, 2, 2, 2, 0, 4, 4, 4, 2, 2, 0, 0, 2, 0, 2, 2, 0, 2, 0, 4, 0, 0, 4, 2, 4, 0, 4, 2, 4, 4, 2, 4, 0, 4, 3, 2, 4, 4, 3, 1, 4, 0, 2, 4, 4, 0, 0, 4, 0, 2, 4, 4, 4, 2, 2, 4, 4, 4, 2, 1, 0, 2, 4, 4, 0, 4, 2, 0, 4, 4, 2, 0, 0, 3, 3, 4, 0, 0, 2, 2, 2, 4, 0, 3, 2, 2, 0, 4, 1, 2, 4, 2, 4, 4, 2, 2, 2, 4, 4, 1, 2, 4, 4, 4, 4, 0, 3, 2, 0, 4, 4, 0, 1, 4, 4, 2, 2, 2, 0, 4, 4, 4, 0, 2, 3, 0, 0, 3, 4, 2, 2, 4, 0, 4, 2, 0, 4, 4, 2, 4, 2, 4, 4, 2, 2, 2, 2, 3, 2, 3, 4, 4, 2, 4, 2, 4, 0, 4, 0, 4, 4, 2, 4, 2, 2, 2, 2, 2, 2, 4, 0, 2, 2, 2, 4, 2, 0, 4, 3, 0, 4, 4, 4, 0, 0, 2, 0, 4, 4, 4, 2, 4, 4, 2, 4, 4, 2, 4, 4, 4, 4, 2, 4, 4, 4, 4, 2, 2, 4, 2, 4, 2, 0, 4, 2, 4, 2, 4, 4, 0, 4, 0, 2, 0, 4, 4, 2, 0, 2, 4, 2, 4, 3, 2, 2, 3, 4, 4, 2, 0, 2, 0, 4, 2, 4, 2, 4, 4, 4, 0, 3, 4, 0, 2, 2, 4, 2, 2, 2, 4, 0, 2, 4, 0, 3, 0, 4, 0, 4, 4, 4, 2, 1, 4, 0, 3, 4, 2, 4, 4, 4, 4, 0, 0, 2, 0, 0, 2, 2, 0, 2, 0, 1, 4, 4, 2, 0, 4, 0, 4, 2, 2, 2, 2, 4, 4, 4, 0, 4, 2, 2, 0, 0, 0, 2, 2, 2, 0, 4, 4, 4, 2, 4, 4, 2, 0, 0, 4, 4, 4, 4, 0, 2, 2, 1, 0, 0, 0, 2, 4, 2, 3, 2, 0, 2, 0, 4, 0, 3, 4, 2, 0, 2, 0, 0, 4, 0, 0, 2, 4, 4, 0, 0, 4, 0, 4, 0, 2, 0, 2, 4, 2, 0, 2, 4, 2, 4, 2, 0, 2, 2, 2, 0, 4, 3, 4, 4, 4, 2, 0, 4, 2, 0, 4, 4, 0, 4, 2, 0, 4, 4, 2, 4, 0, 0, 4, 4, 2, 2, 0, 2, 4, 4, 0, 2, 4, 2, 2, 0, 2, 0, 4, 2, 2, 2, 2, 4, 3, 0, 3, 4, 2, 0, 2, 2, 0, 0, 4, 4, 2, 2, 0, 4, 0, 0, 0, 2, 2, 3, 3, 0, 4, 0, 4, 4, 0, 2, 2, 4, 0, 4, 4, 2, 2, 4, 4, 0, 4, 0, 4, 4, 0, 4, 2, 2, 2, 2, 2, 2, 4, 2, 3, 4, 0, 2, 2, 2, 0, 4, 2, 4, 0, 2, 4, 2, 4, 4, 4, 2, 4, 4, 0, 0, 0, 0, 4, 2, 4, 0, 0, 0, 2, 4, 3, 0, 2, 0, 0, 3, 4, 4, 2, 4, 4, 2, 2, 2, 0, 4, 0, 0, 4, 0, 4, 3, 4, 0, 4, 4, 4, 2, 2, 0, 2, 0, 2, 4, 2, 0, 2, 2, 4, 2, 4, 4, 4, 2, 0, 0, 4, 2, 0, 2, 2, 2, 2, 4, 3, 4, 1, 2, 4, 0, 0, 2, 2, 4, 4, 2, 0, 0, 2, 4, 4, 0, 4, 4, 4, 2, 2, 0, 0, 0, 0, 2, 4, 4, 3, 2, 0, 3, 4, 1, 4, 0, 4, 0, 2, 4, 0, 0, 4, 2, 4, 4, 0, 4, 0, 0, 0, 2, 4, 4, 4, 2, 2, 0, 4, 0, 4, 2, 4, 4, 4, 2, 2, 2, 2, 0, 0, 2, 3, 0, 0, 2, 0, 2, 2, 3, 4, 4, 2, 0, 0, 0, 2, 3, 0, 2, 2, 0, 2, 4, 4, 3, 2, 2, 0, 0, 4, 0, 4, 2, 0, 2, 0, 4, 0, 0, 4, 0, 4, 4, 3, 2, 4, 4, 4, 4, 0, 0, 2, 4, 4, 4, 3, 4, 0, 2, 0, 2, 2, 4, 2, 2, 4, 2, 4, 3, 2, 0, 2, 4, 2, 2, 3, 4, 2, 2, 4, 0, 2, 4, 2, 0, 2, 0, 2, 4, 4, 0, 0, 2, 4, 4, 0, 3, 2, 3, 0, 2, 4, 1, 0, 0, 3, 0, 0, 0, 2, 2, 2, 4, 2, 3, 4, 4, 2, 3, 2, 2, 2, 4, 4, 0, 0, 4, 4, 4, 4, 0, 4, 0, 4, 4, 0, 0, 2, 0, 0, 3, 4, 0, 2, 2, 4, 4, 0, 0, 2, 1, 4, 4, 4, 2, 0, 0, 0, 2, 0, 2, 3, 2, 0, 4, 2, 0, 4, 2, 0, 0, 4, 2, 3, 4, 4, 2, 4, 2, 4, 2, 4, 0, 2, 4, 4, 2, 2, 2, 3, 0, 4, 3, 0, 4, 4, 2, 2, 0, 0, 4, 4, 0, 2, 2, 4, 4, 2, 0, 4, 4, 3, 4, 4, 0, 4, 2, 2, 4, 2, 0, 0, 4, 2, 0, 3, 4, 0, 0, 4, 4, 4, 4, 0, 3, 4, 2, 4, 0, 0, 4, 0, 0, 4, 4, 0, 0, 0, 4, 4, 4, 2, 0, 4, 0, 4, 2, 0, 2, 4, 3, 0, 3, 0, 4, 4, 4, 4, 4, 4, 4, 4, 3, 2, 4, 4, 2, 3, 0, 2, 2, 3, 3, 0, 4, 4, 2, 0, 4, 0, 4, 4, 2, 2, 4, 0, 2, 4, 0, 0, 2, 2, 0, 0, 4, 4, 4, 4, 2, 2, 4, 2, 2, 2, 2, 4, 3, 4, 4, 2, 2, 3, 4, 4, 0, 4, 0, 2, 2, 2, 4, 4, 2, 4, 4, 1, 4, 4, 2, 2, 2, 0, 2, 2, 4, 4, 4, 2, 2, 4, 0, 3, 0, 2, 4, 0, 2, 3, 2, 0, 2, 0, 0, 2, 1, 2, 4, 4, 4, 4, 4, 0, 4, 0, 2, 0, 0, 2, 4, 0, 2, 2, 4, 4, 2, 4, 4, 4, 4, 4, 0, 2, 4, 4, 4, 4, 4, 0, 2, 2, 2, 3, 0, 0, 0, 4, 1, 0, 0, 2, 4, 0, 2, 0, 2, 4, 0, 2, 4, 2, 4, 3, 2, 4, 4, 4, 1, 4, 4, 0, 0, 0, 4, 2, 2, 3, 4, 4, 4, 0, 0, 4, 0, 2, 4, 2, 0, 2, 4, 2, 2, 0, 4, 2, 4, 4, 0, 4, 2, 4, 4, 2, 4, 4, 4, 0, 4, 0, 0, 4, 2, 4, 2, 0, 0, 0, 4, 0, 2, 4, 2, 0, 2, 0, 4, 1, 3, 4, 4, 0, 0, 2, 4, 2, 2, 0, 4, 2, 0, 4, 3, 0, 4, 0, 3, 2, 2, 2, 2, 2, 4, 4, 0, 0, 0, 4, 3, 4, 4, 4, 0, 2, 4, 0, 2, 0, 2, 4, 0, 2, 4, 2, 4, 2, 3, 0, 4, 0, 0, 3, 2, 2, 0, 3, 4, 2, 2, 0, 4, 2, 4, 2, 4, 4, 4, 2, 4, 4, 2, 4, 4, 4, 4, 4, 2, 4, 4, 4, 4, 2, 4, 4, 2, 0, 0, 2, 2, 2, 0, 2, 4, 4, 0, 2, 4, 4, 2, 4, 4, 2, 4, 2, 2, 4, 4, 4, 2, 2, 4, 4, 4, 0, 4, 4, 4, 4, 2, 2, 4, 4, 4, 4, 3, 2, 2, 4, 4, 4, 2, 2, 4, 2, 4, 2, 4, 3, 0, 4, 2, 4, 2, 4, 2, 0, 0, 2, 4, 2, 4, 0, 4, 4, 2, 2, 2, 4, 2, 2, 0, 4, 0, 4, 4, 4, 2, 4, 4, 0, 4, 4, 4, 4, 4, 0, 2, 4, 2, 4, 2, 2, 0, 0, 2, 4, 2, 0, 2, 0, 2, 4, 2, 4, 4, 2, 2, 4, 4, 2, 4, 2, 0, 0, 4, 2, 1, 0, 0, 4, 2, 0, 4, 4, 0, 0, 1, 4, 2, 2, 4, 4, 0, 0, 0, 0, 4, 4, 2, 4, 0, 2, 4, 2, 2, 2, 0, 4, 0, 2, 4, 2, 4, 2, 4, 4, 3, 2, 2, 0, 2, 4, 4, 4, 0, 4, 4, 2, 4, 0, 4, 4, 2, 2, 2, 2, 2, 2, 4, 0, 4, 4, 3, 2, 4, 0, 4, 3, 0, 2, 0, 4, 2, 4, 2, 0, 2, 4, 4, 2, 0, 2, 4, 4, 2, 4, 0, 4, 2, 2, 0, 0, 4, 2, 4, 2, 4, 2, 0, 4, 2, 3, 0, 3, 4, 0, 4, 2, 2, 2, 3, 4, 4, 4, 4, 0, 4, 0, 2, 0, 4, 4, 2, 0, 0, 2, 2, 0, 4, 3, 4, 2, 0, 2, 2, 0, 2, 2, 4, 0, 2, 4, 4, 0, 4, 2, 2, 2, 4, 2, 4, 2, 2, 4, 0, 2, 0, 1, 2, 4, 4, 4, 2, 0, 4, 0, 0, 2, 4, 2, 2, 2, 4, 0, 4, 2, 3, 2, 4, 4, 2, 0, 2, 2, 4, 0, 4, 2, 4, 2, 2, 2, 4, 3, 2, 0, 2, 4, 0, 2, 4, 2, 0, 4, 2, 4, 0, 0, 4, 4, 4, 4, 0, 0, 3, 4, 4, 0, 4, 0, 2, 4, 4, 2, 1, 4, 0, 2, 0, 0, 4, 2, 4, 2, 2, 4, 4, 4, 4, 4, 4, 3, 4, 3, 4, 0, 0, 0, 2, 4, 0, 2, 4, 4, 2, 2, 0, 4, 0, 0, 4, 4, 0, 0, 0, 0, 0, 4, 4, 4, 4, 2, 3, 2, 4, 2, 0, 4, 0, 2, 0, 0, 4, 2, 4, 0, 2, 2, 4, 4, 0, 4, 4, 4, 4, 2, 0, 0, 4, 4, 2, 0, 2, 0, 2, 4, 2, 0, 4, 4, 0, 2, 0, 1, 2, 2, 4, 2, 0, 2, 2, 3, 0, 0, 0, 0, 3, 0, 3, 2, 4, 2, 4, 4, 2, 4, 4, 0, 2, 4, 4, 4, 0, 2, 4, 2, 3, 2, 0, 3, 2, 1, 4, 4, 4, 4, 4, 0, 4, 4, 0, 2, 4, 2, 2, 0, 2, 0, 4, 2, 2, 2, 0, 0, 2, 4, 2, 0, 4, 2, 0, 4, 4, 4, 2, 4, 0, 2, 0, 2, 2, 4, 0, 2, 2, 2, 3, 4, 2, 3, 4, 4, 3, 4, 0, 4, 4, 4, 0, 4, 4, 2, 3, 0, 2, 2, 4, 4, 4, 0, 0, 0, 4, 0, 4, 4, 2, 0, 4, 4, 0, 3, 4, 2, 4, 4, 3, 0, 4, 4, 2, 3, 4, 4, 4, 0, 2, 4, 2, 2, 2, 0, 4, 4, 2, 0, 2, 2, 2, 2, 0, 3, 2, 0, 4, 4, 4, 2, 4, 2, 2, 4, 0, 2, 0, 2, 4, 0, 2, 2, 4, 0, 2, 4, 2, 4, 4, 4, 0, 0, 0, 0, 2, 2, 4, 1, 4, 2, 4, 4, 4, 2, 0, 4, 0, 2, 4, 4, 4, 2, 0, 0, 2, 2, 3, 4, 2, 0, 0, 4, 2, 3, 2, 2, 0, 4, 2, 2, 4, 2, 2, 2, 2, 2, 4, 2, 4, 4, 4, 0, 2, 2, 4, 2, 2, 2, 3, 4, 2, 4, 4, 0, 4, 0, 3, 0, 4, 0, 4, 2, 0, 0, 1, 4, 2, 2, 2, 0, 4, 2, 2, 4, 4, 0, 4, 2, 2, 2, 2, 3, 2, 4, 2, 4, 2, 0, 4, 0, 3, 2, 4, 2, 4, 0, 4, 4, 2, 4, 2, 4, 4, 0, 2, 0, 0, 4, 2, 4, 4, 2, 2, 2, 4, 0, 4, 2, 0, 4, 0, 3, 2, 0, 4, 4, 4, 4, 4, 2, 4, 3, 2, 3, 2, 0, 4, 0, 2, 4, 4, 2, 2, 0, 0, 3, 0, 4, 0, 2, 4, 4, 0, 4, 4, 4, 0, 4, 4, 4, 2, 4, 4, 2, 0, 2, 4, 3, 4, 0, 4, 3, 4, 4, 4, 0, 2, 2, 4, 3, 2, 3, 0, 4, 2, 0, 4, 3, 4, 0, 0, 2, 2, 2, 2, 4, 0, 4, 4, 2, 4, 2, 0, 4, 0, 2, 0, 0, 4, 0, 4, 2, 0, 4, 2, 4, 4, 2, 2, 4, 3, 0, 0, 4, 4, 4, 2, 0, 2, 0, 2, 2, 4, 0, 4, 4, 4, 4, 4, 2, 2, 4, 2, 4, 4, 4, 4, 4, 2, 2, 4, 0, 4, 2, 0, 4, 4, 0, 0, 0, 4, 2, 0, 2, 0, 4, 4, 0, 2, 2, 2, 4, 2, 2, 2, 0, 4, 0, 2, 2, 2, 2, 4, 4, 2, 2, 2, 2, 2, 0, 2, 0, 4, 2, 4, 0, 0, 0, 2, 2, 3, 4, 2, 3, 2, 0, 4, 0, 0, 0, 0, 2, 4, 0, 4, 0, 2, 0, 4, 3, 4, 0, 2, 4, 0, 4, 4, 4, 4, 2, 4, 4, 2, 4, 0, 0, 2, 1, 2, 2, 0, 2, 0, 4, 4, 0, 4, 2, 4, 4, 4, 4, 4, 4, 0, 4, 2, 0, 0, 4, 4, 0, 4, 4, 4, 4, 0, 2, 4, 4, 0, 0, 0, 0, 4, 2, 4, 0, 2, 0, 2, 0, 4, 0, 2, 4, 2, 4, 4, 0, 4, 2, 1, 3, 1, 0, 2, 4, 2, 1, 0, 0, 4, 0, 4, 2, 0, 3, 1, 2, 4, 4, 2, 2, 0, 0, 4, 2, 2, 2, 4, 4, 4, 2, 2, 4, 2, 2, 4, 2, 2, 4, 3, 4, 2, 4, 4, 4, 0, 4, 2, 0, 2, 2, 4, 2, 4, 2, 4, 2, 2, 4, 4, 0, 2, 3, 4, 0, 2, 3, 0, 0, 3, 2, 4, 3, 4, 4, 4, 2, 4, 4, 2, 4, 3, 4, 0, 4, 0, 2, 4, 3, 4, 4, 0, 4, 2, 0, 4, 0, 3, 4, 0, 2, 2, 4, 4, 0, 4, 2, 4, 2, 4, 3, 4, 4, 0, 2, 4, 4, 0, 2, 2, 2, 1, 3, 0, 4, 0, 4, 2, 0, 0, 2, 4, 0, 2, 2, 4, 4, 0, 4, 4, 2, 4, 4, 2, 4, 4, 0, 0, 0, 4, 2, 0, 2, 0, 4, 0, 2, 4, 4, 0, 4, 0, 4, 4, 0, 2, 2, 2, 4, 4, 2, 4, 2, 0, 2, 0, 0, 4, 4, 2, 4, 4, 0, 0, 2, 0, 4, 0, 0, 2, 4, 4, 2, 4, 0, 4, 0, 2, 2, 4, 0, 0, 4, 2, 0, 4, 2, 4, 4, 2, 0, 2, 4, 0, 4, 4, 2, 2, 2, 0, 0, 4, 2, 2, 2, 0, 4, 2, 4, 2, 2, 0, 0, 0, 0, 4, 2, 2, 4, 2, 4, 2, 2, 4, 2, 2, 4, 0, 2, 0, 2, 2, 4, 2, 2, 0, 4, 2, 0, 4, 0, 4, 0, 4, 4, 2, 1, 0, 2, 4, 2, 4, 4, 2, 2, 4, 4, 4, 4, 4, 4, 0, 2, 4, 2, 0, 2, 4, 0, 4, 0, 0, 4, 2, 0, 2, 2, 4, 4, 0, 4, 2, 2, 2, 0, 2, 4, 4, 2, 4, 0, 0, 1, 2, 3, 2, 2, 3, 4, 2, 3, 4, 4, 4, 4, 4, 2, 0, 4, 4, 4, 4, 3, 4, 0, 0, 0, 4, 2, 2, 2, 4, 2, 4, 0, 4, 1, 4, 0, 2, 0, 2, 2, 4, 4, 0, 0, 4, 4, 0, 0, 0, 1, 3, 4, 4, 2, 4, 0, 4, 0, 2, 2, 2, 2, 4, 0, 4, 4, 4, 1, 0, 0, 4, 2, 0, 2, 3, 2, 4, 2, 4, 4, 4, 2, 2, 4, 0, 4, 0, 4, 4, 0, 2, 4, 2, 3, 4, 0, 0, 0, 2, 2, 0, 4, 0, 2, 0, 3, 2, 4, 4, 4, 4, 0, 2, 2, 0, 2, 4, 4, 4, 0, 2, 4, 2, 4, 2, 4, 0, 3, 0, 4, 4, 0, 0, 0, 2, 4, 0, 2, 0, 2, 0, 2, 2, 4, 2, 4, 2, 2, 4, 4, 4, 4, 2, 1, 0, 4, 2, 2, 0, 4, 4, 0, 4, 4, 2, 2, 3, 0, 2, 2, 2, 4, 0, 0, 2, 0, 4, 0, 2, 2, 4, 4, 0, 4, 4, 2, 0, 4, 2, 0, 4, 2, 0, 0, 4, 4, 4, 0, 3, 2, 4, 0, 2, 4, 4, 3, 3, 4, 0, 0, 4, 0, 4, 0, 4, 4, 4, 0, 4, 2, 4, 3, 2, 0, 0, 4, 4, 4, 4, 0, 0, 2, 4, 2, 4, 0, 4, 2, 3, 0, 1, 2, 4, 2, 2, 4, 1, 0, 2, 0, 4, 4, 2, 4, 4, 2, 3, 4, 0, 4, 2, 0, 0, 0, 0, 4, 0, 4, 4, 2, 0, 0, 2, 4, 0, 0, 2, 4, 2, 2, 0, 3, 4, 0, 2, 0, 4, 0, 0, 2, 0, 2, 4, 2, 2, 0, 4, 4, 2, 3, 4, 2, 0, 4, 2, 0, 2, 4, 2, 2, 4, 4, 0, 0, 0, 0, 3, 1, 4, 2, 0, 4, 0, 4, 0, 4, 4, 2, 0, 2, 2, 4, 0, 4, 4, 2, 2, 4, 0, 0, 2, 4, 4, 0, 2, 2, 2, 1, 4, 0, 4, 4, 2, 4, 2, 4, 4, 0, 0, 4, 2, 0, 0, 2, 2, 4, 4, 2, 0, 2, 4, 4, 2, 2, 2, 0, 3, 2, 4, 0, 4, 0, 4, 0, 0, 2, 4, 2, 4, 4, 4, 3, 0, 4, 2, 2, 0, 0, 4, 0, 4, 0, 4, 2, 2, 4, 4, 4, 2, 4, 0, 0, 2, 2, 2, 4, 2, 2, 0, 2, 0, 4, 0, 2, 0, 2, 0, 4, 2, 4, 4, 4, 4, 2, 4, 2, 0, 0, 0, 4, 3, 0, 2, 0, 3, 0, 4, 2, 0, 4, 0, 4, 4, 0, 4, 2, 0, 2, 4, 0, 2, 2, 2, 4, 4, 0, 3, 2, 4, 2, 2, 0, 4, 2, 4, 2, 2, 2, 2, 4, 0, 0, 0, 4, 2, 2, 0, 0, 4, 0, 1, 2, 2, 2, 2, 2, 3, 2, 4, 2, 2, 2, 0, 2, 2, 0, 0, 0, 2, 2, 2, 2, 4, 4, 0, 2, 4, 2, 0, 4, 0, 2, 2, 2, 0, 4, 2, 4, 4, 0, 0, 2, 3, 4, 2, 4, 0, 4, 0, 4, 2, 3, 4, 0, 0, 0, 4, 2, 2, 4, 4, 4, 0, 0, 4, 0, 2, 4, 0, 2, 0, 4, 2, 4, 4, 4, 2, 4, 2, 2, 4, 0, 2, 2, 0, 2, 2, 0, 4, 4, 0, 2, 0, 1, 4, 4, 2, 0, 4, 2, 2, 0, 4, 2, 4, 4, 4, 4, 2, 2, 3, 2, 2, 0, 4, 4, 4, 4, 2, 2, 0, 4, 3, 4, 2, 0, 0, 2, 0, 2, 4, 0, 2, 0, 4, 2, 4, 4, 2, 2, 2, 4, 4, 0, 0, 2, 4, 4, 2, 3, 3, 4, 3, 2, 2, 2, 2, 0, 2, 2, 0, 0, 2, 3, 0, 2, 4, 0, 2, 4, 2, 0, 2, 2, 4, 4, 2, 0, 0, 3, 3, 0, 2, 2, 4, 4, 0, 4, 3, 0, 2, 0, 4, 3, 0, 0, 4, 0, 2, 0, 1, 2, 2, 3, 2, 4, 0, 0, 0, 4, 3, 4, 0, 2, 4, 4, 2, 2, 4, 3, 0, 2, 4, 4, 4, 4, 0, 4, 4, 0, 2, 4, 0, 0, 3, 2, 4, 0, 0, 3, 0, 2, 0, 4, 0, 4, 4, 2, 4, 4, 4, 0, 4, 2, 2, 4, 4, 2, 4, 2, 4, 4, 0, 2, 2, 2, 2, 0, 4, 2, 4, 2, 2, 2, 4, 4, 0, 2, 2, 4, 3, 4, 4, 2, 2, 0, 0, 3, 0, 2, 4, 4, 2, 2, 3, 4, 3, 1, 4, 0, 4, 2, 0, 2, 4, 2, 0, 0, 4, 0, 4, 0, 2, 2, 2, 2, 2, 4, 0, 4, 4, 2, 4, 2, 2, 4, 0, 4, 4, 4, 2, 4, 2, 2, 4, 4, 2, 2, 4, 2, 4, 2, 4, 3, 4, 2, 2, 4, 3, 4, 0, 0, 2, 4, 0, 2, 4, 4, 4, 4, 0, 2, 4, 0, 4, 0, 2, 2, 1, 2, 4, 0, 0, 0, 3, 2, 3, 4, 0, 2, 4, 4, 2, 4, 4, 2, 4, 0, 4, 4, 3, 4, 2, 4, 1, 4, 2, 4, 2, 4, 2, 4, 2, 3, 2, 2, 2, 4, 0, 0, 2, 2, 4, 1, 2, 4, 0, 4, 4, 0, 0, 2, 4, 4, 4, 2, 2, 4, 4, 4, 4, 4, 4, 0, 2, 2, 4, 0, 4, 0, 4, 4, 2, 2, 4, 4, 0, 4, 4, 3, 0, 2, 2, 2, 0, 0, 2, 2, 4, 4, 4, 3, 4, 0, 0, 4, 0, 2, 4, 2, 3, 4, 4, 4, 4, 4, 0, 4, 2, 2, 0, 0, 2, 0, 2, 0, 4, 0, 4, 4, 4, 2, 3, 4, 0, 0, 0, 2, 4, 0, 4, 4, 2, 0, 2, 2, 0, 0, 2, 2, 4, 2, 2, 4, 4, 0, 2, 0, 4, 4, 4, 4, 0, 4, 2, 2, 2, 2, 0, 2, 4, 2, 3, 2, 2, 4, 4, 2, 4, 2, 2, 2, 0, 0, 4, 2, 0, 4, 0, 2, 2, 4, 4, 2, 0, 2, 2, 2, 3, 4, 2, 4, 4, 2, 1, 0, 0, 0, 0, 0, 4, 4, 4, 4, 4, 2, 4, 2, 4, 4, 0, 3, 4, 0, 3, 0, 4, 4, 2, 4, 4, 0, 2, 2, 2, 4, 4, 4, 4, 4, 0, 4, 0, 2, 4, 2, 2, 2, 3, 4, 4, 2, 3, 2, 0, 2, 4, 4, 2, 0, 2, 1, 4, 2, 4, 2, 2, 2, 2, 0, 2, 4, 0, 0, 0, 4, 2, 4, 0, 2, 2, 4, 0, 0, 2, 4, 4, 4, 2, 4, 0, 0, 0, 4, 4, 0, 2, 4, 2, 4, 0, 0, 4, 0, 4, 2, 0, 2, 4, 4, 4, 4, 4, 0, 0, 4, 2, 1, 2, 4, 3, 4, 2, 4, 0, 0, 0, 4, 0, 0, 4, 4, 2, 2, 2, 4, 4, 4, 3, 2, 4, 2, 3, 0, 2, 4, 4, 3, 2, 4, 2, 1, 4, 4, 0, 2, 0, 0, 4, 4, 2, 4, 4, 4, 4, 2, 2, 0, 4, 0, 2, 0, 2, 4, 0, 0, 0, 4, 0, 3, 2, 2, 3, 2, 2, 2, 2, 0, 4, 0, 4, 2, 4, 0, 4, 4, 4, 0, 4, 4, 2, 2, 0, 0, 4, 4, 3, 2, 0, 2, 4, 2, 4, 4, 4, 4, 2, 4, 2, 0, 4, 0, 2, 0, 4, 2, 4, 4, 4, 1, 4, 0, 0, 0, 4, 2, 0, 4, 3, 0, 4, 2, 4, 0, 2, 1, 4, 4, 4, 0, 2, 0, 4, 3, 1, 2, 4, 0, 4, 2, 4, 2, 4, 4, 2, 4, 4, 2, 4, 0, 0, 4, 0, 2, 0, 3, 2, 0, 2, 2, 2, 4, 4, 4, 0, 0, 4, 4, 2, 0, 0, 0, 2, 2, 0, 2, 2, 0, 0, 4, 4, 0, 4, 2, 4, 4, 3, 3, 2, 0, 4, 2, 2, 2, 3, 0, 4, 4, 0, 0, 4, 4, 2, 4, 4, 0, 4, 4, 0, 0, 2, 2, 4, 0, 2, 0, 4, 0, 0, 2, 0, 4, 3, 0, 2, 4, 0, 4, 2, 3, 3, 3, 2, 0, 0, 4, 4, 4, 2, 2, 2, 0, 2, 2, 4, 4, 2, 4, 4, 4, 4, 2, 0, 4, 2, 0, 3, 4, 4, 0, 4, 2, 4, 2, 0, 0, 2, 0, 0, 2, 2, 4, 0, 2, 2, 0, 4, 0, 0, 0, 0, 4, 4, 4, 0, 2, 3, 4, 2, 2, 4, 0, 4, 0, 2, 2, 2, 4, 2, 4, 4, 3, 2, 4, 0, 2, 4, 0, 0, 4, 4, 4, 2, 2, 4, 2, 4, 2, 2, 2, 0, 3, 4, 2, 2, 0, 4, 4, 0, 2, 4, 4, 4, 2, 4, 0, 2, 4, 4, 4, 0, 2, 0, 0, 2, 0, 0, 0, 0, 0, 0, 4, 2, 2, 2, 4, 4, 0, 0, 4, 2, 0, 2, 0, 0, 4, 4, 4, 3, 2, 2, 2, 2, 4, 0, 4, 0, 0, 0, 4, 0, 4, 2, 2, 3, 4, 2, 4, 4, 0, 2, 2, 3, 4, 2, 4, 4, 4, 2, 4, 4, 0, 2, 4, 4, 4, 3, 3, 0, 0, 4, 0, 2, 2, 4, 4, 4, 4, 4, 2, 4, 0, 0, 3, 0, 0, 0, 4, 4, 0, 4, 2, 2, 0, 0, 2, 0, 4, 4, 4, 4, 4, 4, 2, 4, 2, 0, 4, 4, 2, 4, 2, 0, 4, 2, 0, 2, 3, 4, 0, 4, 2, 4, 1, 2, 0, 3, 4, 2, 0, 4, 4, 4, 0, 0, 3, 4, 3, 0, 4, 4, 0, 4, 4, 4, 4, 2, 2, 4, 2, 2, 4, 2, 4, 0, 2, 2, 3, 4, 4, 4, 2, 2, 2, 2, 0, 4, 0, 0, 2, 2, 4, 2, 4, 2, 2, 4, 4, 0, 4, 2, 0, 2, 2, 2, 0, 4, 2, 2, 2, 2, 2, 3, 4, 2, 4, 0, 4, 2, 4, 2, 1, 4, 0, 3, 0, 0, 2, 0, 4, 2, 4, 2, 2, 4, 0, 2, 2, 1, 4, 4, 0, 2, 4, 0, 0, 4, 4, 2, 2, 2, 3, 4, 4, 4, 0, 3, 2, 4, 0, 4, 4, 4, 2, 2, 4, 0, 4, 4, 0, 2, 2, 4, 4, 2, 0, 4, 2, 0, 0, 2, 4, 0, 4, 0, 4, 0, 2, 0, 4, 4, 4, 4, 0, 4, 2, 2, 2, 4, 0, 4, 4, 4, 4, 2, 0, 2, 0, 0, 3, 4, 3, 0, 2, 4, 4, 0, 0, 0, 2, 4, 4, 4, 4, 4, 2, 4, 0, 2, 0, 0, 4, 4, 4, 2, 0, 4, 2, 0, 0, 4, 4, 0, 3, 0, 2, 2, 4, 2, 4, 4, 2, 0, 2, 2, 0, 0, 3, 4, 2, 2, 2, 4, 4, 0, 4, 0, 0, 2, 4, 2, 3, 2, 2, 0, 4, 4, 0, 0, 0, 4, 2, 2, 4, 1, 2, 2, 0, 2, 0, 4, 4, 2, 0, 0, 4, 0, 0, 0, 4, 2, 2, 2, 0, 2, 2, 0, 4, 2, 4, 0, 4, 2, 2, 0, 4, 4, 4, 0, 2, 4, 2, 0, 2, 4, 0, 0, 0, 4, 0, 2, 2, 2, 0, 4, 2, 0, 4, 4, 2, 2, 4, 2, 2, 4, 2, 4, 2, 4, 0, 4, 4, 2, 4, 4, 0, 0, 4, 2, 2, 0, 0, 4, 0, 4, 4, 2, 4, 0, 4, 1, 4, 4, 2, 4, 2, 2, 0, 4, 4, 4, 2, 4, 2, 0, 0, 4, 4, 2, 4, 2, 0, 2, 0, 0, 2, 0, 4, 3, 2, 2, 0, 4, 2, 4, 2, 0, 0, 2, 2, 2, 0, 2, 4, 2, 2, 4, 4, 4, 4, 0, 4, 2, 2, 4, 2, 0, 4, 4, 2, 0, 2, 2, 2, 0, 0, 2, 4, 4, 0, 2, 0, 4, 2, 0, 1, 4, 4, 0, 2, 4, 2, 4, 0, 0, 4, 2, 4, 4, 2, 2, 2, 2, 4, 4, 0, 4, 0, 0, 4, 4, 0, 2, 0, 2, 2, 4, 4, 4, 0, 2, 2, 0, 2, 0, 2, 4, 0, 2, 2, 4, 2, 0, 4, 4, 3, 0, 4, 4, 0, 0, 0, 2, 4, 2, 0, 0, 0, 0, 0, 4, 2, 2, 2, 2, 4, 4, 2, 4, 2, 4, 4, 0, 2, 2, 4, 2, 4, 4, 2, 4, 0, 4, 2, 0, 2, 2, 0, 0, 4, 0, 4, 2, 2, 0, 4, 0, 4, 2, 0, 0, 0, 2, 0, 2, 2, 4, 0, 2, 3, 0, 4, 2, 2, 2, 4, 4, 4, 2, 4, 2, 2, 0, 0, 3, 0, 2, 0, 0, 0, 2, 4, 0, 0, 0, 4, 2, 3, 2, 0, 4, 2, 1, 2, 4, 4, 3, 4, 2, 2, 3, 2, 2, 2, 4, 4, 4, 0, 4, 3, 4, 2, 2, 4, 4, 2, 3, 4, 2, 0, 4, 4, 4, 0, 0, 4, 4, 2, 2, 2, 0, 4, 0, 4, 1, 4, 2, 4, 2, 4, 2, 2, 2, 2, 2, 0, 2, 2, 4, 2, 4, 1, 2, 4, 2, 4, 2, 4, 2, 2, 0, 2, 2, 2, 0, 4, 2, 4, 2, 4, 4, 4, 4, 4, 4, 4, 2, 4, 2, 4, 0, 4, 2, 0, 4, 0, 0, 0, 2, 4, 4, 1, 2, 2, 4, 4, 2, 4, 4, 0, 2, 4, 0, 2, 2, 2, 4, 3, 4, 4, 0, 0, 2, 4, 2, 3, 2, 4, 4, 4, 2, 0, 0, 0, 4, 2, 0, 4, 0, 2, 2, 2, 4, 4, 4, 4, 0, 0, 2, 2, 4, 2, 2, 4, 4, 0, 4, 3, 4, 4, 4, 4, 2, 4, 0, 4, 0, 2, 2, 2, 0, 4, 4, 4, 2, 0, 2, 0, 2, 0, 3, 4, 2, 0, 0, 2, 2, 4, 2, 2, 4, 3, 2, 0, 4, 0, 2, 4, 2, 2, 0, 0, 2, 3, 2, 0, 2, 4, 2, 2, 0, 3, 2, 4, 0, 1, 4, 4, 4, 4, 0, 4, 2, 0, 4, 2, 2, 4, 4, 4, 2, 2, 0, 2, 4, 2, 4, 1, 0, 4, 0, 0, 2, 4, 2, 0, 4, 2, 4, 3, 2, 0, 4, 4, 0, 0, 4, 0, 4, 4, 4, 4, 4, 0, 4, 0, 2, 4, 2, 2, 3, 2, 4, 4, 0, 4, 2, 4, 0, 4, 2, 2, 1, 4, 0, 0, 4, 4, 0, 2, 4, 4, 4, 0, 4, 3, 4, 0, 4, 0, 2, 0, 2, 2, 4, 4, 4, 4, 2, 4, 2, 3, 0, 4, 4, 0, 0, 0, 0, 4, 4, 4, 0, 4, 4, 4, 0, 2, 2, 4, 2, 4, 2, 4, 4, 2, 4, 4, 2, 2, 4, 2, 2, 2, 4, 3, 2, 0, 0, 0, 4, 2, 4, 2, 4, 4, 2, 4, 4, 3, 2, 2, 2, 4, 2, 2, 4, 3, 2, 2, 0, 2, 2, 4, 4, 2, 0, 4, 2, 0, 2, 4, 3, 0, 2, 0, 4, 2, 2, 1, 0, 2, 0, 0, 0, 4, 3, 2, 0, 4, 4, 0, 4, 2, 2, 4, 4, 2, 4, 0, 0, 0, 4, 2, 0, 4, 2, 4, 3, 2, 2, 2, 4, 4, 2, 0, 2, 0, 2, 2, 0, 2, 2, 4, 2, 2, 2, 0, 2, 4, 0, 4, 0, 2, 0, 2, 2, 4, 0, 4, 4, 4, 4, 4, 2, 4, 2, 2, 0, 4, 2, 4, 0, 0, 0, 2, 0, 0, 4, 4, 2, 0, 0, 0, 2, 4, 2, 3, 4, 0, 4, 0, 3, 2, 3, 0, 0, 4, 2, 0, 2, 0, 4, 4, 0, 4, 2, 0, 4, 4, 4, 0, 2, 0, 0, 1, 4, 4, 2, 2, 0, 0, 0, 2, 0, 0, 4, 2, 0, 2, 4, 4, 4, 4, 2, 2, 2, 1, 3, 4, 0, 4, 2, 4, 2, 4, 4, 0, 3, 4, 2, 0, 0, 0, 0, 2, 4, 4, 4, 4, 4, 4, 4, 4, 4, 2, 3, 0, 4, 4, 2, 4, 2, 4, 4, 4, 2, 2, 0, 0, 2, 0, 0, 4, 2, 0, 2, 2, 4, 2, 2, 2, 0, 0, 0, 4, 0, 4, 2, 2, 4, 0, 2, 0, 2, 2, 4, 2, 4, 2, 2, 4, 0, 4, 2, 2, 2, 4, 4, 0, 0, 2, 2, 2, 4, 4, 1, 3, 4, 4, 0, 2, 4, 0, 4, 4, 2, 2, 2, 4, 0, 4, 2, 0, 4, 2, 0, 0, 4, 2, 2, 4, 4, 2, 2, 2, 0, 2, 0, 4, 2, 3, 1, 4, 0, 0, 0, 4, 4, 0, 4, 4, 2, 0, 0, 2, 4, 0, 0, 2, 4, 1, 4, 0, 2, 4, 4, 4, 0, 2, 3, 2, 3, 2, 4, 4, 4, 4, 0, 3, 2, 4, 0, 0, 3, 2, 2, 2, 4, 4, 2, 2, 4, 2, 4, 3, 2, 2, 0, 4, 2, 4, 2, 4, 4, 2, 0, 4, 4, 0, 2, 4, 0, 4, 4, 4, 4, 2, 4, 0, 4, 2, 2, 0, 2, 4, 2, 4, 4, 0, 4, 4, 3, 1, 4, 2, 4, 3, 4, 2, 4, 4, 2, 2, 2, 4, 4, 4, 2, 0, 4, 2, 4, 4, 2, 0, 0, 4, 0, 4, 4, 3, 2, 2, 2, 2, 4, 0, 2, 0, 0, 2, 2, 2, 4, 2, 2, 4, 4, 3, 4, 4, 4, 4, 4, 3, 4, 4, 2, 2, 2, 0, 2, 4, 4, 4, 0, 2, 3, 2, 0, 0, 2, 2, 4, 4, 4, 2, 4, 2, 2, 2, 4, 2, 0, 4, 2, 3, 4, 2, 4, 2, 0, 2, 0, 3, 0, 0, 3, 2, 0, 4, 0, 4, 4, 4, 0, 4, 0, 4, 2, 4, 4, 4, 4, 2, 4, 2, 0, 0, 0, 0, 4, 0, 4, 4, 3, 0, 4, 0, 3, 2, 2, 0, 0, 0, 4, 2, 4, 4, 3, 2, 4, 4, 2, 2, 2, 4, 4, 4, 2, 2, 4, 3, 2, 2, 2, 2, 0, 0, 0, 0, 4, 4, 2, 2, 2, 0, 0, 4, 4, 2, 4, 0, 2, 3, 4, 4, 2, 4, 4, 2, 2, 0, 0, 0, 4, 4, 2, 4, 2, 2, 4, 2, 4, 0, 2, 2, 2, 2, 4, 4, 0, 4, 0, 2, 2, 2, 2, 0, 2, 0, 4, 4, 4, 4, 3, 2, 4, 2, 4, 2, 3, 3, 2, 2, 2, 2, 0, 1, 4, 4, 4, 0, 0, 0, 2, 2, 2, 2, 0, 4, 4, 4, 2, 4, 4, 3, 0, 4, 4, 0, 2, 2, 4, 3, 2, 0, 2, 0, 0, 2, 0, 0, 2, 4, 0, 0, 1, 4, 2, 3, 0, 4, 0, 3, 4, 4, 4, 4, 0, 4, 0, 0, 0, 4, 2, 4, 0, 4, 0, 0, 4, 3, 4, 0, 0, 2, 4, 1, 4, 0, 0, 2, 2, 4, 3, 2, 4, 2, 3, 4, 0, 0, 4, 3, 4, 2, 4, 4, 4, 0, 4, 4, 0, 2, 2, 4, 2, 4, 2, 0, 2, 0, 2, 0, 0, 0, 0, 2, 2, 4, 4, 3, 2, 0, 2, 3, 4, 3, 4, 2, 4, 2, 2, 0, 0, 2, 0, 2, 4, 0, 2, 2, 0, 3, 2, 2, 0, 0, 4, 0, 2, 0, 2, 2, 0, 2, 4, 3, 3, 2, 4, 2, 2, 2, 4, 4, 4, 4, 4, 4, 4, 4, 2, 2, 2, 2, 3, 4, 3, 4, 4, 2, 1, 3, 0, 0, 2, 0, 4, 2, 2, 4, 2, 2, 0, 4, 4, 0, 4, 2, 4, 4, 4, 2, 2, 2, 4, 0, 4, 4, 4, 4, 4, 0, 0, 2, 4, 2, 4, 4, 2, 0, 2, 2, 0, 2, 4, 3, 4, 0, 4, 0, 4, 0, 4, 4, 0, 0, 4, 2, 2, 4, 2, 0, 0, 0, 2, 4, 2, 2, 0, 4, 2, 2, 0, 0, 4, 4, 0, 2, 4, 2, 4, 2, 3, 0, 0, 4, 4, 0, 0, 3, 2, 4, 4, 2, 4, 4, 0, 1, 2, 4, 4, 0, 0, 0, 2, 2, 2, 4, 4, 4, 4, 0, 2, 3, 2, 2, 0, 4, 2, 0, 3, 3, 2, 2, 4, 2, 2, 4, 4, 2, 0, 0, 2, 4, 4, 4, 0, 4, 4, 4, 4, 0, 4, 2, 2, 4, 2, 4, 4, 0, 4, 2, 0, 2, 2, 2, 4, 4, 0, 4, 0, 3, 0, 2, 2, 3, 2, 3, 0, 0, 4, 2, 2, 0, 4, 0, 2, 4, 2, 0, 0, 2, 2, 0, 2, 4, 0, 2, 0, 2, 0, 2, 4, 1, 0, 0, 2, 2, 2, 4, 2, 2, 4, 4, 0, 3, 4, 4, 4, 4, 2, 2, 3, 4, 4, 4, 0, 4, 2, 4, 4, 0, 2, 0, 4, 2, 2, 4, 0, 3, 4, 2, 2, 0, 2, 4, 4, 4, 0, 0, 2, 4, 4, 4, 3, 4, 0, 0, 0, 0, 4, 4, 2, 4, 2, 4, 4, 4, 4, 4, 0, 2, 4, 4, 0, 2, 0, 4, 4, 3, 2, 2, 2, 2, 0, 4, 0, 0, 0, 4, 2, 2, 2, 2, 2, 2, 0, 2, 4, 4, 0, 4, 4, 4, 4, 3, 4, 2, 2, 2, 4, 4, 3, 1, 2, 0, 2, 2, 4, 4, 4, 1, 4, 2, 4, 2, 4, 2, 4, 0, 4, 2, 4, 4, 0, 2, 3, 4, 0, 4, 0, 0, 0, 2, 4, 0, 4, 2, 2, 4, 4, 2, 0, 2, 2, 2, 0, 0, 0, 4, 4, 0, 0, 2, 2, 4, 0, 0, 0, 4, 4, 0, 2, 4, 4, 4, 0, 4, 4, 4, 4, 2, 4, 4, 3, 4, 1, 4, 2, 2, 0, 4, 2, 2, 0, 3, 4, 2, 1, 4, 4, 4, 2, 2, 0, 4, 4, 2, 2, 2, 2, 3, 4, 2, 2, 2, 2, 4, 2, 4, 4, 2, 2, 0, 4, 4, 3, 2, 4, 4, 4, 0, 2, 2, 4, 0, 4, 2, 0, 4, 0, 4, 0, 4, 4, 0, 0, 0, 4, 4, 0, 2, 4, 3, 2, 4, 4, 0, 4, 1, 4, 0, 4, 4, 2, 1, 0, 2, 0, 4, 4, 4, 4, 0, 2, 3, 0, 0, 4, 4, 0, 4, 2, 4, 4, 0, 2, 0, 2, 2, 0, 4, 3, 0, 4, 4, 2, 4, 4, 1, 4, 3, 0, 4, 0, 4, 0, 4, 4, 4, 0, 2, 4, 0, 2, 3, 2, 4, 2, 4, 2, 4, 0, 4, 4, 2, 0, 4, 3, 0, 4, 4, 2, 0, 4, 0, 4, 4, 2, 4, 2, 0, 0, 4, 0, 4, 2, 0, 2, 2, 2, 0, 2, 2, 4, 4, 2, 4, 2, 4, 0, 3, 0, 4, 4, 4, 0, 4, 4, 4, 0, 2, 4, 2, 3, 2, 0, 4, 2, 4, 4, 3, 2, 4, 2, 4, 0, 0, 2, 3, 0, 2, 3, 4, 4, 2, 4, 4, 0, 2, 2, 4, 0, 2, 0, 4, 4, 2, 4, 4, 2, 3, 2, 4, 4, 0, 3, 3, 4, 0, 4, 2, 1, 2, 4, 0, 4, 4, 0, 2, 2, 3, 4, 4, 4, 0, 0, 2, 2, 3, 4, 2, 0, 0, 0, 4, 2, 4, 4, 2, 3, 4, 4, 2, 4, 4, 4, 4, 2, 3, 4, 4, 4, 4, 4, 0, 2, 4, 0, 2, 4, 4, 2, 2, 1, 0, 0, 0, 2, 0, 4, 4, 2, 4, 4, 4, 4, 2, 4, 0, 2, 4, 0, 2, 0, 4, 4, 3, 2, 2, 2, 2, 0, 0, 0, 4, 4, 0, 4, 4, 4, 0, 4, 4, 0, 4, 0, 2, 2, 4, 4, 2, 4, 0, 2, 3, 2, 4, 4, 2, 3, 2, 0, 2, 4, 4, 0, 0, 4, 0, 4, 4, 4, 2, 4, 2, 2, 2, 4, 4, 4, 2, 2, 2, 4, 4, 2, 4, 2, 3, 4, 0, 4, 2, 2, 2, 2, 0, 0, 4, 3, 2, 4, 3, 0, 2, 4, 2, 2, 2, 4, 2, 0, 0, 4, 4, 0, 4, 3, 4, 2, 3, 2, 2, 2, 2, 4, 4, 2, 4, 2, 2, 0, 2, 0, 4, 4, 2, 0, 4, 2, 4, 0, 4, 4, 3, 4, 4, 4, 4, 2, 2, 0, 4, 0, 4, 2, 4, 0, 4, 4, 0, 4, 0, 4, 0, 2, 2, 4, 0, 2, 2, 0, 0, 4, 0, 4, 4, 2, 0, 4, 0, 0, 4, 0, 2, 0, 4, 2, 2, 2, 3, 4, 4, 0, 4, 2, 4, 2, 0, 2, 2, 4, 0, 3, 4, 4, 4, 2, 2, 3, 2, 2, 0, 0, 2, 0, 4, 4, 4, 4, 0, 4, 4, 0, 4, 4, 2, 2, 4, 2, 0, 2, 2, 2, 0, 0, 0, 4, 4, 4, 2, 2, 2, 4, 2, 0, 4, 2, 2, 4, 4, 0, 2, 0, 4, 4, 0, 3, 0, 4, 2, 0, 4, 0, 4, 0, 2, 4, 0, 0, 0, 4, 2, 4, 4, 0, 4, 4, 0, 2, 0, 4, 4, 2, 2, 2, 4, 0, 2, 2, 2, 2, 4, 2, 4, 0, 4, 0, 0, 0, 4, 0, 2, 0, 2, 4, 4, 2, 2, 2, 4, 0, 2, 0, 4, 4, 4, 4, 0, 4, 2, 0, 0, 0, 4, 0, 4, 2, 0, 4, 0, 2, 2, 0, 2, 0, 4, 4, 4, 0, 0, 4, 0, 4, 0, 2, 4, 4, 4, 2, 0, 4, 2, 0, 0, 2, 4, 4, 4, 4, 4, 2, 4, 0, 0, 4, 4, 4, 2, 2, 0, 2, 4, 4, 4, 0, 4, 4, 2, 2, 0, 2, 2, 2, 2, 0, 2, 4, 2, 2, 3, 0, 0, 0, 0, 4, 0, 4, 0, 4, 4, 3, 2, 2, 4, 2, 2, 2, 3, 2, 4, 0, 2, 4, 2, 4, 4, 0, 0, 0, 2, 0, 4, 0, 3, 2, 4, 4, 2, 2, 2, 2, 2, 4, 4, 0, 2, 2, 4, 0, 2, 0, 2, 2, 2, 4, 1, 4, 2, 1, 2, 0, 4, 2, 4, 3, 4, 4, 4, 4, 0, 2, 4, 0, 0, 4, 0, 3, 4, 2, 2, 4, 2, 4, 4, 3, 4, 4, 4, 4, 4, 1, 4, 1, 4, 0, 0, 2, 0, 2, 3, 0, 2, 0, 2, 4, 0, 4, 4, 0, 2, 4, 0, 2, 2, 4]\n"
          ]
        }
      ]
    },
    {
      "cell_type": "code",
      "execution_count": 18,
      "metadata": {
        "colab": {
          "base_uri": "https://localhost:8080/"
        },
        "id": "ObZfckyvNmBY",
        "outputId": "92c55dfe-246e-4f4a-f762-b9bc265e0f04"
      },
      "outputs": [
        {
          "output_type": "execute_result",
          "data": {
            "text/plain": [
              "array([[0., 0., 0., 0., 1.],\n",
              "       [1., 0., 0., 0., 0.],\n",
              "       [0., 0., 0., 0., 1.],\n",
              "       ...,\n",
              "       [0., 0., 1., 0., 0.],\n",
              "       [0., 0., 1., 0., 0.],\n",
              "       [0., 0., 0., 0., 1.]], dtype=float32)"
            ]
          },
          "metadata": {},
          "execution_count": 18
        }
      ],
      "source": [
        "y_train = to_categorical(y_train)\n",
        "y_test = to_categorical(y_test)\n",
        "\n",
        "y_train"
      ]
    },
    {
      "cell_type": "markdown",
      "metadata": {
        "id": "II_5cZ_8NmBY"
      },
      "source": [
        "## Import pretrained word vectors"
      ]
    },
    {
      "cell_type": "code",
      "execution_count": 19,
      "metadata": {
        "id": "MOt4J7B_NmBZ"
      },
      "outputs": [],
      "source": [
        "def create_embedding_matrix(filepath, word_index, embedding_dim):\n",
        "    vocab_size = len(word_index) + 1  # Adding 1 because of reserved 0 index\n",
        "    embedding_matrix = np.zeros((vocab_size, embedding_dim))\n",
        "    with open(filepath) as f:\n",
        "        for line in f:\n",
        "            word, *vector = line.split()\n",
        "            if word in word_index:\n",
        "                idx = word_index[word]\n",
        "                embedding_matrix[idx] = np.array(\n",
        "                    vector, dtype=np.float32)[:embedding_dim]\n",
        "    return embedding_matrix"
      ]
    },
    {
      "cell_type": "code",
      "execution_count": 20,
      "metadata": {
        "id": "4uf5yYgtNmBa",
        "colab": {
          "base_uri": "https://localhost:8080/"
        },
        "outputId": "6d2b23c5-92f7-4159-d697-5fe014c5c0ff"
      },
      "outputs": [
        {
          "output_type": "stream",
          "name": "stdout",
          "text": [
            "Downloading word vectors...\n",
            "Unzipping...\n",
            "done.\n"
          ]
        }
      ],
      "source": [
        "import urllib.request\n",
        "import zipfile\n",
        "import os\n",
        "\n",
        "fname = 'embeddings/wiki-news-300d-1M.vec'\n",
        "\n",
        "if not os.path.isfile(fname):\n",
        "    print('Downloading word vectors...')\n",
        "    urllib.request.urlretrieve('https://dl.fbaipublicfiles.com/fasttext/vectors-english/wiki-news-300d-1M.vec.zip',\n",
        "                              'wiki-news-300d-1M.vec.zip')\n",
        "    print('Unzipping...')\n",
        "    with zipfile.ZipFile('wiki-news-300d-1M.vec.zip', 'r') as zip_ref:\n",
        "        zip_ref.extractall('embeddings')\n",
        "    print('done.')\n",
        "\n",
        "    os.remove('wiki-news-300d-1M.vec.zip')"
      ]
    },
    {
      "cell_type": "code",
      "execution_count": 21,
      "metadata": {
        "colab": {
          "base_uri": "https://localhost:8080/"
        },
        "id": "qyx0zscDNmBc",
        "outputId": "7a9ccd49-3b37-489f-cd53-c75e14984d2b"
      },
      "outputs": [
        {
          "output_type": "execute_result",
          "data": {
            "text/plain": [
              "(34971, 300)"
            ]
          },
          "metadata": {},
          "execution_count": 21
        }
      ],
      "source": [
        "embedd_matrix = create_embedding_matrix(fname, index_of_words, embed_num_dims)\n",
        "embedd_matrix.shape"
      ]
    },
    {
      "cell_type": "code",
      "execution_count": 22,
      "metadata": {
        "colab": {
          "base_uri": "https://localhost:8080/"
        },
        "id": "zCzmNv5jNmBd",
        "outputId": "8bbd0c72-40de-4657-fd12-bcf544aa7c0d",
        "scrolled": true
      },
      "outputs": [
        {
          "output_type": "stream",
          "name": "stdout",
          "text": [
            "Words found in wiki vocab: 18956\n",
            "New words found: 16014\n"
          ]
        }
      ],
      "source": [
        "# Inspect unseen words\n",
        "new_words = 0\n",
        "\n",
        "for word in index_of_words:\n",
        "    entry = embedd_matrix[index_of_words[word]]\n",
        "    if all(v == 0 for v in entry):\n",
        "        new_words = new_words + 1\n",
        "\n",
        "print('Words found in wiki vocab: ' + str(len(index_of_words) - new_words))\n",
        "print('New words found: ' + str(new_words))"
      ]
    },
    {
      "cell_type": "code",
      "execution_count": 23,
      "metadata": {
        "id": "AqOoqoMoNmBe"
      },
      "outputs": [],
      "source": [
        "# Embedding layer\n",
        "embedd_layer = Embedding(vocab_size,\n",
        "                         embed_num_dims,\n",
        "                         input_length = max_seq_len,\n",
        "                         weights = [embedd_matrix],\n",
        "                         trainable=False)"
      ]
    },
    {
      "cell_type": "markdown",
      "source": [
        "# **CNN Model**"
      ],
      "metadata": {
        "id": "BYVuPbr8tFsM"
      }
    },
    {
      "cell_type": "code",
      "execution_count": 24,
      "metadata": {
        "id": "x2iC_309NmBf"
      },
      "outputs": [],
      "source": [
        "kernel_size = 3\n",
        "filters = 256\n",
        "\n",
        "model = Sequential()\n",
        "model.add(embedd_layer)\n",
        "model.add(Conv1D(filters, kernel_size, activation='relu'))\n",
        "model.add(GlobalMaxPooling1D())\n",
        "model.add(Dense(256, activation='relu'))\n",
        "model.add(Dense(num_classes, activation='softmax'))"
      ]
    },
    {
      "cell_type": "code",
      "execution_count": 25,
      "metadata": {
        "colab": {
          "base_uri": "https://localhost:8080/"
        },
        "id": "ePD_bQrZNmBf",
        "outputId": "2b15c7f7-004f-497d-daa8-fa66b45cdb6c"
      },
      "outputs": [
        {
          "output_type": "stream",
          "name": "stdout",
          "text": [
            "Model: \"sequential\"\n",
            "_________________________________________________________________\n",
            " Layer (type)                Output Shape              Param #   \n",
            "=================================================================\n",
            " embedding (Embedding)       (None, 500, 300)          10491300  \n",
            "                                                                 \n",
            " conv1d (Conv1D)             (None, 498, 256)          230656    \n",
            "                                                                 \n",
            " global_max_pooling1d (Glob  (None, 256)               0         \n",
            " alMaxPooling1D)                                                 \n",
            "                                                                 \n",
            " dense (Dense)               (None, 256)               65792     \n",
            "                                                                 \n",
            " dense_1 (Dense)             (None, 5)                 1285      \n",
            "                                                                 \n",
            "=================================================================\n",
            "Total params: 10789033 (41.16 MB)\n",
            "Trainable params: 297733 (1.14 MB)\n",
            "Non-trainable params: 10491300 (40.02 MB)\n",
            "_________________________________________________________________\n"
          ]
        }
      ],
      "source": [
        "model.compile(loss = 'categorical_crossentropy', optimizer = 'adam', metrics = ['accuracy'])\n",
        "model.summary()"
      ]
    },
    {
      "cell_type": "markdown",
      "metadata": {
        "id": "fAnqpBXlNmBg"
      },
      "source": [
        "## Train CNN Model"
      ]
    },
    {
      "cell_type": "code",
      "execution_count": 26,
      "metadata": {
        "colab": {
          "base_uri": "https://localhost:8080/"
        },
        "id": "ZC4TKrlcNmBg",
        "outputId": "f4411139-956c-4c13-dcf1-335acb6df4ae"
      },
      "outputs": [
        {
          "output_type": "stream",
          "name": "stdout",
          "text": [
            "Epoch 1/50\n",
            "69/69 [==============================] - 9s 61ms/step - loss: 1.0366 - accuracy: 0.5789 - val_loss: 0.7952 - val_accuracy: 0.6992\n",
            "Epoch 2/50\n",
            "69/69 [==============================] - 3s 48ms/step - loss: 0.7094 - accuracy: 0.7317 - val_loss: 0.7050 - val_accuracy: 0.7397\n",
            "Epoch 3/50\n",
            "69/69 [==============================] - 3s 48ms/step - loss: 0.5709 - accuracy: 0.7920 - val_loss: 0.6875 - val_accuracy: 0.7392\n",
            "Epoch 4/50\n",
            "69/69 [==============================] - 3s 50ms/step - loss: 0.4444 - accuracy: 0.8450 - val_loss: 0.6621 - val_accuracy: 0.7480\n",
            "Epoch 5/50\n",
            "69/69 [==============================] - 4s 51ms/step - loss: 0.3284 - accuracy: 0.8964 - val_loss: 0.6569 - val_accuracy: 0.7434\n",
            "Epoch 6/50\n",
            "69/69 [==============================] - 4s 53ms/step - loss: 0.2301 - accuracy: 0.9354 - val_loss: 0.6984 - val_accuracy: 0.7517\n",
            "Epoch 7/50\n",
            "69/69 [==============================] - 4s 54ms/step - loss: 0.1496 - accuracy: 0.9648 - val_loss: 0.7176 - val_accuracy: 0.7477\n",
            "Epoch 8/50\n",
            "69/69 [==============================] - 4s 53ms/step - loss: 0.0956 - accuracy: 0.9811 - val_loss: 0.7770 - val_accuracy: 0.7422\n",
            "Epoch 9/50\n",
            "69/69 [==============================] - 4s 51ms/step - loss: 0.0677 - accuracy: 0.9878 - val_loss: 0.8066 - val_accuracy: 0.7473\n",
            "Epoch 10/50\n",
            "69/69 [==============================] - 4s 51ms/step - loss: 0.0484 - accuracy: 0.9918 - val_loss: 0.8498 - val_accuracy: 0.7454\n",
            "Epoch 11/50\n",
            "69/69 [==============================] - 4s 51ms/step - loss: 0.0396 - accuracy: 0.9925 - val_loss: 0.8992 - val_accuracy: 0.7426\n",
            "Epoch 12/50\n",
            "69/69 [==============================] - 4s 53ms/step - loss: 0.0347 - accuracy: 0.9937 - val_loss: 0.9895 - val_accuracy: 0.7429\n",
            "Epoch 13/50\n",
            "69/69 [==============================] - 4s 54ms/step - loss: 0.0326 - accuracy: 0.9941 - val_loss: 1.0140 - val_accuracy: 0.7449\n",
            "Epoch 14/50\n",
            "69/69 [==============================] - 4s 53ms/step - loss: 0.0345 - accuracy: 0.9939 - val_loss: 1.0201 - val_accuracy: 0.7469\n",
            "Epoch 15/50\n",
            "69/69 [==============================] - 4s 53ms/step - loss: 0.0279 - accuracy: 0.9947 - val_loss: 1.0099 - val_accuracy: 0.7450\n",
            "Epoch 16/50\n",
            "69/69 [==============================] - 4s 53ms/step - loss: 0.0299 - accuracy: 0.9941 - val_loss: 1.1081 - val_accuracy: 0.7486\n",
            "Epoch 17/50\n",
            "69/69 [==============================] - 4s 52ms/step - loss: 0.0269 - accuracy: 0.9946 - val_loss: 1.0570 - val_accuracy: 0.7450\n",
            "Epoch 18/50\n",
            "69/69 [==============================] - 4s 51ms/step - loss: 0.0335 - accuracy: 0.9945 - val_loss: 1.0677 - val_accuracy: 0.7436\n",
            "Epoch 19/50\n",
            "69/69 [==============================] - 4s 53ms/step - loss: 0.0272 - accuracy: 0.9947 - val_loss: 1.0883 - val_accuracy: 0.7422\n",
            "Epoch 20/50\n",
            "69/69 [==============================] - 4s 55ms/step - loss: 0.0261 - accuracy: 0.9943 - val_loss: 1.1314 - val_accuracy: 0.7442\n",
            "Epoch 21/50\n",
            "69/69 [==============================] - 4s 56ms/step - loss: 0.0228 - accuracy: 0.9951 - val_loss: 1.0801 - val_accuracy: 0.7432\n",
            "Epoch 22/50\n",
            "69/69 [==============================] - 4s 55ms/step - loss: 0.0229 - accuracy: 0.9951 - val_loss: 1.0558 - val_accuracy: 0.7432\n",
            "Epoch 23/50\n",
            "69/69 [==============================] - 4s 53ms/step - loss: 0.0216 - accuracy: 0.9955 - val_loss: 1.1732 - val_accuracy: 0.7456\n",
            "Epoch 24/50\n",
            "69/69 [==============================] - 4s 55ms/step - loss: 0.0221 - accuracy: 0.9953 - val_loss: 1.1217 - val_accuracy: 0.7437\n",
            "Epoch 25/50\n",
            "69/69 [==============================] - 4s 53ms/step - loss: 0.0250 - accuracy: 0.9951 - val_loss: 1.0805 - val_accuracy: 0.7440\n",
            "Epoch 26/50\n",
            "69/69 [==============================] - 4s 54ms/step - loss: 0.0214 - accuracy: 0.9953 - val_loss: 1.1061 - val_accuracy: 0.7469\n",
            "Epoch 27/50\n",
            "69/69 [==============================] - 4s 55ms/step - loss: 0.0194 - accuracy: 0.9953 - val_loss: 1.1323 - val_accuracy: 0.7351\n",
            "Epoch 28/50\n",
            "69/69 [==============================] - 4s 55ms/step - loss: 0.0205 - accuracy: 0.9952 - val_loss: 1.1292 - val_accuracy: 0.7481\n",
            "Epoch 29/50\n",
            "69/69 [==============================] - 4s 55ms/step - loss: 0.0197 - accuracy: 0.9956 - val_loss: 1.0978 - val_accuracy: 0.7446\n",
            "Epoch 30/50\n",
            "69/69 [==============================] - 4s 53ms/step - loss: 0.0190 - accuracy: 0.9953 - val_loss: 1.2402 - val_accuracy: 0.7329\n",
            "Epoch 31/50\n",
            "69/69 [==============================] - 3s 51ms/step - loss: 0.0193 - accuracy: 0.9954 - val_loss: 1.1535 - val_accuracy: 0.7396\n",
            "Epoch 32/50\n",
            "69/69 [==============================] - 4s 52ms/step - loss: 0.0215 - accuracy: 0.9950 - val_loss: 1.1120 - val_accuracy: 0.7461\n",
            "Epoch 33/50\n",
            "69/69 [==============================] - 4s 54ms/step - loss: 0.0178 - accuracy: 0.9955 - val_loss: 1.1188 - val_accuracy: 0.7461\n",
            "Epoch 34/50\n",
            "69/69 [==============================] - 4s 55ms/step - loss: 0.0190 - accuracy: 0.9946 - val_loss: 1.1514 - val_accuracy: 0.7405\n",
            "Epoch 35/50\n",
            "69/69 [==============================] - 4s 53ms/step - loss: 0.0187 - accuracy: 0.9954 - val_loss: 1.1740 - val_accuracy: 0.7429\n",
            "Epoch 36/50\n",
            "69/69 [==============================] - 4s 55ms/step - loss: 0.0186 - accuracy: 0.9950 - val_loss: 1.1733 - val_accuracy: 0.7305\n",
            "Epoch 37/50\n",
            "69/69 [==============================] - 4s 52ms/step - loss: 0.0171 - accuracy: 0.9954 - val_loss: 1.3632 - val_accuracy: 0.7250\n",
            "Epoch 38/50\n",
            "69/69 [==============================] - 4s 51ms/step - loss: 0.0185 - accuracy: 0.9950 - val_loss: 1.2929 - val_accuracy: 0.7386\n",
            "Epoch 39/50\n",
            "69/69 [==============================] - 4s 51ms/step - loss: 0.0176 - accuracy: 0.9955 - val_loss: 1.1513 - val_accuracy: 0.7392\n",
            "Epoch 40/50\n",
            "69/69 [==============================] - 4s 54ms/step - loss: 0.0162 - accuracy: 0.9957 - val_loss: 1.2055 - val_accuracy: 0.7426\n",
            "Epoch 41/50\n",
            "69/69 [==============================] - 4s 55ms/step - loss: 0.0178 - accuracy: 0.9950 - val_loss: 1.3380 - val_accuracy: 0.7319\n",
            "Epoch 42/50\n",
            "69/69 [==============================] - 4s 55ms/step - loss: 0.0146 - accuracy: 0.9955 - val_loss: 1.2318 - val_accuracy: 0.7334\n",
            "Epoch 43/50\n",
            "69/69 [==============================] - 4s 55ms/step - loss: 0.0162 - accuracy: 0.9955 - val_loss: 1.4336 - val_accuracy: 0.7357\n",
            "Epoch 44/50\n",
            "69/69 [==============================] - 4s 54ms/step - loss: 0.0163 - accuracy: 0.9953 - val_loss: 1.2758 - val_accuracy: 0.7412\n",
            "Epoch 45/50\n",
            "69/69 [==============================] - 4s 52ms/step - loss: 0.0131 - accuracy: 0.9953 - val_loss: 1.2390 - val_accuracy: 0.7414\n",
            "Epoch 46/50\n",
            "69/69 [==============================] - 4s 51ms/step - loss: 0.0139 - accuracy: 0.9956 - val_loss: 1.2771 - val_accuracy: 0.7438\n",
            "Epoch 47/50\n",
            "69/69 [==============================] - 4s 53ms/step - loss: 0.0121 - accuracy: 0.9958 - val_loss: 1.2714 - val_accuracy: 0.7341\n",
            "Epoch 48/50\n",
            "69/69 [==============================] - 4s 55ms/step - loss: 0.0141 - accuracy: 0.9949 - val_loss: 1.2688 - val_accuracy: 0.7409\n",
            "Epoch 49/50\n",
            "69/69 [==============================] - 4s 54ms/step - loss: 0.0143 - accuracy: 0.9957 - val_loss: 1.1963 - val_accuracy: 0.7389\n",
            "Epoch 50/50\n",
            "69/69 [==============================] - 4s 56ms/step - loss: 0.0124 - accuracy: 0.9954 - val_loss: 1.3008 - val_accuracy: 0.7434\n"
          ]
        }
      ],
      "source": [
        "batch_size = 256\n",
        "epochs = 50\n",
        "\n",
        "hist = model.fit(X_train_pad, y_train,\n",
        "                 batch_size=batch_size,\n",
        "                 epochs=epochs,\n",
        "                 validation_data=(X_test_pad,y_test))"
      ]
    },
    {
      "cell_type": "code",
      "execution_count": null,
      "metadata": {
        "colab": {
          "base_uri": "https://localhost:8080/",
          "height": 927
        },
        "id": "SSYF0amUNmBg",
        "outputId": "cb757675-75ae-4df5-c902-4eaf89dbdc51"
      },
      "outputs": [
        {
          "output_type": "display_data",
          "data": {
            "text/plain": [
              "<Figure size 640x480 with 1 Axes>"
            ],
            "image/png": "[encoded data removed]"
          },
          "metadata": {}
        },
        {
          "output_type": "display_data",
          "data": {
            "text/plain": [
              "<Figure size 640x480 with 1 Axes>"
            ],
            "image/png": "[encoded data removed]"
          },
          "metadata": {}
        }
      ],
      "source": [
        "# Accuracy plot of CNN\n",
        "plt.plot(hist.history['accuracy'])\n",
        "plt.plot(hist.history['val_accuracy'])\n",
        "plt.title('model accuracy')\n",
        "plt.ylabel('accuracy')\n",
        "plt.xlabel('epoch')\n",
        "plt.legend(['train', 'validation'], loc='upper left')\n",
        "plt.show()\n",
        "\n",
        "# Loss plot of CNN\n",
        "plt.plot(hist.history['loss'])\n",
        "plt.plot(hist.history['val_loss'])\n",
        "plt.title('model loss')\n",
        "plt.ylabel('loss')\n",
        "plt.xlabel('epoch')\n",
        "plt.legend(['train', 'validation'], loc='upper left')\n",
        "plt.show()"
      ]
    },
    {
      "cell_type": "code",
      "execution_count": null,
      "metadata": {
        "colab": {
          "base_uri": "https://localhost:8080/"
        },
        "id": "Mw8l480xNmBh",
        "outputId": "0824ef01-ffd6-4f6b-d015-ddcff86fb05e"
      },
      "outputs": [
        {
          "output_type": "stream",
          "name": "stdout",
          "text": [
            "235/235 [==============================] - 1s 5ms/step\n"
          ]
        }
      ],
      "source": [
        "predictions = model.predict(X_test_pad)\n",
        "predictions = np.argmax(predictions, axis=1)\n",
        "predictions = [class_names[pred] for pred in predictions]"
      ]
    },
    {
      "cell_type": "markdown",
      "source": [
        "## Accuracy and Loss of CNN"
      ],
      "metadata": {
        "id": "C2MJqfHSyWIR"
      }
    },
    {
      "cell_type": "code",
      "execution_count": null,
      "metadata": {
        "id": "gkC9eqa4NmBi"
      },
      "outputs": [],
      "source": [
        "def plot_confusion_matrix(y_true, y_pred, classes,\n",
        "                          normalize=False,\n",
        "                          title=None,\n",
        "                          cmap=plt.cm.Blues):\n",
        "    '''\n",
        "    This function prints and plots the confusion matrix.\n",
        "    Normalization can be applied by setting `normalize=True`.\n",
        "    '''\n",
        "    if not title:\n",
        "        if normalize:\n",
        "            title = 'Normalized confusion matrix'\n",
        "        else:\n",
        "            title = 'Confusion matrix, without normalization'\n",
        "\n",
        "    # Compute confusion matrix\n",
        "    cm = confusion_matrix(y_true, y_pred)\n",
        "\n",
        "    if normalize:\n",
        "        cm = cm.astype('float') / cm.sum(axis=1)[:, np.newaxis]\n",
        "\n",
        "    fig, ax = plt.subplots()\n",
        "\n",
        "    # Set size\n",
        "    fig.set_size_inches(12.5, 7.5)\n",
        "    im = ax.imshow(cm, interpolation='nearest', cmap=cmap)\n",
        "    ax.figure.colorbar(im, ax=ax)\n",
        "    ax.grid(False)\n",
        "\n",
        "    # Show all ticks and label them with the respective list entries\n",
        "    ax.set(xticks=np.arange(cm.shape[1]),\n",
        "           yticks=np.arange(cm.shape[0]),\n",
        "           xticklabels=classes, yticklabels=classes,\n",
        "           title=title,\n",
        "           ylabel='True label',\n",
        "           xlabel='Predicted label')\n",
        "\n",
        "    # Rotate the tick labels and set their alignment\n",
        "    plt.setp(ax.get_xticklabels(), rotation=45, ha=\"right\",\n",
        "             rotation_mode=\"anchor\")\n",
        "\n",
        "    # Loop over data dimensions and create text annotations\n",
        "    fmt = '.2f' if normalize else 'd'\n",
        "    thresh = cm.max() / 2.\n",
        "    for i in range(cm.shape[0]):\n",
        "        for j in range(cm.shape[1]):\n",
        "            ax.text(j, i, format(cm[i, j], fmt),\n",
        "                    ha=\"center\", va=\"center\",\n",
        "                    color=\"white\" if cm[i, j] > thresh else \"black\")\n",
        "    fig.tight_layout()\n",
        "    return ax"
      ]
    },
    {
      "cell_type": "code",
      "execution_count": null,
      "metadata": {
        "colab": {
          "base_uri": "https://localhost:8080/",
          "height": 757
        },
        "id": "fTLTWmx9NmBj",
        "outputId": "1d399b15-57a0-44ed-f178-fee6eeee6301"
      },
      "outputs": [
        {
          "output_type": "display_data",
          "data": {
            "text/plain": [
              "<Figure size 1250x750 with 2 Axes>"
            ],
            "image/png": "[encoded data removed]"
          },
          "metadata": {}
        }
      ],
      "source": [
        "# Plot normalized confusion matrix\n",
        "plot_confusion_matrix(data_test.emotion, predictions, classes=class_names, normalize=True, title='Normalized confusion matrix for CNN')\n",
        "plt.show()"
      ]
    },
    {
      "cell_type": "code",
      "source": [
        "encoding = {\n",
        "    0: 'joy',\n",
        "    1: 'fear',\n",
        "    2: 'anger',\n",
        "    3: 'sadness',\n",
        "    4: 'neutral'\n",
        "}\n",
        "\n",
        "classification_report_model = classification_report(data_test.emotion, predictions, target_names=encoding.values())\n",
        "print(classification_report_model)\n",
        "print(\"Accuracy of CNN model: {:.2f}%\".format(accuracy_score(data_test.emotion, predictions) * 100))\n",
        "print(\"\\nF1 Score of CNN: {:.2f}\".format(f1_score(data_test.emotion, predictions, average='micro') * 100))"
      ],
      "metadata": {
        "colab": {
          "base_uri": "https://localhost:8080/"
        },
        "id": "twDEzn8Ct2lp",
        "outputId": "0083e763-66e3-4293-8584-5b02aa3fc926"
      },
      "execution_count": null,
      "outputs": [
        {
          "output_type": "stream",
          "name": "stdout",
          "text": [
            "              precision    recall  f1-score   support\n",
            "\n",
            "         joy       0.85      0.76      0.80      2232\n",
            "        fear       0.73      0.49      0.59       104\n",
            "       anger       0.78      0.73      0.75      1938\n",
            "     sadness       0.66      0.79      0.72      2835\n",
            "     neutral       0.53      0.30      0.39       382\n",
            "\n",
            "    accuracy                           0.74      7491\n",
            "   macro avg       0.71      0.61      0.65      7491\n",
            "weighted avg       0.74      0.74      0.73      7491\n",
            "\n",
            "Accuracy of CNN model: 73.58%\n",
            "\n",
            "F1 Score of CNN: 73.58\n"
          ]
        }
      ]
    },
    {
      "cell_type": "code",
      "source": [
        "# Clear applied layers and model to test new model\n",
        "from keras.backend import clear_session\n",
        "clear_session()"
      ],
      "metadata": {
        "id": "zizVJQckvi_j"
      },
      "execution_count": null,
      "outputs": []
    },
    {
      "cell_type": "markdown",
      "source": [
        "# **LSTM Model**"
      ],
      "metadata": {
        "id": "y51ZPKi9uaGl"
      }
    },
    {
      "cell_type": "markdown",
      "source": [
        "## Train LSTM Model"
      ],
      "metadata": {
        "id": "54_eDvW0yck1"
      }
    },
    {
      "cell_type": "code",
      "source": [
        "from tensorflow import keras\n",
        "from keras.layers import Embedding, LSTM, Dense"
      ],
      "metadata": {
        "id": "JLxD4Zp-z77o"
      },
      "execution_count": null,
      "outputs": []
    },
    {
      "cell_type": "code",
      "source": [
        "kernel_size = 3\n",
        "filters = 256\n",
        "\n",
        "model = Sequential()\n",
        "model.add(embedd_layer)\n",
        "model.add(LSTM(256))\n",
        "model.add(Dense(5, activation='relu'))\n",
        "model.add(Dense(num_classes, activation='softmax'))"
      ],
      "metadata": {
        "id": "Hew0ZU2Dwjat"
      },
      "execution_count": null,
      "outputs": []
    },
    {
      "cell_type": "code",
      "source": [
        "model.compile(loss = 'categorical_crossentropy', optimizer = 'adam', metrics = ['accuracy'])\n",
        "\n",
        "model.summary()"
      ],
      "metadata": {
        "colab": {
          "base_uri": "https://localhost:8080/"
        },
        "id": "kWzdx2DFwlZl",
        "outputId": "36506a64-d20f-4133-a281-f7c2ab191740"
      },
      "execution_count": null,
      "outputs": [
        {
          "output_type": "stream",
          "name": "stdout",
          "text": [
            "Model: \"sequential\"\n",
            "_________________________________________________________________\n",
            " Layer (type)                Output Shape              Param #   \n",
            "=================================================================\n",
            " embedding (Embedding)       (None, 500, 300)          10491300  \n",
            "                                                                 \n",
            " lstm (LSTM)                 (None, 256)               570368    \n",
            "                                                                 \n",
            " dense (Dense)               (None, 5)                 1285      \n",
            "                                                                 \n",
            " dense_1 (Dense)             (None, 5)                 30        \n",
            "                                                                 \n",
            "=================================================================\n",
            "Total params: 11062983 (42.20 MB)\n",
            "Trainable params: 571683 (2.18 MB)\n",
            "Non-trainable params: 10491300 (40.02 MB)\n",
            "_________________________________________________________________\n"
          ]
        }
      ]
    },
    {
      "cell_type": "code",
      "source": [
        "batch_size = 256\n",
        "epochs = 50\n",
        "\n",
        "hist = model.fit(X_train_pad, y_train,\n",
        "                 batch_size=batch_size,\n",
        "                 epochs=epochs,\n",
        "                 validation_data=(X_test_pad,y_test))"
      ],
      "metadata": {
        "colab": {
          "base_uri": "https://localhost:8080/"
        },
        "id": "D8qDB-zOwn-H",
        "outputId": "142fb3ad-010b-4bc1-bf72-c1457b05cb56"
      },
      "execution_count": null,
      "outputs": [
        {
          "output_type": "stream",
          "name": "stdout",
          "text": [
            "Epoch 1/50\n",
            "69/69 [==============================] - 18s 207ms/step - loss: 1.2106 - accuracy: 0.4678 - val_loss: 1.0818 - val_accuracy: 0.5930\n",
            "Epoch 2/50\n",
            "69/69 [==============================] - 14s 205ms/step - loss: 1.0369 - accuracy: 0.6117 - val_loss: 1.0070 - val_accuracy: 0.6477\n",
            "Epoch 3/50\n",
            "69/69 [==============================] - 14s 208ms/step - loss: 0.9258 - accuracy: 0.6662 - val_loss: 0.8913 - val_accuracy: 0.6846\n",
            "Epoch 4/50\n",
            "69/69 [==============================] - 14s 203ms/step - loss: 0.8412 - accuracy: 0.7006 - val_loss: 0.8508 - val_accuracy: 0.6887\n",
            "Epoch 5/50\n",
            "69/69 [==============================] - 14s 200ms/step - loss: 0.7964 - accuracy: 0.7105 - val_loss: 0.8148 - val_accuracy: 0.7008\n",
            "Epoch 6/50\n",
            "69/69 [==============================] - 14s 199ms/step - loss: 0.7533 - accuracy: 0.7193 - val_loss: 0.8019 - val_accuracy: 0.6926\n",
            "Epoch 7/50\n",
            "69/69 [==============================] - 14s 201ms/step - loss: 0.7148 - accuracy: 0.7313 - val_loss: 0.7538 - val_accuracy: 0.7134\n",
            "Epoch 8/50\n",
            "69/69 [==============================] - 14s 201ms/step - loss: 0.6745 - accuracy: 0.7431 - val_loss: 0.7546 - val_accuracy: 0.7091\n",
            "Epoch 9/50\n",
            "69/69 [==============================] - 14s 202ms/step - loss: 0.6666 - accuracy: 0.7436 - val_loss: 0.7361 - val_accuracy: 0.7238\n",
            "Epoch 10/50\n",
            "69/69 [==============================] - 14s 203ms/step - loss: 0.6329 - accuracy: 0.7570 - val_loss: 0.7812 - val_accuracy: 0.7063\n",
            "Epoch 11/50\n",
            "69/69 [==============================] - 14s 201ms/step - loss: 0.6141 - accuracy: 0.7644 - val_loss: 0.7233 - val_accuracy: 0.7297\n",
            "Epoch 12/50\n",
            "69/69 [==============================] - 14s 201ms/step - loss: 0.5865 - accuracy: 0.7754 - val_loss: 0.7501 - val_accuracy: 0.7298\n",
            "Epoch 13/50\n",
            "69/69 [==============================] - 14s 201ms/step - loss: 0.5572 - accuracy: 0.7849 - val_loss: 0.7370 - val_accuracy: 0.7247\n",
            "Epoch 14/50\n",
            "69/69 [==============================] - 14s 202ms/step - loss: 0.5285 - accuracy: 0.7943 - val_loss: 0.7246 - val_accuracy: 0.7287\n",
            "Epoch 15/50\n",
            "69/69 [==============================] - 14s 202ms/step - loss: 0.5075 - accuracy: 0.8034 - val_loss: 0.7525 - val_accuracy: 0.7215\n",
            "Epoch 16/50\n",
            "69/69 [==============================] - 13s 188ms/step - loss: 0.4865 - accuracy: 0.8123 - val_loss: 0.7663 - val_accuracy: 0.7279\n",
            "Epoch 17/50\n",
            "69/69 [==============================] - 13s 187ms/step - loss: 0.5697 - accuracy: 0.7821 - val_loss: 0.7499 - val_accuracy: 0.7234\n",
            "Epoch 18/50\n",
            "69/69 [==============================] - 13s 187ms/step - loss: 0.4709 - accuracy: 0.8189 - val_loss: 0.7575 - val_accuracy: 0.7219\n",
            "Epoch 19/50\n",
            "69/69 [==============================] - 14s 201ms/step - loss: 0.4309 - accuracy: 0.8337 - val_loss: 0.7763 - val_accuracy: 0.7273\n",
            "Epoch 20/50\n",
            "69/69 [==============================] - 14s 201ms/step - loss: 0.3984 - accuracy: 0.8486 - val_loss: 0.7867 - val_accuracy: 0.7282\n",
            "Epoch 21/50\n",
            "69/69 [==============================] - 13s 188ms/step - loss: 0.3694 - accuracy: 0.8617 - val_loss: 0.8366 - val_accuracy: 0.7247\n",
            "Epoch 22/50\n",
            "69/69 [==============================] - 14s 203ms/step - loss: 0.3350 - accuracy: 0.8729 - val_loss: 0.8693 - val_accuracy: 0.7143\n",
            "Epoch 23/50\n",
            "69/69 [==============================] - 13s 187ms/step - loss: 0.3124 - accuracy: 0.8835 - val_loss: 0.9235 - val_accuracy: 0.7195\n",
            "Epoch 24/50\n",
            "69/69 [==============================] - 14s 201ms/step - loss: 0.2953 - accuracy: 0.8899 - val_loss: 0.9712 - val_accuracy: 0.7082\n",
            "Epoch 25/50\n",
            "69/69 [==============================] - 14s 200ms/step - loss: 0.2642 - accuracy: 0.9030 - val_loss: 0.9541 - val_accuracy: 0.7210\n",
            "Epoch 26/50\n",
            "69/69 [==============================] - 14s 203ms/step - loss: 0.2435 - accuracy: 0.9132 - val_loss: 1.0233 - val_accuracy: 0.7202\n",
            "Epoch 27/50\n",
            "69/69 [==============================] - 14s 203ms/step - loss: 0.2264 - accuracy: 0.9201 - val_loss: 1.0668 - val_accuracy: 0.7203\n",
            "Epoch 28/50\n",
            "69/69 [==============================] - 13s 188ms/step - loss: 0.2360 - accuracy: 0.9147 - val_loss: 0.9949 - val_accuracy: 0.7125\n",
            "Epoch 29/50\n",
            "69/69 [==============================] - 14s 202ms/step - loss: 0.1980 - accuracy: 0.9317 - val_loss: 1.1627 - val_accuracy: 0.7075\n",
            "Epoch 30/50\n",
            "69/69 [==============================] - 14s 201ms/step - loss: 0.1915 - accuracy: 0.9317 - val_loss: 1.1310 - val_accuracy: 0.7123\n",
            "Epoch 31/50\n",
            "69/69 [==============================] - 13s 186ms/step - loss: 0.1575 - accuracy: 0.9474 - val_loss: 1.2426 - val_accuracy: 0.7162\n",
            "Epoch 32/50\n",
            "69/69 [==============================] - 13s 188ms/step - loss: 0.1470 - accuracy: 0.9505 - val_loss: 1.2811 - val_accuracy: 0.7129\n",
            "Epoch 33/50\n",
            "69/69 [==============================] - 13s 187ms/step - loss: 0.1395 - accuracy: 0.9517 - val_loss: 1.3525 - val_accuracy: 0.7179\n",
            "Epoch 34/50\n",
            "69/69 [==============================] - 14s 203ms/step - loss: 0.1253 - accuracy: 0.9600 - val_loss: 1.4239 - val_accuracy: 0.7099\n",
            "Epoch 35/50\n",
            "69/69 [==============================] - 13s 188ms/step - loss: 0.1203 - accuracy: 0.9602 - val_loss: 1.3807 - val_accuracy: 0.7125\n",
            "Epoch 36/50\n",
            "69/69 [==============================] - 13s 187ms/step - loss: 0.1262 - accuracy: 0.9573 - val_loss: 1.3808 - val_accuracy: 0.7142\n",
            "Epoch 37/50\n",
            "69/69 [==============================] - 14s 202ms/step - loss: 0.1050 - accuracy: 0.9662 - val_loss: 1.4157 - val_accuracy: 0.7145\n",
            "Epoch 38/50\n",
            "69/69 [==============================] - 14s 200ms/step - loss: 0.1035 - accuracy: 0.9662 - val_loss: 1.4969 - val_accuracy: 0.7147\n",
            "Epoch 39/50\n",
            "69/69 [==============================] - 14s 201ms/step - loss: 0.0985 - accuracy: 0.9676 - val_loss: 1.4963 - val_accuracy: 0.7054\n",
            "Epoch 40/50\n",
            "69/69 [==============================] - 14s 203ms/step - loss: 0.1560 - accuracy: 0.9482 - val_loss: 1.4528 - val_accuracy: 0.7134\n",
            "Epoch 41/50\n",
            "69/69 [==============================] - 14s 204ms/step - loss: 0.0951 - accuracy: 0.9692 - val_loss: 1.4877 - val_accuracy: 0.7098\n",
            "Epoch 42/50\n",
            "69/69 [==============================] - 14s 202ms/step - loss: 0.0827 - accuracy: 0.9746 - val_loss: 1.5733 - val_accuracy: 0.7067\n",
            "Epoch 43/50\n",
            "69/69 [==============================] - 13s 187ms/step - loss: 0.0714 - accuracy: 0.9781 - val_loss: 1.6300 - val_accuracy: 0.7107\n",
            "Epoch 44/50\n",
            "69/69 [==============================] - 14s 200ms/step - loss: 0.0612 - accuracy: 0.9809 - val_loss: 1.6921 - val_accuracy: 0.7135\n",
            "Epoch 45/50\n",
            "69/69 [==============================] - 13s 188ms/step - loss: 0.0752 - accuracy: 0.9760 - val_loss: 1.5220 - val_accuracy: 0.7003\n",
            "Epoch 46/50\n",
            "69/69 [==============================] - 14s 203ms/step - loss: 0.2115 - accuracy: 0.9259 - val_loss: 1.0988 - val_accuracy: 0.7066\n",
            "Epoch 47/50\n",
            "69/69 [==============================] - 13s 188ms/step - loss: 0.1595 - accuracy: 0.9448 - val_loss: 1.3698 - val_accuracy: 0.7195\n",
            "Epoch 48/50\n",
            "69/69 [==============================] - 14s 201ms/step - loss: 0.0978 - accuracy: 0.9696 - val_loss: 1.4599 - val_accuracy: 0.7170\n",
            "Epoch 49/50\n",
            "69/69 [==============================] - 14s 201ms/step - loss: 0.0701 - accuracy: 0.9796 - val_loss: 1.5877 - val_accuracy: 0.7145\n",
            "Epoch 50/50\n",
            "69/69 [==============================] - 14s 201ms/step - loss: 0.0641 - accuracy: 0.9812 - val_loss: 1.6229 - val_accuracy: 0.7183\n"
          ]
        }
      ]
    },
    {
      "cell_type": "markdown",
      "source": [
        "## Accuracy and Loss of LSTM\n"
      ],
      "metadata": {
        "id": "0Pg-HMaPygQ4"
      }
    },
    {
      "cell_type": "code",
      "source": [
        "# Accuracy plot for LSTM\n",
        "plt.plot(hist.history['accuracy'])\n",
        "plt.plot(hist.history['val_accuracy'])\n",
        "plt.title('model accuracy')\n",
        "plt.ylabel('accuracy')\n",
        "plt.xlabel('epoch')\n",
        "plt.legend(['train', 'validation'], loc='upper left')\n",
        "plt.show()\n",
        "\n",
        "# Loss plot for LSTM\n",
        "plt.plot(hist.history['loss'])\n",
        "plt.plot(hist.history['val_loss'])\n",
        "plt.title('model loss')\n",
        "plt.ylabel('loss')\n",
        "plt.xlabel('epoch')\n",
        "plt.legend(['train', 'validation'], loc='upper left')\n",
        "plt.show()"
      ],
      "metadata": {
        "colab": {
          "base_uri": "https://localhost:8080/",
          "height": 927
        },
        "id": "XqQMcF2IwsMx",
        "outputId": "3e33a048-ee99-4873-c516-aa81d8e7c54b"
      },
      "execution_count": null,
      "outputs": [
        {
          "output_type": "display_data",
          "data": {
            "text/plain": [
              "<Figure size 640x480 with 1 Axes>"
            ],
            "image/png": "[encoded data removed]"
          },
          "metadata": {}
        },
        {
          "output_type": "display_data",
          "data": {
            "text/plain": [
              "<Figure size 640x480 with 1 Axes>"
            ],
            "image/png": "[encoded data removed]"
          },
          "metadata": {}
        }
      ]
    },
    {
      "cell_type": "code",
      "source": [
        "predictions = model.predict(X_test_pad)\n",
        "predictions = np.argmax(predictions, axis=1)\n",
        "predictions = [class_names[pred] for pred in predictions]"
      ],
      "metadata": {
        "colab": {
          "base_uri": "https://localhost:8080/"
        },
        "id": "5dI6htvWwwfk",
        "outputId": "5d2b6e30-28e1-4fbd-da31-694bd32bc6ec"
      },
      "execution_count": null,
      "outputs": [
        {
          "output_type": "stream",
          "name": "stdout",
          "text": [
            "235/235 [==============================] - 3s 13ms/step\n"
          ]
        }
      ]
    },
    {
      "cell_type": "code",
      "source": [
        "# Plot normalized confusion matrix\n",
        "plot_confusion_matrix(data_test.emotion, predictions, classes=class_names, normalize=True, title='Normalized confusion matrix for LSTM')\n",
        "plt.show()"
      ],
      "metadata": {
        "colab": {
          "base_uri": "https://localhost:8080/",
          "height": 757
        },
        "id": "EvmwRJeOw2SA",
        "outputId": "5be184f5-84e5-4b7d-cd92-433a16adcab0"
      },
      "execution_count": null,
      "outputs": [
        {
          "output_type": "display_data",
          "data": {
            "text/plain": [
              "<Figure size 1250x750 with 2 Axes>"
            ],
            "image/png": "[encoded data removed]"
          },
          "metadata": {}
        }
      ]
    },
    {
      "cell_type": "code",
      "source": [
        "encoding = {\n",
        "    0: 'joy',\n",
        "    1: 'fear',\n",
        "    2: 'anger',\n",
        "    3: 'sadness',\n",
        "    4: 'neutral'\n",
        "}\n",
        "\n",
        "classification_report_model = classification_report(data_test.emotion, predictions, target_names=encoding.values())\n",
        "print(classification_report_model)\n",
        "print(\"Test accuracy of LSTM model: {:.2f}%\".format(accuracy_score(data_test.emotion, predictions) * 100))\n",
        "print(\"\\nF1 Score of LSTM: {:.2f}\".format(f1_score(data_test.emotion, predictions, average='micro') * 100))"
      ],
      "metadata": {
        "colab": {
          "base_uri": "https://localhost:8080/"
        },
        "id": "Z2WDOawbw2sk",
        "outputId": "7f48c2e6-c15e-45ed-8f17-795572f0241b"
      },
      "execution_count": null,
      "outputs": [
        {
          "output_type": "stream",
          "name": "stdout",
          "text": [
            "              precision    recall  f1-score   support\n",
            "\n",
            "         joy       0.78      0.79      0.79      2232\n",
            "        fear       0.65      0.49      0.56       104\n",
            "       anger       0.78      0.71      0.75      1938\n",
            "     sadness       0.67      0.72      0.70      2835\n",
            "     neutral       0.42      0.34      0.37       382\n",
            "\n",
            "    accuracy                           0.72      7491\n",
            "   macro avg       0.66      0.61      0.63      7491\n",
            "weighted avg       0.72      0.72      0.72      7491\n",
            "\n",
            "Test accuracy of LSTM model: 71.83%\n",
            "\n",
            "F1 Score of LSTM: 71.83\n"
          ]
        }
      ]
    },
    {
      "cell_type": "code",
      "source": [
        "# Clear applied layers and model to test new model\n",
        "from keras.backend import clear_session\n",
        "clear_session()"
      ],
      "metadata": {
        "id": "ryCBg3UTx38y"
      },
      "execution_count": null,
      "outputs": []
    },
    {
      "cell_type": "markdown",
      "source": [
        "# **CNN + LSTM Model**"
      ],
      "metadata": {
        "id": "Z7zEXmQu41T7"
      }
    },
    {
      "cell_type": "markdown",
      "source": [
        "## Train CNN + LSTM Model"
      ],
      "metadata": {
        "id": "1TIcxBr6yijm"
      }
    },
    {
      "cell_type": "code",
      "source": [
        "from keras.layers import Embedding, Conv1D, GlobalMaxPooling1D, Reshape, LSTM, Dense"
      ],
      "metadata": {
        "id": "fDvmDhyE7Rqe"
      },
      "execution_count": null,
      "outputs": []
    },
    {
      "cell_type": "code",
      "source": [
        "kernel_size = 3\n",
        "filters = 256\n",
        "\n",
        "model = Sequential()\n",
        "model.add(embedd_layer)\n",
        "model.add(Conv1D(filters, kernel_size, activation='relu'))\n",
        "model.add(GlobalMaxPooling1D())\n",
        "model.add(Reshape((1, 256)))\n",
        "model.add(LSTM(256)) # pass data through LSTM layer after Conv1D layer\n",
        "model.add(Dense(256, activation='relu'))\n",
        "model.add(Dense(num_classes, activation='softmax'))"
      ],
      "metadata": {
        "id": "rK2d_Utj45W9"
      },
      "execution_count": null,
      "outputs": []
    },
    {
      "cell_type": "code",
      "source": [
        "model.compile(loss = 'categorical_crossentropy', optimizer = 'adam', metrics = ['accuracy'])\n",
        "\n",
        "model.summary()"
      ],
      "metadata": {
        "colab": {
          "base_uri": "https://localhost:8080/"
        },
        "id": "hXZ_ziBD6WSb",
        "outputId": "dc2e4a35-6c21-4ab4-8cc2-a50b3f9cd19b"
      },
      "execution_count": null,
      "outputs": [
        {
          "output_type": "stream",
          "name": "stdout",
          "text": [
            "Model: \"sequential\"\n",
            "_________________________________________________________________\n",
            " Layer (type)                Output Shape              Param #   \n",
            "=================================================================\n",
            " embedding (Embedding)       (None, 500, 300)          10491300  \n",
            "                                                                 \n",
            " conv1d (Conv1D)             (None, 498, 256)          230656    \n",
            "                                                                 \n",
            " global_max_pooling1d (Glob  (None, 256)               0         \n",
            " alMaxPooling1D)                                                 \n",
            "                                                                 \n",
            " reshape (Reshape)           (None, 1, 256)            0         \n",
            "                                                                 \n",
            " lstm (LSTM)                 (None, 256)               525312    \n",
            "                                                                 \n",
            " dense (Dense)               (None, 256)               65792     \n",
            "                                                                 \n",
            " dense_1 (Dense)             (None, 5)                 1285      \n",
            "                                                                 \n",
            "=================================================================\n",
            "Total params: 11314345 (43.16 MB)\n",
            "Trainable params: 823045 (3.14 MB)\n",
            "Non-trainable params: 10491300 (40.02 MB)\n",
            "_________________________________________________________________\n"
          ]
        }
      ]
    },
    {
      "cell_type": "code",
      "source": [
        "batch_size = 256\n",
        "epochs = 50\n",
        "\n",
        "hist = model.fit(X_train_pad, y_train,\n",
        "                 batch_size=batch_size,\n",
        "                 epochs=epochs,\n",
        "                 validation_data=(X_test_pad,y_test))"
      ],
      "metadata": {
        "colab": {
          "base_uri": "https://localhost:8080/"
        },
        "id": "3lUuy3f46XBC",
        "outputId": "4d11e471-221f-4886-915e-2a27595882ef"
      },
      "execution_count": null,
      "outputs": [
        {
          "output_type": "stream",
          "name": "stdout",
          "text": [
            "Epoch 1/50\n",
            "69/69 [==============================] - 9s 88ms/step - loss: 1.0977 - accuracy: 0.5302 - val_loss: 0.8412 - val_accuracy: 0.6717\n",
            "Epoch 2/50\n",
            "69/69 [==============================] - 5s 79ms/step - loss: 0.7315 - accuracy: 0.7269 - val_loss: 0.7413 - val_accuracy: 0.7206\n",
            "Epoch 3/50\n",
            "69/69 [==============================] - 5s 69ms/step - loss: 0.5905 - accuracy: 0.7860 - val_loss: 0.7368 - val_accuracy: 0.7281\n",
            "Epoch 4/50\n",
            "69/69 [==============================] - 5s 79ms/step - loss: 0.4223 - accuracy: 0.8558 - val_loss: 0.7685 - val_accuracy: 0.7230\n",
            "Epoch 5/50\n",
            "69/69 [==============================] - 5s 79ms/step - loss: 0.2793 - accuracy: 0.9078 - val_loss: 0.8855 - val_accuracy: 0.7278\n",
            "Epoch 6/50\n",
            "69/69 [==============================] - 5s 69ms/step - loss: 0.1635 - accuracy: 0.9502 - val_loss: 1.0478 - val_accuracy: 0.7141\n",
            "Epoch 7/50\n",
            "69/69 [==============================] - 5s 71ms/step - loss: 0.1232 - accuracy: 0.9620 - val_loss: 1.0955 - val_accuracy: 0.7234\n",
            "Epoch 8/50\n",
            "69/69 [==============================] - 5s 78ms/step - loss: 0.0714 - accuracy: 0.9808 - val_loss: 1.1563 - val_accuracy: 0.7191\n",
            "Epoch 9/50\n",
            "69/69 [==============================] - 5s 71ms/step - loss: 0.0415 - accuracy: 0.9909 - val_loss: 1.2815 - val_accuracy: 0.7194\n",
            "Epoch 10/50\n",
            "69/69 [==============================] - 5s 80ms/step - loss: 0.0374 - accuracy: 0.9923 - val_loss: 1.2792 - val_accuracy: 0.7213\n",
            "Epoch 11/50\n",
            "69/69 [==============================] - 5s 78ms/step - loss: 0.0293 - accuracy: 0.9938 - val_loss: 1.3242 - val_accuracy: 0.7111\n",
            "Epoch 12/50\n",
            "69/69 [==============================] - 5s 76ms/step - loss: 0.0301 - accuracy: 0.9938 - val_loss: 1.3746 - val_accuracy: 0.7181\n",
            "Epoch 13/50\n",
            "69/69 [==============================] - 5s 76ms/step - loss: 0.2167 - accuracy: 0.9435 - val_loss: 0.9672 - val_accuracy: 0.7202\n",
            "Epoch 14/50\n",
            "69/69 [==============================] - 5s 78ms/step - loss: 0.0909 - accuracy: 0.9699 - val_loss: 1.2043 - val_accuracy: 0.7250\n",
            "Epoch 15/50\n",
            "69/69 [==============================] - 5s 67ms/step - loss: 0.0329 - accuracy: 0.9928 - val_loss: 1.2894 - val_accuracy: 0.7283\n",
            "Epoch 16/50\n",
            "69/69 [==============================] - 5s 77ms/step - loss: 0.0258 - accuracy: 0.9941 - val_loss: 1.3938 - val_accuracy: 0.7221\n",
            "Epoch 17/50\n",
            "69/69 [==============================] - 5s 68ms/step - loss: 0.0244 - accuracy: 0.9941 - val_loss: 1.3896 - val_accuracy: 0.7311\n",
            "Epoch 18/50\n",
            "69/69 [==============================] - 5s 77ms/step - loss: 0.0225 - accuracy: 0.9949 - val_loss: 1.3936 - val_accuracy: 0.7322\n",
            "Epoch 19/50\n",
            "69/69 [==============================] - 5s 78ms/step - loss: 0.0240 - accuracy: 0.9949 - val_loss: 1.4113 - val_accuracy: 0.7273\n",
            "Epoch 20/50\n",
            "69/69 [==============================] - 5s 68ms/step - loss: 0.0205 - accuracy: 0.9952 - val_loss: 1.3714 - val_accuracy: 0.7269\n",
            "Epoch 21/50\n",
            "69/69 [==============================] - 5s 77ms/step - loss: 0.0191 - accuracy: 0.9955 - val_loss: 1.4343 - val_accuracy: 0.7258\n",
            "Epoch 22/50\n",
            "69/69 [==============================] - 5s 79ms/step - loss: 0.0185 - accuracy: 0.9954 - val_loss: 1.4276 - val_accuracy: 0.7277\n",
            "Epoch 23/50\n",
            "69/69 [==============================] - 5s 68ms/step - loss: 0.0180 - accuracy: 0.9953 - val_loss: 1.4687 - val_accuracy: 0.7346\n",
            "Epoch 24/50\n",
            "69/69 [==============================] - 5s 68ms/step - loss: 0.0165 - accuracy: 0.9954 - val_loss: 1.4676 - val_accuracy: 0.7291\n",
            "Epoch 25/50\n",
            "69/69 [==============================] - 5s 79ms/step - loss: 0.0171 - accuracy: 0.9955 - val_loss: 1.4646 - val_accuracy: 0.7302\n",
            "Epoch 26/50\n",
            "69/69 [==============================] - 5s 68ms/step - loss: 0.0156 - accuracy: 0.9954 - val_loss: 1.4637 - val_accuracy: 0.7279\n",
            "Epoch 27/50\n",
            "69/69 [==============================] - 5s 77ms/step - loss: 0.0140 - accuracy: 0.9955 - val_loss: 1.4932 - val_accuracy: 0.7306\n",
            "Epoch 28/50\n",
            "69/69 [==============================] - 5s 77ms/step - loss: 0.0138 - accuracy: 0.9955 - val_loss: 1.5848 - val_accuracy: 0.7319\n",
            "Epoch 29/50\n",
            "69/69 [==============================] - 5s 76ms/step - loss: 0.0124 - accuracy: 0.9956 - val_loss: 1.5294 - val_accuracy: 0.7287\n",
            "Epoch 30/50\n",
            "69/69 [==============================] - 5s 78ms/step - loss: 0.0143 - accuracy: 0.9949 - val_loss: 1.5603 - val_accuracy: 0.7359\n",
            "Epoch 31/50\n",
            "69/69 [==============================] - 5s 67ms/step - loss: 0.0127 - accuracy: 0.9953 - val_loss: 1.5089 - val_accuracy: 0.7241\n",
            "Epoch 32/50\n",
            "69/69 [==============================] - 5s 78ms/step - loss: 0.0117 - accuracy: 0.9952 - val_loss: 1.5507 - val_accuracy: 0.7295\n",
            "Epoch 33/50\n",
            "69/69 [==============================] - 5s 71ms/step - loss: 0.0113 - accuracy: 0.9957 - val_loss: 1.6282 - val_accuracy: 0.7311\n",
            "Epoch 34/50\n",
            "69/69 [==============================] - 5s 79ms/step - loss: 0.0115 - accuracy: 0.9957 - val_loss: 1.5788 - val_accuracy: 0.7279\n",
            "Epoch 35/50\n",
            "69/69 [==============================] - 5s 71ms/step - loss: 0.0116 - accuracy: 0.9954 - val_loss: 1.6357 - val_accuracy: 0.7298\n",
            "Epoch 36/50\n",
            "69/69 [==============================] - 5s 79ms/step - loss: 0.0113 - accuracy: 0.9956 - val_loss: 1.7006 - val_accuracy: 0.7302\n",
            "Epoch 37/50\n",
            "69/69 [==============================] - 5s 68ms/step - loss: 0.0103 - accuracy: 0.9958 - val_loss: 1.6344 - val_accuracy: 0.7275\n",
            "Epoch 38/50\n",
            "69/69 [==============================] - 5s 77ms/step - loss: 0.0109 - accuracy: 0.9955 - val_loss: 1.7811 - val_accuracy: 0.7223\n",
            "Epoch 39/50\n",
            "69/69 [==============================] - 5s 78ms/step - loss: 0.0109 - accuracy: 0.9959 - val_loss: 1.8291 - val_accuracy: 0.7251\n",
            "Epoch 40/50\n",
            "69/69 [==============================] - 5s 67ms/step - loss: 0.0103 - accuracy: 0.9957 - val_loss: 1.9109 - val_accuracy: 0.7267\n",
            "Epoch 41/50\n",
            "69/69 [==============================] - 5s 68ms/step - loss: 0.0106 - accuracy: 0.9956 - val_loss: 1.6581 - val_accuracy: 0.7261\n",
            "Epoch 42/50\n",
            "69/69 [==============================] - 5s 80ms/step - loss: 0.0101 - accuracy: 0.9959 - val_loss: 1.7564 - val_accuracy: 0.7215\n",
            "Epoch 43/50\n",
            "69/69 [==============================] - 5s 77ms/step - loss: 0.0093 - accuracy: 0.9959 - val_loss: 1.8046 - val_accuracy: 0.7283\n",
            "Epoch 44/50\n",
            "69/69 [==============================] - 5s 76ms/step - loss: 0.0101 - accuracy: 0.9957 - val_loss: 1.7780 - val_accuracy: 0.7241\n",
            "Epoch 45/50\n",
            "69/69 [==============================] - 5s 78ms/step - loss: 0.0088 - accuracy: 0.9958 - val_loss: 1.8451 - val_accuracy: 0.7241\n",
            "Epoch 46/50\n",
            "69/69 [==============================] - 5s 67ms/step - loss: 0.0091 - accuracy: 0.9959 - val_loss: 1.8962 - val_accuracy: 0.7249\n",
            "Epoch 47/50\n",
            "69/69 [==============================] - 5s 76ms/step - loss: 0.0087 - accuracy: 0.9959 - val_loss: 1.9754 - val_accuracy: 0.7255\n",
            "Epoch 48/50\n",
            "69/69 [==============================] - 5s 70ms/step - loss: 0.0085 - accuracy: 0.9957 - val_loss: 1.8166 - val_accuracy: 0.7233\n",
            "Epoch 49/50\n",
            "69/69 [==============================] - 5s 68ms/step - loss: 0.0095 - accuracy: 0.9955 - val_loss: 1.9544 - val_accuracy: 0.7233\n",
            "Epoch 50/50\n",
            "69/69 [==============================] - 5s 67ms/step - loss: 0.0084 - accuracy: 0.9955 - val_loss: 1.8551 - val_accuracy: 0.7247\n"
          ]
        }
      ]
    },
    {
      "cell_type": "markdown",
      "source": [
        "## Accuracy and Loss of CNN + LSTM"
      ],
      "metadata": {
        "id": "n19rjm8Gym-3"
      }
    },
    {
      "cell_type": "code",
      "source": [
        "# Accuracy plot for CNN+LSTM\n",
        "plt.plot(hist.history['accuracy'])\n",
        "plt.plot(hist.history['val_accuracy'])\n",
        "plt.title('model accuracy')\n",
        "plt.ylabel('accuracy')\n",
        "plt.xlabel('epoch')\n",
        "plt.legend(['train', 'validation'], loc='upper left')\n",
        "plt.show()\n",
        "\n",
        "# Loss plot for CNN+LSTM\n",
        "plt.plot(hist.history['loss'])\n",
        "plt.plot(hist.history['val_loss'])\n",
        "plt.title('model loss')\n",
        "plt.ylabel('loss')\n",
        "plt.xlabel('epoch')\n",
        "plt.legend(['train', 'validation'], loc='upper left')\n",
        "plt.show()"
      ],
      "metadata": {
        "colab": {
          "base_uri": "https://localhost:8080/",
          "height": 927
        },
        "id": "dcI1z0wv6cVa",
        "outputId": "4722bcba-db26-4a4d-b477-50f72fcc4892"
      },
      "execution_count": null,
      "outputs": [
        {
          "output_type": "display_data",
          "data": {
            "text/plain": [
              "<Figure size 640x480 with 1 Axes>"
            ],
            "image/png": "[encoded data removed]"
          },
          "metadata": {}
        },
        {
          "output_type": "display_data",
          "data": {
            "text/plain": [
              "<Figure size 640x480 with 1 Axes>"
            ],
            "image/png": "[encoded data removed]"
          },
          "metadata": {}
        }
      ]
    },
    {
      "cell_type": "code",
      "source": [
        "predictions = model.predict(X_test_pad)\n",
        "predictions = np.argmax(predictions, axis=1)\n",
        "predictions = [class_names[pred] for pred in predictions]"
      ],
      "metadata": {
        "colab": {
          "base_uri": "https://localhost:8080/"
        },
        "id": "qIQN1pWl6c_U",
        "outputId": "e38c46bf-1f37-438d-9536-895adc86c83d"
      },
      "execution_count": null,
      "outputs": [
        {
          "output_type": "stream",
          "name": "stdout",
          "text": [
            "235/235 [==============================] - 1s 4ms/step\n"
          ]
        }
      ]
    },
    {
      "cell_type": "code",
      "source": [
        "# Plot normalized confusion matrix\n",
        "plot_confusion_matrix(data_test.emotion, predictions, classes=class_names, normalize=True, title='Normalized confusion matrix for CNN + LSTM')\n",
        "plt.show()"
      ],
      "metadata": {
        "colab": {
          "base_uri": "https://localhost:8080/",
          "height": 757
        },
        "id": "jYtbUQzH6pDO",
        "outputId": "de154c7c-ce6e-4928-b048-bac0c1601ac1"
      },
      "execution_count": null,
      "outputs": [
        {
          "output_type": "display_data",
          "data": {
            "text/plain": [
              "<Figure size 1250x750 with 2 Axes>"
            ],
            "image/png": "[encoded data removed]"
          },
          "metadata": {}
        }
      ]
    },
    {
      "cell_type": "code",
      "source": [
        "encoding = {\n",
        "    0: 'joy',\n",
        "    1: 'fear',\n",
        "    2: 'anger',\n",
        "    3: 'sadness',\n",
        "    4: 'neutral'\n",
        "}\n",
        "\n",
        "classification_report_model = classification_report(data_test.emotion, predictions, target_names=encoding.values())\n",
        "print(classification_report_model)\n",
        "print(\"Test accuracy of CNN+LSTM model: {:.2f}%\".format(accuracy_score(data_test.emotion, predictions) * 100))\n",
        "print(\"\\nF1 Score of CNN+LSTM: {:.2f}\".format(f1_score(data_test.emotion, predictions, average='micro') * 100))"
      ],
      "metadata": {
        "colab": {
          "base_uri": "https://localhost:8080/"
        },
        "id": "8NmqU-fJ6sU1",
        "outputId": "9306f15b-4dec-40c7-a31c-4b95aa9bfd06"
      },
      "execution_count": null,
      "outputs": [
        {
          "output_type": "stream",
          "name": "stdout",
          "text": [
            "              precision    recall  f1-score   support\n",
            "\n",
            "         joy       0.79      0.82      0.80      2232\n",
            "        fear       0.48      0.57      0.52       104\n",
            "       anger       0.79      0.70      0.74      1938\n",
            "     sadness       0.68      0.73      0.70      2835\n",
            "     neutral       0.41      0.26      0.32       382\n",
            "\n",
            "    accuracy                           0.72      7491\n",
            "   macro avg       0.63      0.62      0.62      7491\n",
            "weighted avg       0.72      0.72      0.72      7491\n",
            "\n",
            "Test accuracy of CNN+LSTM model: 72.47%\n",
            "\n",
            "F1 Score of CNN+LSTM: 72.47\n"
          ]
        }
      ]
    },
    {
      "cell_type": "markdown",
      "metadata": {
        "id": "ChjLIM4DNmBj"
      },
      "source": [
        "# Let's try other inputs:"
      ]
    },
    {
      "cell_type": "code",
      "execution_count": null,
      "metadata": {
        "colab": {
          "base_uri": "https://localhost:8080/"
        },
        "id": "JND1g815NmBk",
        "outputId": "294b9088-181d-44bf-d26b-013e373d08c6"
      },
      "outputs": [
        {
          "output_type": "stream",
          "name": "stdout",
          "text": [
            "1/1 [==============================] - 0s 57ms/step\n",
            "Message: ['I really enjoyed this ML course.']\n",
            "predicted: joy (0.11 seconds)\n"
          ]
        }
      ],
      "source": [
        "import time\n",
        "\n",
        "message = ['I really enjoyed this ML course.']\n",
        "\n",
        "seq = tokenizer.texts_to_sequences(message)\n",
        "padded = pad_sequences(seq, maxlen=max_seq_len)\n",
        "\n",
        "start_time = time.time()\n",
        "pred = model.predict(padded)\n",
        "\n",
        "print('Message: ' + str(message))\n",
        "print('predicted: {} ({:.2f} seconds)'.format(class_names[np.argmax(pred)], (time.time() - start_time)))"
      ]
    },
    {
      "cell_type": "code",
      "source": [
        "# Clear applied layers and model to test new model\n",
        "from keras.backend import clear_session\n",
        "clear_session()"
      ],
      "metadata": {
        "id": "yUA4fhI-x51d"
      },
      "execution_count": null,
      "outputs": []
    },
    {
      "cell_type": "markdown",
      "source": [
        "# **SVM**"
      ],
      "metadata": {
        "id": "oWErCGZXIGps"
      }
    },
    {
      "cell_type": "code",
      "source": [
        "# Applying an SVM model for comparison purposes\n",
        "\n",
        "import random\n",
        "from nltk.corpus import stopwords\n",
        "from sklearn.feature_extraction.text import TfidfVectorizer\n",
        "from sklearn.svm import SVC\n",
        "from sklearn.feature_selection import SelectKBest, chi2\n",
        "\n",
        "nltk.download('stopwords')\n",
        "\n",
        "stop_words = set(stopwords.words('english'))\n",
        "\n",
        "tokenized_tweets = [' '.join(word_tokenize(str(tweet).lower())) for tweet in data['Text']]\n",
        "emotions = data['emotion']\n",
        "\n",
        "tfidf_vectorizer = TfidfVectorizer(max_features=5000, stop_words=stopwords.words('english'), ngram_range=(1, 2))\n",
        "X = tfidf_vectorizer.fit_transform(tokenized_tweets)\n",
        "\n",
        "chi2_selector = SelectKBest(chi2, k=2000)\n",
        "X = chi2_selector.fit_transform(X, emotions)\n",
        "\n",
        "X_train, X_test, y_train, y_test = train_test_split(X, emotions, test_size=0.3, random_state=42)\n",
        "\n",
        "classifier = SVC(kernel='linear', C=1.0)\n",
        "classifier.fit(X_train, y_train)\n",
        "\n",
        "y_pred = classifier.predict(X_test)\n",
        "\n",
        "classification_report_model = classification_report(y_test, y_pred, target_names=encoding.values())\n",
        "print(classification_report_model)\n",
        "accuracy = accuracy_score(y_test, y_pred)\n",
        "print(\"Test accuracy of SVM model: {:.2f}%\".format(accuracy * 100))"
      ],
      "metadata": {
        "colab": {
          "base_uri": "https://localhost:8080/"
        },
        "id": "MgYB1sVQILJ8",
        "outputId": "55ade5bd-5536-4427-be1b-9bed0b6814fa"
      },
      "execution_count": null,
      "outputs": [
        {
          "output_type": "stream",
          "name": "stderr",
          "text": [
            "[nltk_data] Downloading package stopwords to /root/nltk_data...\n",
            "[nltk_data]   Unzipping corpora/stopwords.zip.\n"
          ]
        },
        {
          "output_type": "stream",
          "name": "stdout",
          "text": [
            "              precision    recall  f1-score   support\n",
            "\n",
            "         joy       0.80      0.76      0.78      2221\n",
            "        fear       0.97      0.30      0.45       115\n",
            "       anger       0.84      0.58      0.69      1901\n",
            "     sadness       0.61      0.85      0.71      2841\n",
            "     neutral       0.72      0.14      0.24       413\n",
            "\n",
            "    accuracy                           0.71      7491\n",
            "   macro avg       0.79      0.52      0.57      7491\n",
            "weighted avg       0.74      0.71      0.69      7491\n",
            "\n",
            "Test accuracy of SVM model: 70.52%\n"
          ]
        }
      ]
    },
    {
      "cell_type": "code",
      "source": [
        "#Testing using SVM\n",
        "new_tweet = \"I am the best\"\n",
        "new_tweet_vectorized = tfidf_vectorizer.transform([new_tweet])\n",
        "new_tweet_features = chi2_selector.transform(new_tweet_vectorized)\n",
        "emotion = classifier.predict(new_tweet_features)\n",
        "print(\"Emotion for the new tweet:\", emotion[0])"
      ],
      "metadata": {
        "colab": {
          "base_uri": "https://localhost:8080/"
        },
        "id": "4r8BDT0HL8pf",
        "outputId": "f7a449a9-6e45-4b19-eef8-14c4ca21a7c6"
      },
      "execution_count": null,
      "outputs": [
        {
          "output_type": "stream",
          "name": "stdout",
          "text": [
            "Emotion for the new tweet: joy\n"
          ]
        }
      ]
    },
    {
      "cell_type": "code",
      "source": [
        "# Clear applied layers and model to test new model\n",
        "from keras.backend import clear_session\n",
        "clear_session()"
      ],
      "metadata": {
        "id": "2W4cCS4Cx7Cq"
      },
      "execution_count": null,
      "outputs": []
    },
    {
      "cell_type": "markdown",
      "source": [
        "# **Naive Bayes Classifier**"
      ],
      "metadata": {
        "id": "hS9Vd6B_MEqk"
      }
    },
    {
      "cell_type": "code",
      "source": [
        "from sklearn.naive_bayes import MultinomialNB\n",
        "from nltk.classify import NaiveBayesClassifier\n",
        "\n",
        "classifier = MultinomialNB()\n",
        "classifier.fit(X_train, y_train)\n",
        "\n",
        "y_pred = classifier.predict(X_test)\n",
        "accuracy = accuracy_score(y_test, y_pred)\n",
        "\n",
        "classification_report_model = classification_report(y_test, y_pred, target_names=encoding.values())\n",
        "print(classification_report_model)\n",
        "accuracy = accuracy_score(y_test, y_pred)\n",
        "print(\"Test accuracy of Naive Bayes model: {:.2f}%\".format(accuracy * 100))"
      ],
      "metadata": {
        "colab": {
          "base_uri": "https://localhost:8080/"
        },
        "id": "YmP6FQ2mMZgg",
        "outputId": "c84428d9-f5d4-420c-903e-34cf6feed3e6"
      },
      "execution_count": null,
      "outputs": [
        {
          "output_type": "stream",
          "name": "stdout",
          "text": [
            "              precision    recall  f1-score   support\n",
            "\n",
            "         joy       0.71      0.81      0.76      2221\n",
            "        fear       1.00      0.12      0.22       115\n",
            "       anger       0.83      0.57      0.68      1901\n",
            "     sadness       0.61      0.78      0.68      2841\n",
            "     neutral       0.75      0.03      0.06       413\n",
            "\n",
            "    accuracy                           0.68      7491\n",
            "   macro avg       0.78      0.46      0.48      7491\n",
            "weighted avg       0.71      0.68      0.66      7491\n",
            "\n",
            "Test accuracy of Naive Bayes model: 68.38%\n"
          ]
        }
      ]
    },
    {
      "cell_type": "code",
      "source": [
        "#Testing using NB\n",
        "new_tweet = \"I'm feeling so happy today.\"\n",
        "new_tweet_vectorized = tfidf_vectorizer.transform([new_tweet])\n",
        "new_tweet_features = chi2_selector.transform(new_tweet_vectorized)\n",
        "emotion = classifier.predict(new_tweet_features)\n",
        "print(\"Emotion for the new tweet:\", emotion[0])"
      ],
      "metadata": {
        "colab": {
          "base_uri": "https://localhost:8080/"
        },
        "id": "LMvNnAdTNDCz",
        "outputId": "4acf3943-292f-47e3-e947-725024d76109"
      },
      "execution_count": null,
      "outputs": [
        {
          "output_type": "stream",
          "name": "stdout",
          "text": [
            "Emotion for the new tweet: joy\n"
          ]
        }
      ]
    }
  ],
  "metadata": {
    "accelerator": "GPU",
    "colab": {
      "provenance": []
    },
    "kernelspec": {
      "display_name": "Python 3",
      "language": "python",
      "name": "python3"
    },
    "language_info": {
      "codemirror_mode": {
        "name": "ipython",
        "version": 3
      },
      "file_extension": ".py",
      "mimetype": "text/x-python",
      "name": "python",
      "nbconvert_exporter": "python",
      "pygments_lexer": "ipython3",
      "version": "3.8.10"
    }
  },
  "nbformat": 4,
  "nbformat_minor": 0
}